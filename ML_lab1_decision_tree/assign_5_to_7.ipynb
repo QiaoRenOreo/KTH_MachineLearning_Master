{
 "cells": [
  {
   "cell_type": "code",
   "execution_count": 1,
   "metadata": {},
   "outputs": [
    {
     "ename": "ModuleNotFoundError",
     "evalue": "No module named 'import_ipynb'",
     "output_type": "error",
     "traceback": [
      "\u001b[1;31m---------------------------------------------------------------------------\u001b[0m",
      "\u001b[1;31mModuleNotFoundError\u001b[0m                       Traceback (most recent call last)",
      "\u001b[1;32m<ipython-input-1-95c2ac31d910>\u001b[0m in \u001b[0;36m<module>\u001b[1;34m\u001b[0m\n\u001b[1;32m----> 1\u001b[1;33m \u001b[1;32mimport\u001b[0m \u001b[0mimport_ipynb\u001b[0m\u001b[1;33m\u001b[0m\u001b[1;33m\u001b[0m\u001b[0m\n\u001b[0m\u001b[0;32m      2\u001b[0m \u001b[1;32mimport\u001b[0m \u001b[0mPyQt5\u001b[0m\u001b[1;33m\u001b[0m\u001b[1;33m\u001b[0m\u001b[0m\n\u001b[0;32m      3\u001b[0m \u001b[1;32mimport\u001b[0m \u001b[0mdrawtree_qt5\u001b[0m \u001b[1;32mas\u001b[0m \u001b[0mdrawT\u001b[0m\u001b[1;33m\u001b[0m\u001b[1;33m\u001b[0m\u001b[0m\n\u001b[0;32m      4\u001b[0m \u001b[1;32mimport\u001b[0m \u001b[0mmonkdata\u001b[0m \u001b[1;32mas\u001b[0m \u001b[0mm\u001b[0m\u001b[1;33m\u001b[0m\u001b[1;33m\u001b[0m\u001b[0m\n\u001b[0;32m      5\u001b[0m \u001b[1;32mimport\u001b[0m \u001b[0mdtree\u001b[0m \u001b[1;32mas\u001b[0m \u001b[0mdtree\u001b[0m\u001b[1;33m\u001b[0m\u001b[1;33m\u001b[0m\u001b[0m\n",
      "\u001b[1;31mModuleNotFoundError\u001b[0m: No module named 'import_ipynb'"
     ]
    }
   ],
   "source": [
    "import import_ipynb\n",
    "import PyQt5\n",
    "import drawtree_qt5 as drawT\n",
    "import monkdata as m\n",
    "import dtree as dtree\n",
    "import sys, os, imp\n",
    "import sys\n",
    "# sys.path"
   ]
  },
  {
   "cell_type": "code",
   "execution_count": 3,
   "metadata": {},
   "outputs": [
    {
     "name": "stdout",
     "output_type": "stream",
     "text": [
      "0.0\n",
      "0.0\n",
      "0.0\n",
      "0.0\n",
      "0.0\n",
      "0.0\n"
     ]
    }
   ],
   "source": [
    "monk1_attri5_subset1=dtree.select(m.monk1, m.attributes[4], 1)\n",
    "\n",
    "\n",
    "monk1_attri5_subset1_attri0 = dtree.averageGain(monk1_attri5_subset1 , m.attributes[0])\n",
    "monk1_attri5_subset1_attri1 = dtree.averageGain(monk1_attri5_subset1 , m.attributes[1])\n",
    "monk1_attri5_subset1_attri2 = dtree.averageGain(monk1_attri5_subset1 , m.attributes[2])\n",
    "monk1_attri5_subset1_attri3 = dtree.averageGain(monk1_attri5_subset1 , m.attributes[3])\n",
    "monk1_attri5_subset1_attri4 = dtree.averageGain(monk1_attri5_subset1 , m.attributes[4])\n",
    "monk1_attri5_subset1_attri5 = dtree.averageGain(monk1_attri5_subset1 , m.attributes[5])\n",
    "\n",
    "\n",
    "print(round(monk1_attri5_subset1_attri0, 4) )\n",
    "print(round(monk1_attri5_subset1_attri1, 4) )\n",
    "print(round(monk1_attri5_subset1_attri2, 4) )\n",
    "print(round(monk1_attri5_subset1_attri3, 4) )\n",
    "print(round(monk1_attri5_subset1_attri4, 4) )\n",
    "print(round(monk1_attri5_subset1_attri5, 4) )\n",
    "\n"
   ]
  },
  {
   "cell_type": "code",
   "execution_count": 4,
   "metadata": {},
   "outputs": [
    {
     "name": "stdout",
     "output_type": "stream",
     "text": [
      "0.0402\n",
      "0.0151\n",
      "0.0373\n",
      "0.0489\n",
      "0.0\n",
      "0.0258\n"
     ]
    }
   ],
   "source": [
    "monk1_attri5_subset2=dtree.select(m.monk1, m.attributes[4], 2)\n",
    "monk1_attri5_subset2_attri0 = dtree.averageGain(monk1_attri5_subset2 , m.attributes[0])\n",
    "monk1_attri5_subset2_attri1 = dtree.averageGain(monk1_attri5_subset2 , m.attributes[1])\n",
    "monk1_attri5_subset2_attri2 = dtree.averageGain(monk1_attri5_subset2 , m.attributes[2])\n",
    "monk1_attri5_subset2_attri3 = dtree.averageGain(monk1_attri5_subset2 , m.attributes[3])\n",
    "monk1_attri5_subset2_attri4 = dtree.averageGain(monk1_attri5_subset2 , m.attributes[4])\n",
    "monk1_attri5_subset2_attri5 = dtree.averageGain(monk1_attri5_subset2 , m.attributes[5])\n",
    "\n",
    "print(round(monk1_attri5_subset2_attri0, 4) )\n",
    "print(round(monk1_attri5_subset2_attri1, 4) )\n",
    "print(round(monk1_attri5_subset2_attri2, 4) )\n",
    "print(round(monk1_attri5_subset2_attri3, 4) )\n",
    "print(round(monk1_attri5_subset2_attri4, 4) )\n",
    "print(round(monk1_attri5_subset2_attri5, 4) )"
   ]
  },
  {
   "cell_type": "code",
   "execution_count": 5,
   "metadata": {},
   "outputs": [
    {
     "name": "stdout",
     "output_type": "stream",
     "text": [
      "0.0331\n",
      "0.0022\n",
      "0.018\n",
      "0.0191\n",
      "0.0\n",
      "0.0451\n"
     ]
    }
   ],
   "source": [
    "monk1_attri5_subset3=dtree.select(m.monk1, m.attributes[4], 3)\n",
    "monk1_attri5_subset3_attri0 = dtree.averageGain(monk1_attri5_subset3 , m.attributes[0])\n",
    "monk1_attri5_subset3_attri1 = dtree.averageGain(monk1_attri5_subset3 , m.attributes[1])\n",
    "monk1_attri5_subset3_attri2 = dtree.averageGain(monk1_attri5_subset3 , m.attributes[2])\n",
    "monk1_attri5_subset3_attri3 = dtree.averageGain(monk1_attri5_subset3 , m.attributes[3])\n",
    "monk1_attri5_subset3_attri4 = dtree.averageGain(monk1_attri5_subset3 , m.attributes[4])\n",
    "monk1_attri5_subset3_attri5 = dtree.averageGain(monk1_attri5_subset3 , m.attributes[5])\n",
    "\n",
    "print(round(monk1_attri5_subset3_attri0, 4) )\n",
    "print(round(monk1_attri5_subset3_attri1, 4) )\n",
    "print(round(monk1_attri5_subset3_attri2, 4) )\n",
    "print(round(monk1_attri5_subset3_attri3, 4) )\n",
    "print(round(monk1_attri5_subset3_attri4, 4) )\n",
    "print(round(monk1_attri5_subset3_attri5, 4) )"
   ]
  },
  {
   "cell_type": "code",
   "execution_count": 6,
   "metadata": {},
   "outputs": [
    {
     "name": "stdout",
     "output_type": "stream",
     "text": [
      "0.2063\n",
      "0.0339\n",
      "0.0259\n",
      "0.0759\n",
      "0.0\n",
      "0.0033\n"
     ]
    }
   ],
   "source": [
    "monk1_attri5_subset4=dtree.select(m.monk1, m.attributes[4], 4)\n",
    "monk1_attri5_subset4_attri0 = dtree.averageGain(monk1_attri5_subset4 , m.attributes[0])\n",
    "monk1_attri5_subset4_attri1 = dtree.averageGain(monk1_attri5_subset4 , m.attributes[1])\n",
    "monk1_attri5_subset4_attri2 = dtree.averageGain(monk1_attri5_subset4 , m.attributes[2])\n",
    "monk1_attri5_subset4_attri3 = dtree.averageGain(monk1_attri5_subset4 , m.attributes[3])\n",
    "monk1_attri5_subset4_attri4 = dtree.averageGain(monk1_attri5_subset4 , m.attributes[4])\n",
    "monk1_attri5_subset4_attri5 = dtree.averageGain(monk1_attri5_subset4 , m.attributes[5])\n",
    "\n",
    "print(round(monk1_attri5_subset4_attri0, 4) )\n",
    "print(round(monk1_attri5_subset4_attri1, 4) )\n",
    "print(round(monk1_attri5_subset4_attri2, 4) )\n",
    "print(round(monk1_attri5_subset4_attri3, 4) )\n",
    "print(round(monk1_attri5_subset4_attri4, 4) )\n",
    "print(round(monk1_attri5_subset4_attri5, 4) )"
   ]
  },
  {
   "cell_type": "code",
   "execution_count": 93,
   "metadata": {},
   "outputs": [
    {
     "name": "stdout",
     "output_type": "stream",
     "text": [
      "A1\n",
      "(1, 2, 3)\n"
     ]
    }
   ],
   "source": [
    "BA=dtree.bestAttribute(monk1_attri5_subset1, m.attributes)\n",
    "print(BA)\n",
    "print(BA.values)"
   ]
  },
  {
   "cell_type": "code",
   "execution_count": 8,
   "metadata": {},
   "outputs": [
    {
     "data": {
      "text/plain": [
       "A4"
      ]
     },
     "execution_count": 8,
     "metadata": {},
     "output_type": "execute_result"
    }
   ],
   "source": [
    "dtree.bestAttribute(monk1_attri5_subset2, m.attributes)\n"
   ]
  },
  {
   "cell_type": "code",
   "execution_count": 9,
   "metadata": {},
   "outputs": [
    {
     "data": {
      "text/plain": [
       "A6"
      ]
     },
     "execution_count": 9,
     "metadata": {},
     "output_type": "execute_result"
    }
   ],
   "source": [
    "dtree.bestAttribute(monk1_attri5_subset3, m.attributes)\n"
   ]
  },
  {
   "cell_type": "code",
   "execution_count": 10,
   "metadata": {},
   "outputs": [
    {
     "data": {
      "text/plain": [
       "A1"
      ]
     },
     "execution_count": 10,
     "metadata": {},
     "output_type": "execute_result"
    }
   ],
   "source": [
    "dtree.bestAttribute(monk1_attri5_subset4, m.attributes)"
   ]
  },
  {
   "cell_type": "code",
   "execution_count": 103,
   "metadata": {},
   "outputs": [
    {
     "name": "stdout",
     "output_type": "stream",
     "text": [
      "A1\n",
      "1\n",
      "True\n",
      "2\n",
      "True\n",
      "3\n",
      "True\n",
      "A4\n",
      "1\n",
      "False\n",
      "2\n",
      "False\n",
      "3\n",
      "False\n",
      "A6\n",
      "1\n",
      "False\n",
      "2\n",
      "False\n",
      "A1\n",
      "1\n",
      "False\n",
      "2\n",
      "False\n",
      "3\n",
      "True\n"
     ]
    }
   ],
   "source": [
    "monk1bestattribute=dtree.bestAttribute (m.monk1, m.attributes)\n",
    "for i in monk1bestattribute.values:\n",
    "    monksplit=dtree.select(m.monk1,monk1bestattribute, i)\n",
    "    monk1bestattribute2=dtree.bestAttribute(monksplit,m.attributes)\n",
    "    print(monk1bestattribute2)\n",
    "    for j in monk1bestattribute2.values:\n",
    "        print(j) \n",
    "        monksplit2=dtree.select(monksplit,monk1bestattribute2, j)\n",
    "        print(dtree.mostCommon(monksplit2))"
   ]
  },
  {
   "cell_type": "code",
   "execution_count": 11,
   "metadata": {},
   "outputs": [],
   "source": [
    "# ????\n",
    "# For the monk1 data draw the decision tree up to the first two levels \n",
    "t1_TwoLevels=dtree.buildTree(m.monk1, m.attributes)"
   ]
  },
  {
   "cell_type": "code",
   "execution_count": 12,
   "metadata": {},
   "outputs": [],
   "source": [
    "t1=dtree.buildTree(m.monk1, m.attributes)\n",
    "# drawT.drawTree(t1)\n"
   ]
  },
  {
   "cell_type": "code",
   "execution_count": 13,
   "metadata": {},
   "outputs": [],
   "source": [
    "t2=dtree.buildTree(m.monk2, m.attributes)\n",
    "# drawT.drawTree(t2)"
   ]
  },
  {
   "cell_type": "code",
   "execution_count": 14,
   "metadata": {},
   "outputs": [],
   "source": [
    "t3=dtree.buildTree(m.monk3, m.attributes)\n",
    "# drawT.drawTree(t3)"
   ]
  },
  {
   "cell_type": "code",
   "execution_count": 15,
   "metadata": {},
   "outputs": [],
   "source": [
    "maj_class_monk1 = dtree.mostCommon(m.monk1)\n",
    "maj_class_monk2 = dtree.mostCommon(m.monk2)\n",
    "maj_class_monk3 = dtree.mostCommon(m.monk3)"
   ]
  },
  {
   "cell_type": "code",
   "execution_count": 16,
   "metadata": {},
   "outputs": [
    {
     "name": "stdout",
     "output_type": "stream",
     "text": [
      "1.0\n",
      "0.8287037037037037\n",
      "1.0\n",
      "0.6921296296296297\n",
      "1.0\n",
      "0.9444444444444444\n"
     ]
    }
   ],
   "source": [
    "t1=dtree.buildTree(m.monk1, m.attributes);\n",
    "print(dtree.check(t1, m.monk1))\n",
    "print(dtree.check(t1, m.monk1test))\n",
    "\n",
    "t2=dtree.buildTree(m.monk2, m.attributes);\n",
    "print(dtree.check(t2, m.monk2))\n",
    "print(dtree.check(t2, m.monk2test))\n",
    "\n",
    "t3=dtree.buildTree(m.monk3, m.attributes);\n",
    "print(dtree.check(t3, m.monk3))\n",
    "print(dtree.check(t3, m.monk3test))\n",
    "# drawT.drawTree(t)"
   ]
  },
  {
   "cell_type": "code",
   "execution_count": 17,
   "metadata": {},
   "outputs": [
    {
     "name": "stdout",
     "output_type": "stream",
     "text": [
      "A5(+A4(A1(A2(+--)A2(-++)A2(--+))A2(-+-)A3(A1(A2(+--)+A2(-++))A2(--A1(--+))))A6(A4(A3(A1(A2(+--)A2(-+-)-)-)A1(A2(+--)--)-)A3(A4(A1(+--)A1(-++)+)A1(-A2(-+-)A2(--+))))A1(A2(+--)A2(-+-)A2(+-+)))\n"
     ]
    }
   ],
   "source": [
    "print(t1)\n"
   ]
  },
  {
   "cell_type": "code",
   "execution_count": 18,
   "metadata": {},
   "outputs": [
    {
     "name": "stdout",
     "output_type": "stream",
     "text": [
      "A5(A3(A6(-A1(-A2(--A4(--+))A2(-A4(-+-)-)))A4(A2(--A1(-+-))+A1(A2(-A6(-+)-)A2(A6(-+)++)+)))A3(A4(A2(-+-)A6(A1(--+)+)A1(A2(-++)++))A2(A4(++A1(+-A6(+-)))-A1(+A4(+--)-)))A3(A6(A1(-A4(-++)A4(--+))A2(+A1(+-A4(+--))A4(A1(-++)A1(+--)-)))A4(A2(A6(-+)A6(+-)A1(A6(-+)++))A1(A2(-+-)--)A1(A6(+-)--)))A2(A6(-A1(+-A4(++-)))A1(A4(-A3(-+)A3(A6(-+)A6(+-)))A3(+A6(+-))-)A3(A4(--+)-)))\n"
     ]
    }
   ],
   "source": [
    "print(t2)\n"
   ]
  },
  {
   "cell_type": "code",
   "execution_count": 19,
   "metadata": {},
   "outputs": [
    {
     "name": "stdout",
     "output_type": "stream",
     "text": [
      "A2(A5(++A4(A1(--+)++)-)A5(+A1(+A4(+-+)+)A3(A4(+A1(--+)A1(+--))+)-)A4(A5(--+A1(--+))--))\n"
     ]
    }
   ],
   "source": [
    "print(t3)"
   ]
  },
  {
   "cell_type": "code",
   "execution_count": 20,
   "metadata": {},
   "outputs": [],
   "source": [
    "import random\n",
    "def partition(data, fraction):\n",
    "    ldata = list(data)\n",
    "    random.shuffle(ldata)\n",
    "    breakPoint = int(len(ldata) * fraction)\n",
    "    return ldata[:breakPoint], ldata[breakPoint:]\n",
    "\n",
    "def bestPrunedTree(monk1train, monk1val, attributes):\n",
    "    bestTree_valAccu=[]\n",
    "    t1_parti=dtree.buildTree(monk1train, attributes);\n",
    "    list_possible_prun_t1 = dtree.allPruned(t1_parti)\n",
    "    len_prun_t1=len(list_possible_prun_t1)\n",
    "    val_accu_list=[0]\n",
    "\n",
    "    for i in range (1,len_prun_t1):\n",
    "        tree=list_possible_prun_t1[i]\n",
    "        val_accu =dtree.check(tree, monk1val)\n",
    "        val_accu_list.append(val_accu)\n",
    "    max_value = max(val_accu_list)\n",
    "    max_index = val_accu_list.index(max_value)\n",
    "    best_pruned_t1=list_possible_prun_t1[max_index]\n",
    "    \n",
    "    bestTree_valAccu.append(best_pruned_t1)\n",
    "    bestTree_valAccu.append(max_value)\n",
    "    \n",
    "\n",
    "    return bestTree_valAccu\n",
    "\n",
    "\n"
   ]
  },
  {
   "cell_type": "code",
   "execution_count": 90,
   "metadata": {
    "scrolled": true
   },
   "outputs": [
    {
     "name": "stdout",
     "output_type": "stream",
     "text": [
      "[0.3, 0.4, 0.5, 0.6, 0.7, 0.8]\n",
      "mean: [0.23791666666666667, 0.21381944444444442, 0.1808796296296296, 0.16877314814814814, 0.15122685185185186, 0.14949074074074076]\n",
      "var: [0.0025207688164221092, 0.0018666230852766353, 0.001656116636183509, 0.0017074351843191862, 0.0018419854191780625, 0.001535543622091975]\n"
     ]
    },
    {
     "data": {
      "text/plain": [
       "0.8"
      ]
     },
     "execution_count": 90,
     "metadata": {},
     "output_type": "execute_result"
    },
    {
     "data": {
      "image/png": "[encoded data removed]",
      "text/plain": [
       "<Figure size 432x288 with 1 Axes>"
      ]
     },
     "metadata": {
      "needs_background": "light"
     },
     "output_type": "display_data"
    }
   ],
   "source": [
    "\n",
    "import statistics\n",
    "import matplotlib.pyplot as plt\n",
    "import numpy as np\n",
    "\n",
    "def bestPartitionPara (d, dataset, attributes, testdata):  \n",
    "    # d: dataSetNum\n",
    "    part_para_list=[0.3, 0.4, 0.5, 0.6, 0.7, 0.8]\n",
    "#     // 0.85, 0.9, 0.95, 0.98]\n",
    "    scatter_x=[]\n",
    "    scatter_y=[]\n",
    "    error_variance_list=[]\n",
    "    error_mean_list=[]\n",
    "    \n",
    "    for i in range (0,len(part_para_list)):\n",
    "        part_para = part_para_list[i]\n",
    "        error_list=[]\n",
    "\n",
    "        for j in range (0,100):\n",
    "            trainData, valData = partition(dataset, part_para)\n",
    "            BPT = bestPrunedTree(trainData, valData, attributes)\n",
    "            tree = BPT[0]  \n",
    "            error = 1-dtree.check(tree, testdata)\n",
    "            error_list.append( error )\n",
    "            scatter_x.append(part_para_list[i])\n",
    "            scatter_y.append(error)\n",
    "        var=statistics.variance(error_list)\n",
    "        m=statistics.mean (error_list)\n",
    "        error_variance_list.append(var)\n",
    "        error_mean_list.append(m)\n",
    "    \n",
    "    min_testError = min(error_mean_list)\n",
    "    min_index = error_mean_list.index(min_testError)\n",
    "    \n",
    "    plt.scatter(scatter_x,scatter_y, color = \"c\", label='classification errors')\n",
    "    print(part_para_list)\n",
    "    print(\"mean:\",error_mean_list)\n",
    "    print(\"var:\",error_variance_list)\n",
    "    \n",
    "    plt.plot(part_para_list, error_mean_list, \"X\", color='m', markersize=12, label='mean of classification errors')\n",
    "    plt.title(\"Monk%d partition parameter vs. classification error\" %d, fontsize=14 )\n",
    "    plt.legend (loc='upper right')\n",
    "#     plt.legend (loc='upper left', ['Mean:'+str(error_mean_list[min_index])+\"\\n\"+\"Variance:\"+str(error_variance_list[min_index])])\n",
    "    plt.xlabel('partition parameter')\n",
    "    plt.ylabel('classification error')\n",
    "\n",
    "#     plt.savefig(\"D:/Sweden/DD2421_ML/lab1_DecisionTree/monk%d_error.png\" %d, dpi=300 )\n",
    "#     plt.show()\n",
    "    \n",
    "    return part_para_list[min_index]\n",
    "\n",
    "bestPartitionPara (1, m.monk1, m.attributes, m.monk1test)\n"
   ]
  },
  {
   "cell_type": "code",
   "execution_count": 91,
   "metadata": {},
   "outputs": [
    {
     "name": "stdout",
     "output_type": "stream",
     "text": [
      "[0.3, 0.4, 0.5, 0.6, 0.7, 0.8]\n",
      "mean: [0.09393518518518519, 0.0675462962962963, 0.06064814814814815, 0.055555555555555566, 0.05196759259259259, 0.05189814814814815]\n",
      "var: [0.0034875049361932074, 0.0013960312140610495, 0.0012446567873522609, 0.0011301284449432593, 0.0008944008630544122, 0.0013233739140374938]\n"
     ]
    },
    {
     "data": {
      "text/plain": [
       "0.8"
      ]
     },
     "execution_count": 91,
     "metadata": {},
     "output_type": "execute_result"
    },
    {
     "data": {
      "image/png": "[encoded data removed]",
      "text/plain": [
       "<Figure size 432x288 with 1 Axes>"
      ]
     },
     "metadata": {
      "needs_background": "light"
     },
     "output_type": "display_data"
    }
   ],
   "source": [
    "bestPartitionPara (3, m.monk3, m.attributes, m.monk3test)"
   ]
  },
  {
   "cell_type": "code",
   "execution_count": null,
   "metadata": {},
   "outputs": [],
   "source": []
  },
  {
   "cell_type": "code",
   "execution_count": 33,
   "metadata": {},
   "outputs": [
    {
     "name": "stdout",
     "output_type": "stream",
     "text": [
      "max_val_accuracy: 0.9591836734693877\n",
      "best pruned tree is: A2(A5(+++-)+A4(A5(--+A1(--+))--))\n",
      "0.8287037037037037\n",
      "0.5277777777777778\n"
     ]
    }
   ],
   "source": [
    "t1=dtree.buildTree(m.monk1, m.attributes);\n",
    "t1_acc=dtree.check(t1, m.monk1test)\n",
    "best_pruned_t1= bestPrunedTree(monk1train, monk1val, m.attributes)\n",
    "tree=best_pruned_t1[0]\n",
    "t1_BestPrun_acc=dtree.check(tree, m.monk1test)\n",
    "print (t1_acc)\n",
    "print (t1_BestPrun_acc)\n",
    "accu_improv=t1_BestPrun_acc-t1_acc"
   ]
  },
  {
   "cell_type": "code",
   "execution_count": null,
   "metadata": {},
   "outputs": [],
   "source": []
  },
  {
   "cell_type": "code",
   "execution_count": null,
   "metadata": {},
   "outputs": [],
   "source": []
  },
  {
   "cell_type": "code",
   "execution_count": null,
   "metadata": {},
   "outputs": [],
   "source": [
    "\n",
    "\n"
   ]
  },
  {
   "cell_type": "code",
   "execution_count": null,
   "metadata": {},
   "outputs": [],
   "source": []
  },
  {
   "cell_type": "code",
   "execution_count": null,
   "metadata": {},
   "outputs": [],
   "source": []
  },
  {
   "cell_type": "code",
   "execution_count": null,
   "metadata": {},
   "outputs": [],
   "source": []
  }
 ],
 "metadata": {
  "kernelspec": {
   "display_name": "Python 3",
   "language": "python",
   "name": "python3"
  },
  "language_info": {
   "codemirror_mode": {
    "name": "ipython",
    "version": 3
   },
   "file_extension": ".py",
   "mimetype": "text/x-python",
   "name": "python",
   "nbconvert_exporter": "python",
   "pygments_lexer": "ipython3",
   "version": "3.8.6"
  }
 },
 "nbformat": 4,
 "nbformat_minor": 2
}
