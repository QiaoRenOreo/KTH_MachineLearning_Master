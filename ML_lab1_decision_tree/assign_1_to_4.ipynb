{
 "cells": [
  {
   "cell_type": "code",
   "execution_count": 1,
   "metadata": {},
   "outputs": [],
   "source": [
    "import monkdata as m\n",
    "import dtree\n",
    "import sys"
   ]
  },
  {
   "cell_type": "code",
   "execution_count": 2,
   "metadata": {},
   "outputs": [
    {
     "name": "stdout",
     "output_type": "stream",
     "text": [
      "1.0\n",
      "0.957117428264771\n",
      "0.9998061328047111\n"
     ]
    }
   ],
   "source": [
    "e1=dtree.entropy(m.monk1)\n",
    "print(e1)\n",
    "\n",
    "\n",
    "e2=dtree.entropy(m.monk2)\n",
    "print(e2)\n",
    "\n",
    "\n",
    "e3=dtree.entropy(m.monk3)\n",
    "print(e3)\n"
   ]
  },
  {
   "cell_type": "code",
   "execution_count": 15,
   "metadata": {},
   "outputs": [
    {
     "name": "stdout",
     "output_type": "stream",
     "text": [
      "0.0753\n",
      "0.0058\n",
      "0.0047\n",
      "0.0263\n",
      "0.287\n",
      "0.0008\n"
     ]
    }
   ],
   "source": [
    "monk1_attri0 = dtree.averageGain(m.monk1 , m.attributes[0])\n",
    "monk1_attri1 = dtree.averageGain(m.monk1 , m.attributes[1])\n",
    "monk1_attri2 = dtree.averageGain(m.monk1 , m.attributes[2])\n",
    "monk1_attri3 = dtree.averageGain(m.monk1 , m.attributes[3])\n",
    "monk1_attri4 = dtree.averageGain(m.monk1 , m.attributes[4])\n",
    "monk1_attri5 = dtree.averageGain(m.monk1 , m.attributes[5])\n",
    "\n",
    "print(round(monk1_attri0, 4) )\n",
    "print(round(monk1_attri1, 4) )\n",
    "print(round(monk1_attri2, 4) )\n",
    "print(round(monk1_attri3, 4) )\n",
    "print(round(monk1_attri4, 4) )\n",
    "print(round(monk1_attri5, 4) )\n"
   ]
  },
  {
   "cell_type": "code",
   "execution_count": 16,
   "metadata": {},
   "outputs": [
    {
     "name": "stdout",
     "output_type": "stream",
     "text": [
      "0.0038\n",
      "0.0025\n",
      "0.0011\n",
      "0.0157\n",
      "0.0173\n",
      "0.0062\n"
     ]
    }
   ],
   "source": [
    "monk2_attri0 = dtree.averageGain(m.monk2 , m.attributes[0])\n",
    "monk2_attri1 = dtree.averageGain(m.monk2 , m.attributes[1])\n",
    "monk2_attri2 = dtree.averageGain(m.monk2 , m.attributes[2])\n",
    "monk2_attri3 = dtree.averageGain(m.monk2 , m.attributes[3])\n",
    "monk2_attri4 = dtree.averageGain(m.monk2 , m.attributes[4])\n",
    "monk2_attri5 = dtree.averageGain(m.monk2 , m.attributes[5])\n",
    "\n",
    "print(round(monk2_attri0, 4) )\n",
    "print(round(monk2_attri1, 4) )\n",
    "print(round(monk2_attri2, 4) )\n",
    "print(round(monk2_attri3, 4) )\n",
    "print(round(monk2_attri4, 4) )\n",
    "print(round(monk2_attri5, 4) )"
   ]
  },
  {
   "cell_type": "code",
   "execution_count": 17,
   "metadata": {},
   "outputs": [
    {
     "name": "stdout",
     "output_type": "stream",
     "text": [
      "0.0071\n",
      "0.2937\n",
      "0.0008\n",
      "0.0029\n",
      "0.2559\n",
      "0.0071\n"
     ]
    }
   ],
   "source": [
    "monk3_attri0 = dtree.averageGain(m.monk3 , m.attributes[0])\n",
    "monk3_attri1 = dtree.averageGain(m.monk3 , m.attributes[1])\n",
    "monk3_attri2 = dtree.averageGain(m.monk3 , m.attributes[2])\n",
    "monk3_attri3 = dtree.averageGain(m.monk3 , m.attributes[3])\n",
    "monk3_attri4 = dtree.averageGain(m.monk3 , m.attributes[4])\n",
    "monk3_attri5 = dtree.averageGain(m.monk3 , m.attributes[5])\n",
    "\n",
    "\n",
    "print(round(monk3_attri0, 4) )\n",
    "print(round(monk3_attri1, 4) )\n",
    "print(round(monk3_attri2, 4) )\n",
    "print(round(monk3_attri3, 4) )\n",
    "print(round(monk3_attri4, 4) )\n",
    "print(round(monk3_attri5, 4) )"
   ]
  },
  {
   "cell_type": "code",
   "execution_count": null,
   "metadata": {},
   "outputs": [],
   "source": []
  }
 ],
 "metadata": {
  "kernelspec": {
   "display_name": "Python 3",
   "language": "python",
   "name": "python3"
  },
  "language_info": {
   "codemirror_mode": {
    "name": "ipython",
    "version": 3
   },
   "file_extension": ".py",
   "mimetype": "text/x-python",
   "name": "python",
   "nbconvert_exporter": "python",
   "pygments_lexer": "ipython3",
   "version": "3.8.6"
  }
 },
 "nbformat": 4,
 "nbformat_minor": 2
}
