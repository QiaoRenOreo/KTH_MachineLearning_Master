{
 "cells": [
  {
   "cell_type": "code",
   "execution_count": 1,
   "metadata": {},
   "outputs": [],
   "source": [
    "#imports\n",
    "import numpy as np\n",
    "import matplotlib.pyplot as plt\n",
    "from scipy.spatial.distance import cityblock\n",
    "from matplotlib.lines import Line2D"
   ]
  },
  {
   "cell_type": "code",
   "execution_count": 382,
   "metadata": {},
   "outputs": [],
   "source": [
    "# test_code\n",
    "# arr = np.array([range(10),range(10),range(10),range(10)])\n",
    "# arr = np.transpose(arr)\n",
    "# print(arr.shape[1])\n",
    "# sum = np.sum(arr, axis = 1)\n",
    "# sum = np.transpose(sum)\n",
    "# print(sum)\n",
    "#network_dimensions = np.array([5, 5])\n",
    "#print(network_dimensions)\n",
    "# a = np.arange(0,60,5)\n",
    "# print(type(a))\n",
    "# #a = a.reshape(3,4)\n",
    "\n",
    "# print(a)\n",
    "# print('\\n')\n",
    "\n",
    "# for x in np.nditer(a):\n",
    "#      print(x)\n",
    "# a = 7\n",
    "# b = 2\n",
    "# print(a // b)\n",
    "\n",
    "# genders_out = [[] for i in range(100)]\n",
    "# print(genders_out)"
   ]
  },
  {
   "cell_type": "code",
   "execution_count": 2,
   "metadata": {},
   "outputs": [],
   "source": [
    "class SOM:\n",
    "    def __init__(self, weight_dim, data):\n",
    "        self.weights = np.random.rand(weight_dim[0], weight_dim[1])\n",
    "        self.data = data\n",
    "        \n",
    "    def train_network(self, iterations, eta, data_type):\n",
    "        for epoch in range(iterations):\n",
    "            new_weights = self.update_weights(self.data, self.weights, epoch, eta, data_type)\n",
    "            \n",
    "        return new_weights\n",
    "        \n",
    "        \n",
    "    def update_weights(self, input_data, input_weights, epoch, eta, data_type):\n",
    "        for i in range(input_data.shape[0]):\n",
    "            data_row = input_data[i, :]\n",
    "            winner = self.calculate_winner(data_row, input_weights)\n",
    "            #print(winner)\n",
    "            if data_type is 'animal':\n",
    "                nbrhd = self.find_neighbourhood(winner, input_weights.shape[0], epoch)\n",
    "            elif data_type is 'tour':\n",
    "                nbrhd = self.find_cyclic_neighbourhood(winner, epoch)\n",
    "            elif data_type is 'votes':\n",
    "                nbrhd = self.find_manhattan_neighbourhood(winner, input_weights.shape[0], epoch)\n",
    "                \n",
    "            input_weights[nbrhd, :] = input_weights[nbrhd, :] + eta * (data_row - input_weights[nbrhd])\n",
    "              \n",
    "        return input_weights\n",
    "            \n",
    "                  \n",
    "    def calculate_winner(self, data_row, weights_input):\n",
    "        most_similar = self.distance(data_row, weights_input[0, :])\n",
    "        most_similar_index = 0\n",
    "        for j in range(weights_input.shape[0]):\n",
    "            sim_dis = self.distance(data_row, weights_input[j, :])\n",
    "            if(sim_dis > most_similar):\n",
    "                most_similar = sim_dis\n",
    "                most_similar_index = j\n",
    "\n",
    "        return most_similar_index\n",
    "    \n",
    "    \n",
    "    def distance(self, x, y):\n",
    "        dis = np.dot((x-y).T, x-y)\n",
    "        return dis\n",
    "    \n",
    "    \n",
    "    # 1 D neighbourhood for animal data\n",
    "    def find_neighbourhood(self, winner_node, max_range, epoch):\n",
    "        nbrhd_range = int(max_range/2 - epoch*2.5)\n",
    "        nbrhd_min = np.max([0, winner_node-nbrhd_range])\n",
    "        nbrhd_max = np.min([max_range, winner_node+nbrhd_range])\n",
    "        return np.arange(nbrhd_min, nbrhd_max)\n",
    "\n",
    "\n",
    "    # Circular neighbourhood for tour data\n",
    "    def find_cyclic_neighbourhood(self, winner_node_circular, epoch):\n",
    "        nbrhd_range = int(2 - (epoch)//10)\n",
    "        neighbors_list = [winner_node_circular]\n",
    "        if(nbrhd_range==2):\n",
    "            if(winner_node_circular-nbrhd_range < 0):\n",
    "                neighbors_list.append(winner_node_circular-1)\n",
    "                neighbors_list.append(winner_node_circular+1)\n",
    "            elif(winner_node_circular+nbrhd_range >= 10):\n",
    "                neighbors_list.append(0)    \n",
    "                neighbors_list.append(winner_node_circular-1)\n",
    "            else : \n",
    "                neighbors_list.append(winner_node_circular-1)\n",
    "                neighbors_list.append(winner_node_circular+1)\n",
    "        if(nbrhd_range==1):\n",
    "            if(winner_node_circular+nbrhd_range > 10):\n",
    "                neighbors_list.append(0)\n",
    "            else:\n",
    "                if(winner_node_circular==9):\n",
    "                    i=-1\n",
    "                else:\n",
    "                    i=np.random.choice([-1,1])\n",
    "                neighbors_list.append(winner_node_circular+i)  \n",
    "                \n",
    "                \n",
    "        return neighbors_list\n",
    "    \n",
    "    \n",
    "    # Manhanttan neighbourhood for MPs data\n",
    "    def find_manhattan_neighbourhood(self, winner_node_mps, max_range, epoch):\n",
    "        neighbourhood_size = round(20*((20-epoch)/20))\n",
    "        grid_winner = np.array([winner_node_mps // 10, winner_node_mps % 10])\n",
    "        manhattan_neighbourhood = []\n",
    "\n",
    "        for i in range(100):\n",
    "            i_grid = np.array([i // 10, i % 10])\n",
    "            if cityblock(grid_winner, i_grid) <= neighbourhood_size:\n",
    "                manhattan_neighbourhood.append(i)\n",
    "        \n",
    "        \n",
    "        return manhattan_neighbourhood\n",
    "        \n",
    "        \n",
    "    \n",
    "    \n",
    "    #Animal reordering\n",
    "    def find_reordered_animals(self, trained_weights, animal_data, animal_names):\n",
    "        ordered_animals = []\n",
    "        for i in range(animal_data.shape[0]):\n",
    "            ordered_animal = animal_data[i, :]\n",
    "            ordered_winner = self.calculate_winner(ordered_animal, trained_weights)\n",
    "            ordered_animals.append([ordered_winner, animal_names[i]])\n",
    "            \n",
    "        ordered_animals = np.array(ordered_animals, dtype = object)\n",
    "        ordered_animals = ordered_animals[ordered_animals[:,0].argsort()]\n",
    "            \n",
    "            \n",
    "        return ordered_animals\n",
    "    \n",
    "    \n",
    "    #Cities reordering\n",
    "    def find_reordered_cities(self, trained_city_weights, city_data):\n",
    "        ordered_cities = []\n",
    "        for i in range(city_data.shape[0]):\n",
    "            ordered_city = city_data[i, :]\n",
    "            ordered_city_winner = self.calculate_winner(ordered_city, trained_city_weights)\n",
    "            ordered_cities.append([ordered_city_winner, i])\n",
    "            \n",
    "        ordered_cities = np.array(ordered_cities, dtype = object)\n",
    "        ordered_cities = ordered_cities[ordered_cities[:,0].argsort()]\n",
    "            \n",
    "            \n",
    "        return ordered_cities\n",
    "    \n",
    "    \n",
    "    #MPs reordering\n",
    "    def find_reordered_mps_with_disricts_sex_party(self, trained_weights, votes_data, mp_sex, mp_district, mp_party):\n",
    "        pos = np.zeros(votes_data.shape[0])\n",
    "        genders_out = [[] for i in range(100)]\n",
    "        parties_out = [[] for i in range(100)]\n",
    "        districts_out = [[] for i in range(100)]\n",
    "        for i in range(votes_data.shape[0]):\n",
    "            ordered_mp = votes_data[i, :]\n",
    "            ordered_winner = self.calculate_winner(ordered_mp, trained_weights)\n",
    "            pos[i] = ordered_winner\n",
    "            genders_out[ordered_winner].append(mp_sex[i])\n",
    "            parties_out[ordered_winner].append(mp_party[i])\n",
    "            districts_out[ordered_winner].append(mp_district[i])\n",
    "            \n",
    "        unique, counts = np.unique(pos, return_counts=True)\n",
    "        #print(genders_out)\n",
    "        \n",
    "        self.plot_genders(unique, counts, genders_out)\n",
    "        self.plot_parties(unique, counts, parties_out)\n",
    "        self.plot_districts(unique, counts, districts_out)\n",
    "            \n",
    "        \n",
    "    def plot_genders(self, unique, counts, genders_out):\n",
    "        fig, ax = plt.subplots() # note we must use plt.subplots, not plt.subplot\n",
    "        for i in range(len(unique)):\n",
    "            y = unique[i] // 10\n",
    "            x = unique[i] % 10\n",
    "            mean_gender = np.mean(genders_out[int(unique[i])])\n",
    "            circle = plt.Circle((x+1, y+1), counts[i]/100, color=(mean_gender, 0, (1 - mean_gender)))\n",
    "            ax.add_artist(circle)\n",
    "        plt.ylim(0, 11)\n",
    "        plt.xlim(0, 11)\n",
    "        plt.title(\"Genders (blue for male, red for female)\")\n",
    "        #fig.savefig('Plots/mps_gender.png')\n",
    "        \n",
    "    \n",
    "    def plot_parties(self, unique, counts, parties_out):\n",
    "        colors = ['orange', 'r', 'y', 'm', 'c', 'k', 'g', 'b']\n",
    "        labels = [\"no p\", \"m\", \"fp\", \"s\", \"v\", \"mp\", \"kd\", \"c\"]\n",
    "        fig, ax = plt.subplots() \n",
    "        for i in range(len(unique)):\n",
    "            y = unique[i] // 10\n",
    "            x = unique[i] % 10\n",
    "            parties, parties_count = np.unique(parties_out[int(unique[i])], return_counts=True)\n",
    "            main_party = int(parties[np.argmax(parties_count)])\n",
    "            circle = plt.Circle((x+1, y+1), counts[i]/100, color=colors[main_party])\n",
    "            ax.annotate(str(int(np.max(parties_count)/len(parties_out[int(unique[i])])*100)) + \"%\", xy=(x+1, y+1), fontsize=7, ha=\"center\")\n",
    "            ax.add_artist(circle)\n",
    "        legend_elements = []\n",
    "        for i in range(8):\n",
    "            legend_elements.append(Line2D([0], [0], marker='o', color='w', label=labels[i],\n",
    "                              markerfacecolor=colors[i], markersize=5))\n",
    "        ax.legend(handles=legend_elements, loc='lower left')\n",
    "        plt.ylim(0, 11)\n",
    "        plt.xlim(-2, 11)\n",
    "        plt.title(\"Dominating parties & their proportions\")\n",
    "        #fig.savefig('Plots/mps_parties.png')\n",
    "        \n",
    "        \n",
    "    def plot_districts(self, unique, counts, districts_out):\n",
    "        fig, ax = plt.subplots() \n",
    "        for i in range(len(unique)):\n",
    "            y = unique[i] // 10\n",
    "            x = unique[i] % 10\n",
    "            districts = np.unique(districts_out[int(unique[i])])\n",
    "            circle = plt.Circle((x+1, y+1), counts[i]/100, color='c')\n",
    "            ax.annotate(str(int(len(districts))), xy=(x+1, y+1), fontsize=7, ha=\"center\")\n",
    "            ax.add_artist(circle)\n",
    "        plt.ylim(0, 11)\n",
    "        plt.xlim(0, 11)\n",
    "        plt.title(\"Number of district per output\")\n",
    "        #fig.savefig('Plots/mps_district.png')\n",
    "    \n",
    "        \n",
    "    "
   ]
  },
  {
   "cell_type": "markdown",
   "metadata": {},
   "source": [
    "### Topological ordering of animal Species"
   ]
  },
  {
   "cell_type": "code",
   "execution_count": 4,
   "metadata": {},
   "outputs": [],
   "source": [
    "#animal_data - 1\n",
    "animal_data = np.loadtxt(\"data_lab2/animals.dat\", dtype='i', delimiter=',')\n",
    "animal_names = np.loadtxt(\"data_lab2/animalnames.txt\", dtype=str) # names of 32 animals\n",
    "\n",
    "animal_data = np.reshape(animal_data, (32, 84)) # each row corresponds to one animal , 32 animals in total\n",
    "\n",
    "#print(animal_names)"
   ]
  },
  {
   "cell_type": "code",
   "execution_count": 39,
   "metadata": {},
   "outputs": [
    {
     "name": "stdout",
     "output_type": "stream",
     "text": [
      "[[13 \"'penguin'\"]\n",
      " [14 \"'crocodile'\"]\n",
      " [15 \"'ostrich'\"]\n",
      " [18 \"'housefly'\"]\n",
      " [29 \"'moskito'\"]\n",
      " [33 \"'rat'\"]\n",
      " [34 \"'seaturtle'\"]\n",
      " [34 \"'frog'\"]\n",
      " [35 \"'antelop'\"]\n",
      " [35 \"'skunk'\"]\n",
      " [35 \"'rabbit'\"]\n",
      " [35 \"'pig'\"]\n",
      " [35 \"'kangaroo'\"]\n",
      " [35 \"'hyena'\"]\n",
      " [35 \"'horse'\"]\n",
      " [35 \"'walrus'\"]\n",
      " [35 \"'giraffe'\"]\n",
      " [35 \"'elephant'\"]\n",
      " [35 \"'dog'\"]\n",
      " [35 \"'camel'\"]\n",
      " [35 \"'bear'\"]\n",
      " [35 \"'bat'\"]\n",
      " [35 \"'ape'\"]\n",
      " [39 \"'dragonfly'\"]\n",
      " [39 \"'butterfly'\"]\n",
      " [39 \"'beetle'\"]\n",
      " [39 \"'grasshopper'\"]\n",
      " [43 \"'lion'\"]\n",
      " [43 \"'cat'\"]\n",
      " [51 \"'spider'\"]\n",
      " [61 \"'pelican'\"]\n",
      " [85 \"'duck'\"]]\n"
     ]
    }
   ],
   "source": [
    "som = SOM((100, 84), animal_data)\n",
    "trained_weights = som.train_network(20, 0.2, 'animal')\n",
    "#print(np.shape(trained_weights))\n",
    "reordered_animals = som.find_reordered_animals(trained_weights, animal_data, animal_names)\n",
    "print(reordered_animals)"
   ]
  },
  {
   "cell_type": "markdown",
   "metadata": {},
   "source": [
    "### Cyclic Tour"
   ]
  },
  {
   "cell_type": "code",
   "execution_count": 240,
   "metadata": {},
   "outputs": [],
   "source": [
    "#Cities data\n",
    "cities_data = np.loadtxt(\"data_lab2/cities.dat\", delimiter = ',', dtype = float, comments = '%')\n",
    "#print(cities_data)"
   ]
  },
  {
   "cell_type": "code",
   "execution_count": 253,
   "metadata": {
    "scrolled": false
   },
   "outputs": [
    {
     "data": {
      "text/plain": [
       "[<matplotlib.lines.Line2D at 0x115c36f50>]"
      ]
     },
     "execution_count": 253,
     "metadata": {},
     "output_type": "execute_result"
    },
    {
     "data": {
      "image/png": "[encoded data removed]",
      "text/plain": [
       "<Figure size 432x288 with 1 Axes>"
      ]
     },
     "metadata": {
      "needs_background": "light"
     },
     "output_type": "display_data"
    }
   ],
   "source": [
    "som_city = SOM((10, 2), cities_data)\n",
    "trained_weights_cities = som_city.train_network(20, 0.2, 'tour')\n",
    "final_tour = []\n",
    "reordered_cities = som_city.find_reordered_cities(trained_weights_cities, cities_data)\n",
    "reordered_cities = reordered_cities[:, 1].tolist()\n",
    "for n in reordered_cities:\n",
    "    final_tour.append(cities_data[n])\n",
    "\n",
    "final_tour.append(final_tour[0])\n",
    "final_tour = np.array(final_tour)\n",
    "#print(final_tour)\n",
    "plt.scatter(cities_data[:, 0], cities_data[:, 1])\n",
    "plt.plot(final_tour[:, 0], final_tour[:, 1], color = 'red')\n"
   ]
  },
  {
   "cell_type": "markdown",
   "metadata": {},
   "source": [
    "### Vote of MPs"
   ]
  },
  {
   "cell_type": "code",
   "execution_count": 3,
   "metadata": {
    "scrolled": true
   },
   "outputs": [],
   "source": [
    "#MP data\n",
    "votes_data = np.loadtxt(\"data_lab2/votes.dat\", dtype=float, delimiter=',')\n",
    "mp_names = np.loadtxt(\"data_lab2/mpnames.txt\", dtype = str, delimiter = '\\n') #names of 349 MPs\n",
    "votes_data = np.reshape(votes_data, (349, 31))\n",
    "mp_district = np.loadtxt(\"data_lab2/mpdistrict.dat\", dtype = 'i')\n",
    "mp_sex = np.loadtxt(\"data_lab2/mpsex.dat\", dtype = 'i', comments = '%')\n",
    "mp_party = np.loadtxt(\"data_lab2/mpparty.dat\", dtype = 'i', comments = '%')"
   ]
  },
  {
   "cell_type": "code",
   "execution_count": 5,
   "metadata": {},
   "outputs": [
    {
     "data": {
      "image/png": "[encoded data removed]",
      "text/plain": [
       "<Figure size 432x288 with 1 Axes>"
      ]
     },
     "metadata": {
      "needs_background": "light"
     },
     "output_type": "display_data"
    },
    {
     "data": {
      "image/png": "[encoded data removed]",
      "text/plain": [
       "<Figure size 432x288 with 1 Axes>"
      ]
     },
     "metadata": {
      "needs_background": "light"
     },
     "output_type": "display_data"
    },
    {
     "data": {
      "image/png": "[encoded data removed]",
      "text/plain": [
       "<Figure size 432x288 with 1 Axes>"
      ]
     },
     "metadata": {
      "needs_background": "light"
     },
     "output_type": "display_data"
    }
   ],
   "source": [
    "som_mps = SOM((100,31), votes_data)\n",
    "trained_weights_mps = som_mps.train_network(50, 0.2, 'votes')\n",
    "som_mps.find_reordered_mps_with_disricts_sex_party(trained_weights_mps, votes_data, mp_sex, mp_district, mp_party)"
   ]
  }
 ],
 "metadata": {
  "kernelspec": {
   "display_name": "Python 3",
   "language": "python",
   "name": "python3"
  },
  "language_info": {
   "codemirror_mode": {
    "name": "ipython",
    "version": 3
   },
   "file_extension": ".py",
   "mimetype": "text/x-python",
   "name": "python",
   "nbconvert_exporter": "python",
   "pygments_lexer": "ipython3",
   "version": "3.7.4"
  }
 },
 "nbformat": 4,
 "nbformat_minor": 2
}
