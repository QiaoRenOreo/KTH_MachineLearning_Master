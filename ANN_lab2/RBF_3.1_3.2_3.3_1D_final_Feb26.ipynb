{
 "cells": [
  {
   "cell_type": "markdown",
   "metadata": {},
   "source": [
    "## 3.1"
   ]
  },
  {
   "cell_type": "code",
   "execution_count": 4,
   "metadata": {},
   "outputs": [],
   "source": [
    "import math\n",
    "from math import sin\n",
    "from math import pi\n",
    "import numpy as np\n",
    "import matplotlib.pyplot as plt\n",
    "import random\n",
    "import decimal\n",
    "\n",
    "\n",
    "def draw_1_scatter (l0, l1, color):\n",
    "    plt.scatter (l0, l1, c=color)\n",
    "    plt.show()\n",
    "    \n",
    "def draw_2_scatters ( l0, l1, color1, label1, l2, color2, label2):\n",
    "    p1=plt.scatter (l0, l1, c=color1, s=10) # s: marker size\n",
    "    p2=plt.scatter (l0, l2, c=color2, s=10)\n",
    "    \n",
    "    plt.legend( (p1,p2), (label1, label2), scatterpoints=1, loc='lower left', ncol=1, fontsize=10)\n",
    "    plt.show()\n",
    "    \n",
    "def draw_3_scatters ( l0, l1, color1, label1, l2, color2, label2, l3, color3, label3):\n",
    "    p1=plt.scatter (l0, l1, c=color1, s=10) # s: marker size\n",
    "    p2=plt.scatter (l0, l2, c=color2, s=10)\n",
    "    \n",
    "    l3_Yis0 = np.zeros (len(l3) )\n",
    "    p3=plt.scatter (l3, l3_Yis0,  c=color3, s=10, marker=\"|\")\n",
    "    \n",
    "    plt.legend( (p1,p2,p3), (label1, label2, label3), scatterpoints=1, loc='lower left', ncol=1, fontsize=10)\n",
    "    plt.show()\n",
    "    \n",
    "def draw_1_line (title, xlabel, ylabel, ymin,ymax, l0, l1, color1, label1  ):\n",
    "\n",
    "    fig = plt.figure() \n",
    "    ax = plt.subplot(111)\n",
    "    ax.plot(l0, l1, c=color1, label= label1 )\n",
    "    plt.title(title )\n",
    "    ax.legend()\n",
    "    plt.xlabel(xlabel ) \n",
    "    plt.ylabel(ylabel )\n",
    "    ax.set_ylim([ymin,ymax])\n",
    "#     plt.savefig('D:/Sweden/p3/ANN/lab1/part2/'+ title + '.png', dpi=300)\n",
    "    plt.show()\n",
    "    \n",
    "def draw_2_learning_curve(l1, color1, label1, l2, color2, label2):\n",
    "    l0 = np.arange(1, np.size(l1)+1, 1)\n",
    "    p1=plt.scatter (l0, l1, c=color1, s=10) # s: marker size\n",
    "    p2=plt.scatter (l0, l2, c=color2, s=10)\n",
    "    plt.title (\"learning curve comparison\")\n",
    "    plt.legend( (p1,p2), (label1, label2), scatterpoints=1, loc='upper right', ncol=1, fontsize=10)\n",
    "#     plt.savefig('D:/Sweden/p3/ANN/lab2/'+ 'learning curve' + '.png', dpi=300)\n",
    "    plt.show()\n",
    "    \n",
    "def generate_target_f1 (inputData):\n",
    "    f1= [sin (2 * x) for x in inputData   ] \n",
    "    return f1\n",
    "\n",
    "def generate_target_f2 (f1):\n",
    "    f2=[]\n",
    "    for i in range (0, len(f1) ):\n",
    "        if ( f1[i] >= 0 ):\n",
    "            f2.append (1)\n",
    "        else:\n",
    "            f2.append (-1)\n",
    "    return f2\n",
    "\n",
    "def generate_x_f1_f2 (x_start, x_end, x_step):\n",
    "    train_in = np.arange (x_start, x_end, x_step)\n",
    "    f1 = generate_target_f1(train_in)\n",
    "    f2= generate_target_f2 (f1)\n",
    "    f1 = np.array (f1,dtype=float)\n",
    "    f2 = np.array (f2,dtype=float)\n",
    "    train_in = np.array(train_in, dtype=float)  # convert from list to array\n",
    "    return train_in, f1, f2\n",
    "\n",
    "\n",
    "def draw_learning_curve(error_list):\n",
    "    x = np.arange(1, np.size(error_list)+1, 1)\n",
    "    y = error_list\n",
    "    plt.plot(x, y, 'r--')\n",
    "    plt.title (\"learning curve\")\n",
    "#     plt.savefig('D:/Sweden/p3/ANN/lab2/'+ 'learning curve' + '.png', dpi=300)\n",
    "    plt.show()\n",
    "    \n",
    "def mean_squared_error(prediction, target, data_input):\n",
    "    constant = 0.5/(len(data_input[0]))\n",
    "    mse = constant * (prediction - target)**2\n",
    "    return  mse\n",
    "\n",
    "def absolute_residual_error(prediction, target, data_input):\n",
    "    constant = 1/(len(data_input))\n",
    "    summed_e =0\n",
    "    for i in range (0, len(data_input)) :\n",
    "        summed_e += abs(prediction[i] - target[i])\n",
    "    avg_e = constant * summed_e\n",
    "\n",
    "    return avg_e\n",
    "\n",
    "\n",
    "def add_noise (target, noise_std_dev): \n",
    "    noise_mean=0\n",
    "    noise = np.random.normal(noise_mean, noise_std_dev, target.shape)  # np.random.normal(mu, sigma, 1000)\n",
    "    target_with_noise = target + noise\n",
    "    return target_with_noise\n",
    "\n",
    "\n",
    "\n",
    "\n",
    "def RBF(x, mu, var):\n",
    "    q = -( (x-mu)**2 )/ (2*var)\n",
    "    return np.exp (q)\n",
    "\n",
    "def compute_RBF_matrix (mode, train_in, mu, var ): # mode: a string\n",
    "    \n",
    "    how_many_RBFunits =len (mu)\n",
    "    \n",
    "    if mode == \"batch\":\n",
    "        how_many_data_points = len (train_in) # =63\n",
    "        phi=np.zeros( (how_many_data_points, how_many_RBFunits) )\n",
    "        for i in range (0, how_many_data_points ):\n",
    "            for j in range (0, how_many_RBFunits):\n",
    "                phi[i][j] = RBF(train_in[i], mu[j], var[j])    \n",
    "                \n",
    "    elif mode == \"seq\": #sequential\n",
    "        phi=np.zeros(how_many_RBFunits)\n",
    "        for k in range (0, how_many_RBFunits):\n",
    "            phi[k] = RBF(train_in, mu[k], var[k])        \n",
    "\n",
    "    return phi\n",
    "\n",
    "\n",
    "def predict (test_in, w,  mu, var ):\n",
    "    phi_test = compute_RBF_matrix (\"batch\", test_in, mu, var)\n",
    "    prediction = w.dot(phi_test.T)\n",
    "    return prediction\n",
    "\n",
    "def RBFlearning_batch_1D (train_in, train_out, test_in, test_out, \n",
    "                          label_test_out, num_mu, mu, var, epoch, learning_rate ):\n",
    "    error_list = []\n",
    "    w = np.array([1 for i in range (0, len (mu))])\n",
    "    for i in range(epoch):\n",
    "        RBF_matrix = compute_RBF_matrix (\"batch\", train_in, mu, var)\n",
    "        calculated_target = np.dot(RBF_matrix, w)    \n",
    "        diff = train_out - calculated_target   \n",
    "        delta_w = learning_rate * (diff.dot(RBF_matrix)) \n",
    "        w = w + delta_w\n",
    "        \n",
    "        pred = predict (test_in, w, mu, var ) \n",
    "        e = absolute_residual_error(pred, test_out, test_in)    \n",
    "        error_list.append(e)\n",
    "        \n",
    "    draw_learning_curve(error_list)\n",
    "    draw_2_scatters (test_in, test_out, 'r', label_test_out, pred, 'b', 'prediction')\n",
    "    print (\"batch mode. error:\", error_list[-1])\n",
    "    \n",
    "    return pred, error_list\n",
    "\n",
    "\n",
    "\n",
    "\n",
    "def RBFlearning_seq_1D (train_in, train_out, test_in, test_out, \n",
    "                        label_test_out, num_mu, mu, var, epoch, learning_rate ):\n",
    "    error_list=[]\n",
    "    w = np.array([1 for i in range (0, len (mu))]) \n",
    "    for ep in range(0, epoch): \n",
    "        for i in range(len(train_in)):\n",
    "            oneDataPoint = train_in[i]\n",
    "            RBF_matrix = compute_RBF_matrix (\"seq\", oneDataPoint, mu, var)                 \n",
    "            calculated_target = np.dot(RBF_matrix.T, w)   \n",
    "            diff = train_out[i] - calculated_target\n",
    "            delta_w = learning_rate * (diff * (RBF_matrix.T)) \n",
    "            w = w + delta_w\n",
    "\n",
    "        pred = predict (test_in, w, mu, var ) \n",
    "        e = absolute_residual_error(pred, test_out, test_in) \n",
    "        error_list.append(e)\n",
    "        \n",
    "#     draw_learning_curve(error_list)\n",
    "    draw_2_scatters (test_in,   test_out, 'r', label_test_out,  pred, 'b', 'prediction')\n",
    "#     draw_3_scatters ( test_in,   test_out, 'r', label_test_out,  pred, 'b', 'prediction', mu, 'g', 'mean of an RBF')\n",
    "    print (\"sequential mode. error:\", error_list[-1])\n",
    "    \n",
    "    return pred, error_list\n",
    "\n",
    "\n",
    "\n",
    "def competitive_learning ( nb_rbf_to_update, mu, train_in, train_out, win_percentage,lose_percentage): # mu is a list of RBF centers\n",
    "    iterations=500\n",
    "    for i in range (iterations):\n",
    "        random_point_index = random.randrange(len(train_in))\n",
    "        chosen_point = train_in[random_point_index]\n",
    "\n",
    "        distance=np.zeros(len(mu)) \n",
    "        for j in range(0, len(mu)):\n",
    "            measure = mu[j] - chosen_point\n",
    "            distance[j] = abs(measure)            \n",
    "        index_winning = np.argmin(distance)\n",
    "        mu_update = learning_rate * (chosen_point - mu[index_winning])  #rbf position update \n",
    "        mu[index_winning] += win_percentage * mu_update                 #rbf position update \n",
    "\n",
    "        #avoid dead units- all RBFs get updated \n",
    "        if nb_rbf_to_update == \"update all RBF\" :\n",
    "            for l in range(0, len(mu)):\n",
    "                if l != index_winning:\n",
    "                    mu_update_lose = learning_rate * (chosen_point - mu[l])\n",
    "                    mu[l] += lose_percentage * mu_update_lose\n",
    "                \n",
    "        \n",
    "    return mu\n",
    "\n",
    "def initialize_RBF_mu (method, train_in, num_mu):\n",
    "    mu=[]\n",
    "    nb_data = len (train_in)\n",
    "    if (method== \"byhand\" ): # place the mean of RBF by hand\n",
    "        mu_step = (2*pi) / num_mu\n",
    "        mu = np.arange (0, 2*pi, mu_step)          \n",
    "        \n",
    "    elif (method== \"random\" ): # place the mean of RBF on random positions\n",
    "        for i in range(nb_rbf):\n",
    "            mu.append (float (decimal.Decimal(random.randrange(0, 60))/10))  # min:0/10=0  max: 60/10=6  including decimal number\n",
    "    \n",
    "    elif (method== \"ondata\" ): # place the mean of RBF on randomly selected data points\n",
    "        for i in range(nb_rbf):\n",
    "            ind = random.randrange(0, nb_data,1)\n",
    "            mu.append( train_in[ind])\n",
    "    else:\n",
    "        print (\"give a valid method to initialize RBF's mean \")\n",
    "    return mu\n",
    "\n",
    "def seq_withoutCL ( train_in, train_f1, test_in, test_f1, testDataLabel, \n",
    "                   nb_rbf, mu, var, epoch, learning_rate):\n",
    "\n",
    "    pred, error = RBFlearning_seq_1D (train_in, train_f1, test_in, test_f1, \n",
    "                                       testDataLabel, nb_rbf, mu, var, epoch, learning_rate )\n",
    "    print (\"mu:\", mu)\n",
    "    return \n",
    "\n",
    "\n",
    "def seq_withCL (nb_rbf_to_update, train_in, train_f1, test_in, test_f1, testDataLabel, \n",
    "                nb_rbf, mu, var, epoch, learning_rate):\n",
    "    \n",
    "    print (\"mu:\", mu)\n",
    "    mu_cl = competitive_learning (nb_rbf_to_update, mu, train_in, train_f1, win_percentage,lose_percentage)\n",
    "    pred, error = RBFlearning_seq_1D (train_in, train_f1, test_in, test_f1, testDataLabel, nb_rbf, mu_cl, var, epoch, learning_rate )\n",
    "    \n",
    "    \n",
    "    print (\"mu_cl:\", mu_cl)\n",
    "    \n",
    "    return \n",
    "\n",
    "\n",
    "    \n",
    "train_in, train_f1, train_f2 = generate_x_f1_f2 (0, 2*pi, 0.1)\n",
    "test_in, test_f1, test_f2  = generate_x_f1_f2 (0.05, 2*pi, 0.1)\n",
    "\n",
    "noise_var= 0.1\n",
    "noise_std_dev = math.sqrt(noise_var) \n",
    "train_f1_noisy = add_noise (train_f1, noise_std_dev)\n",
    "test_f1_noisy = add_noise (test_f1, noise_std_dev)\n"
   ]
  },
  {
   "cell_type": "markdown",
   "metadata": {},
   "source": [
    "## 3.2"
   ]
  },
  {
   "cell_type": "code",
   "execution_count": 5,
   "metadata": {
    "scrolled": true
   },
   "outputs": [
    {
     "name": "stdout",
     "output_type": "stream",
     "text": [
      "Not using competitive learning\n"
     ]
    },
    {
     "data": {
      "image/png": "[encoded data removed]",
      "text/plain": [
       "<Figure size 432x288 with 1 Axes>"
      ]
     },
     "metadata": {
      "needs_background": "light"
     },
     "output_type": "display_data"
    },
    {
     "name": "stdout",
     "output_type": "stream",
     "text": [
      "sequential mode. error: 0.05554969978030755\n",
      "mu: [0.         0.48332195 0.96664389 1.44996584 1.93328779 2.41660973\n",
      " 2.89993168 3.38325363 3.86657557 4.34989752 4.83321947 5.31654141\n",
      " 5.79986336]\n",
      "Using competitive learning\n",
      "mu: [0.         0.48332195 0.96664389 1.44996584 1.93328779 2.41660973\n",
      " 2.89993168 3.38325363 3.86657557 4.34989752 4.83321947 5.31654141\n",
      " 5.79986336]\n"
     ]
    },
    {
     "data": {
      "image/png": "[encoded data removed]",
      "text/plain": [
       "<Figure size 432x288 with 1 Axes>"
      ]
     },
     "metadata": {
      "needs_background": "light"
     },
     "output_type": "display_data"
    },
    {
     "name": "stdout",
     "output_type": "stream",
     "text": [
      "sequential mode. error: 0.05614381993058086\n",
      "mu_cl: [0.00977036 0.49030883 0.97641191 1.45510205 1.9265601  2.41314701\n",
      " 2.89329072 3.38567668 3.86449631 4.35042991 4.83439957 5.31206088\n",
      " 5.83008982]\n"
     ]
    }
   ],
   "source": [
    "\n",
    "\n",
    "learning_rate = 0.01\n",
    "epoch = 100 \n",
    "nb_rbf = 13      \n",
    "var = [0.4 for i in range (0, nb_rbf)] \n",
    "place_initial_rbf = \"byhand\" #\"random\" #\"byhand\" #\"ondata\"\n",
    "mu= initialize_RBF_mu (place_initial_rbf, train_in, nb_rbf)\n",
    "win_percentage = 0.7\n",
    "lose_percentage = (1- win_percentage) / (len(mu)-1 )\n",
    "\n",
    "\n",
    "print (\"Not using competitive learning\")\n",
    "e_pure_withoutCL = seq_withoutCL ( train_in, train_f1,       test_in,    test_f1,      \"target of sin(2x) pure\", \n",
    "               nb_rbf, mu, var, epoch, learning_rate)\n",
    "\n",
    "print (\"Using competitive learning\")\n",
    "e_pure_withCL = seq_withCL ( \"update 1 RBF\", train_in, train_f1,       test_in,    test_f1,      \"target of sin(2x) pure\", \n",
    "               nb_rbf, mu, var, epoch, learning_rate)\n",
    "\n",
    "\n",
    "\n",
    "# seq_withCL ( \"byhand\", \"update all RBF\",train_in, train_f1,       test_in,    test_f1,      \"target of sin(2x) pure\", \n",
    "#                nb_rbf, mu, var, epoch, learning_rate)\n",
    "\n",
    "# e_noisy_withoutCL = seq_withoutCL ( \"byhand\", train_in, train_f1_noisy, test_in, test_f1_noisy, \"sin(2x) noisy\", \n",
    "#                nb_rbf, mu, var, epoch, learning_rate)\n",
    "# e_noisy_withCL = seq_withCL ( \"byhand\", \"update 1 RBF\", train_in, train_f1_noisy, test_in, test_f1_noisy, \"sin(2x) noisy\", \n",
    "#                nb_rbf, mu, var, epoch, learning_rate)\n",
    "\n"
   ]
  },
  {
   "cell_type": "code",
   "execution_count": 6,
   "metadata": {},
   "outputs": [
    {
     "ename": "NameError",
     "evalue": "name 'e_noisy_withCL' is not defined",
     "output_type": "error",
     "traceback": [
      "\u001b[1;31m---------------------------------------------------------------------------\u001b[0m",
      "\u001b[1;31mNameError\u001b[0m                                 Traceback (most recent call last)",
      "\u001b[1;32m<ipython-input-6-c8d30e9fb5b8>\u001b[0m in \u001b[0;36m<module>\u001b[1;34m\u001b[0m\n\u001b[1;32m----> 1\u001b[1;33m \u001b[0mdraw_2_learning_curve\u001b[0m\u001b[1;33m(\u001b[0m\u001b[0me_pure_withCL\u001b[0m\u001b[1;33m,\u001b[0m \u001b[1;34m'c'\u001b[0m\u001b[1;33m,\u001b[0m \u001b[1;34m\"error on sin(2x) pure\"\u001b[0m\u001b[1;33m,\u001b[0m \u001b[0me_noisy_withCL\u001b[0m\u001b[1;33m,\u001b[0m \u001b[1;34m'm'\u001b[0m\u001b[1;33m,\u001b[0m \u001b[1;34m\"error on sin(2x) noisy\"\u001b[0m\u001b[1;33m)\u001b[0m\u001b[1;33m\u001b[0m\u001b[0m\n\u001b[0m",
      "\u001b[1;31mNameError\u001b[0m: name 'e_noisy_withCL' is not defined"
     ]
    }
   ],
   "source": [
    "draw_2_learning_curve(e_pure_withCL, 'c', \"error on sin(2x) pure\", e_noisy_withCL, 'm', \"error on sin(2x) noisy\")\n"
   ]
  },
  {
   "cell_type": "code",
   "execution_count": null,
   "metadata": {},
   "outputs": [],
   "source": []
  },
  {
   "cell_type": "code",
   "execution_count": null,
   "metadata": {},
   "outputs": [],
   "source": [
    "     \n"
   ]
  },
  {
   "cell_type": "code",
   "execution_count": 7,
   "metadata": {},
   "outputs": [
    {
     "data": {
      "image/png": "[encoded data removed]",
      "text/plain": [
       "<Figure size 432x288 with 1 Axes>"
      ]
     },
     "metadata": {
      "needs_background": "light"
     },
     "output_type": "display_data"
    },
    {
     "data": {
      "image/png": "[encoded data removed]",
      "text/plain": [
       "<Figure size 432x288 with 1 Axes>"
      ]
     },
     "metadata": {
      "needs_background": "light"
     },
     "output_type": "display_data"
    },
    {
     "name": "stdout",
     "output_type": "stream",
     "text": [
      "batch mode. error: 0.056265388448082564\n"
     ]
    }
   ],
   "source": [
    "learning_rate = 0.01\n",
    "epoch = 100 \n",
    "nb_rbf = 13\n",
    "var = [0.4 for i in range (0, nb_rbf)] \n",
    "\n",
    "\n",
    "mu= initialize_RBF_mu (\"byhand\", train_in, nb_rbf)\n",
    "pred, error = RBFlearning_batch_1D (train_in, train_f1, test_in, test_f1, \n",
    "                                            \"test_f1\", nb_rbf, mu, var, epoch, learning_rate )\n",
    "\n"
   ]
  }
 ],
 "metadata": {
  "kernelspec": {
   "display_name": "Python 3",
   "language": "python",
   "name": "python3"
  },
  "language_info": {
   "codemirror_mode": {
    "name": "ipython",
    "version": 3
   },
   "file_extension": ".py",
   "mimetype": "text/x-python",
   "name": "python",
   "nbconvert_exporter": "python",
   "pygments_lexer": "ipython3",
   "version": "3.7.0"
  }
 },
 "nbformat": 4,
 "nbformat_minor": 2
}
