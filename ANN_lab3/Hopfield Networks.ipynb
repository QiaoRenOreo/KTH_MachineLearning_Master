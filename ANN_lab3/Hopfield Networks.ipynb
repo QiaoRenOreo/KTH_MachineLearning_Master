{
 "cells": [
  {
   "cell_type": "code",
   "execution_count": 1,
   "metadata": {},
   "outputs": [],
   "source": [
    "import numpy as np\n",
    "from matplotlib import pyplot as plt"
   ]
  },
  {
   "cell_type": "markdown",
   "metadata": {},
   "source": [
    "## Convergence and Attractors"
   ]
  },
  {
   "cell_type": "code",
   "execution_count": 76,
   "metadata": {},
   "outputs": [],
   "source": [
    "def energy(pattern, weight):\n",
    "    m = np.dot(pattern, weight)\n",
    "    energy = -1 * np.dot(m, pattern.transpose())\n",
    "    return energy\n",
    "\n",
    "def sign_fxn(x):\n",
    "    return np.where(x < 0, -1, 1)\n",
    "\n",
    "def check_convergence(input_pattern, weight_matrix, x1d, x2d, x3d):\n",
    "    input_pattern_distorted = np.vstack([x1d, x2d, x3d])\n",
    "    iterations = 0\n",
    "    while not np.array_equal(input_pattern, input_pattern_distorted) and iterations < 100:\n",
    "        #print(energy(input_pattern_distorted, weight_matrix))\n",
    "        input_pattern_distorted = sign_fxn(np.dot(input_pattern_distorted, weight_matrix))\n",
    "        #print(input_pattern_distorted)\n",
    "        iterations += 1\n",
    "        \n",
    "    print(np.array_equal(input_pattern, input_pattern_distorted)) #outputs the old patterns\n",
    "    print(iterations) # after how many iterations\n",
    "    actual_from_distorted_1 = np.reshape(input_pattern_distorted[0], (32, 32))\n",
    "    actual_from_distorted_2 = np.reshape(input_pattern_distorted[1], (32, 32))\n",
    "    actual_from_distorted_3 = np.reshape(input_pattern_distorted[2], (32, 32))\n",
    "    plt.imshow(actual_from_distorted_1, interpolation='nearest')\n",
    "    plt.show()\n",
    "    plt.imshow(actual_from_distorted_2, interpolation='nearest')\n",
    "    plt.show()\n",
    "    plt.imshow(actual_from_distorted_3, interpolation='nearest')\n",
    "    plt.show()\n",
    "    \n",
    "\n",
    "def store_patterns(x1, x2, x3, x1d, x2d, x3d):\n",
    "        input_pattern = np.vstack([x1, x2, x3])\n",
    "        #print(input_pattern)\n",
    "        weight_matrix = np.dot(input_pattern.transpose(), input_pattern)\n",
    "        #print(np.dot(input_pattern, weight_matrix))\n",
    "        output_pattern = sign_fxn(np.dot(input_pattern, weight_matrix))\n",
    "        print(np.array_equal(input_pattern, output_pattern)) #to check if the network was able to store the patterns\n",
    "        check_convergence(input_pattern, weight_matrix, x1d, x2d, x3d) #to check of old pattern can be retreived from new distorted\n",
    "    \n",
    "\n",
    "\n",
    "# store_patterns(np.array([-1, -1, 1, -1, 1, -1, -1, 1]), np.array([-1, -1, -1, -1, -1, 1, -1, -1]), \n",
    "#                np.array([-1, 1, 1, -1, -1, 1, -1, 1]), np.array([1, -1, 1, -1, 1, -1, -1, 1]), \n",
    "#                np.array([1, 1, -1, -1, -1, 1, -1, -1]), np.array([1, 1, 1, -1, 1, 1, -1, 1]))          "
   ]
  },
  {
   "cell_type": "markdown",
   "metadata": {},
   "source": [
    "## Sequential update"
   ]
  },
  {
   "cell_type": "code",
   "execution_count": 77,
   "metadata": {},
   "outputs": [
    {
     "data": {
      "image/png": "[encoded data removed]",
      "text/plain": [
       "<Figure size 432x288 with 1 Axes>"
      ]
     },
     "metadata": {
      "needs_background": "light"
     },
     "output_type": "display_data"
    },
    {
     "data": {
      "image/png": "[encoded data removed]",
      "text/plain": [
       "<Figure size 432x288 with 1 Axes>"
      ]
     },
     "metadata": {
      "needs_background": "light"
     },
     "output_type": "display_data"
    },
    {
     "name": "stdout",
     "output_type": "stream",
     "text": [
      "True\n",
      "False\n",
      "100\n"
     ]
    },
    {
     "data": {
      "image/png": "[encoded data removed]",
      "text/plain": [
       "<Figure size 432x288 with 1 Axes>"
      ]
     },
     "metadata": {
      "needs_background": "light"
     },
     "output_type": "display_data"
    },
    {
     "data": {
      "image/png": "[encoded data removed]",
      "text/plain": [
       "<Figure size 432x288 with 1 Axes>"
      ]
     },
     "metadata": {
      "needs_background": "light"
     },
     "output_type": "display_data"
    },
    {
     "data": {
      "image/png": "[encoded data removed]",
      "text/plain": [
       "<Figure size 432x288 with 1 Axes>"
      ]
     },
     "metadata": {
      "needs_background": "light"
     },
     "output_type": "display_data"
    }
   ],
   "source": [
    "pic_data = np.loadtxt('data/pict.dat', delimiter = ',', dtype = 'i')\n",
    "rows_pic_data = int(pic_data.shape[0]/1024)\n",
    "pic_data = np.reshape(pic_data, (rows_pic_data,1024))\n",
    "\n",
    "p1 = np.reshape(pic_data[0], (32, 32))\n",
    "p2 = np.reshape(pic_data[1], (32, 32))\n",
    "p3 = np.reshape(pic_data[2], (32, 32))\n",
    "p4 = np.reshape(pic_data[3], (32, 32))\n",
    "p5 = np.reshape(pic_data[4], (32, 32))\n",
    "p6 = np.reshape(pic_data[5], (32, 32))\n",
    "p7 = np.reshape(pic_data[6], (32, 32))\n",
    "p8 = np.reshape(pic_data[7], (32, 32))\n",
    "p9 = np.reshape(pic_data[8], (32, 32))\n",
    "p10 = np.reshape(pic_data[9], (32, 32))\n",
    "p11 = np.reshape(pic_data[10], (32, 32))\n",
    "\n",
    "# plt.imshow(p1, interpolation='nearest')\n",
    "# plt.show()\n",
    "# plt.imshow(p2, interpolation='nearest')\n",
    "# plt.show()\n",
    "# plt.imshow(p3, interpolation='nearest')\n",
    "# plt.show()\n",
    "# plt.imshow(p4, interpolation='nearest')\n",
    "# plt.show()\n",
    "# plt.imshow(p5, interpolation='nearest')\n",
    "# plt.show()\n",
    "# plt.imshow(p6, interpolation='nearest')\n",
    "# plt.show()\n",
    "# plt.imshow(p7, interpolation='nearest')\n",
    "# plt.show()\n",
    "# plt.imshow(p8, interpolation='nearest')\n",
    "# plt.show()\n",
    "# plt.imshow(p9, interpolation='nearest')\n",
    "# plt.show()\n",
    "# plt.imshow(p10, interpolation='nearest')\n",
    "# plt.show()\n",
    "# plt.imshow(p11, interpolation='nearest')\n",
    "# plt.show()\n",
    "indicies = np.arange(len(pic_data[0]))\n",
    "np.random.shuffle(indicies)\n",
    "pic_data_distorted = np.copy(pic_data)\n",
    "#print(pic_data_distorted[0])\n",
    "for i in range(100):\n",
    "    #print(pic_data_distorted[0][indicies[i]])\n",
    "    pic_data_distorted[0][indicies[i]] = -1 * pic_data[0][indicies[i]]\n",
    "    #print(pic_data_distorted[0][indicies[i]])\n",
    "    pic_data_distorted[1][indicies[i]] = -1 * pic_data[1][indicies[i]]\n",
    "    pic_data_distorted[2][indicies[i]] = -1 * pic_data[2][indicies[i]]\n",
    "\n",
    "\n",
    "\n",
    "#print(np.array_equal(pic_data[0], pic_data_distorted[0]))\n",
    "distored_image_1 = np.reshape(pic_data_distorted[0], (32, 32))\n",
    "distored_image_2 = np.reshape(pic_data_distorted[1], (32, 32))\n",
    "distored_image_3 = np.reshape(pic_data_distorted[2], (32, 32))\n",
    "distored_image_10 = np.reshape(pic_data_distorted[9], (32, 32))\n",
    "distored_image_11 = np.reshape(pic_data_distorted[10], (32, 32))\n",
    "# plt.imshow(distored_image_1, interpolation='nearest')\n",
    "# plt.show()\n",
    "# plt.imshow(distored_image_2, interpolation='nearest')\n",
    "# plt.show()\n",
    "# plt.imshow(distored_image_3, interpolation='nearest')\n",
    "# plt.show()\n",
    "plt.imshow(distored_image_10, interpolation='nearest')\n",
    "plt.show()\n",
    "plt.imshow(distored_image_11, interpolation='nearest')\n",
    "plt.show()\n",
    "store_patterns(pic_data[0], pic_data[1], pic_data[2], pic_data_distorted[9], pic_data_distorted[10],\n",
    "               pic_data_distorted[2])\n",
    "#print(p1)"
   ]
  },
  {
   "cell_type": "code",
   "execution_count": 82,
   "metadata": {},
   "outputs": [
    {
     "data": {
      "image/png": "[encoded data removed]",
      "text/plain": [
       "<Figure size 432x288 with 1 Axes>"
      ]
     },
     "metadata": {
      "needs_background": "light"
     },
     "output_type": "display_data"
    }
   ],
   "source": [
    "# print(np.shape(pic_data_distorted))\n",
    "# print(np.array_equal(pic_data_distorted, pic_data))\n",
    "# np.array_equal(pic_data[0], pic_data_distorted[0])\n",
    "# pic_data_distorted[0][45] = 1\n",
    "# print(pic_data_distorted[0][45])\n",
    "\n",
    "plt.imshow(np.identity(3))\n",
    "plt.show()"
   ]
  }
 ],
 "metadata": {
  "kernelspec": {
   "display_name": "Python 3",
   "language": "python",
   "name": "python3"
  },
  "language_info": {
   "codemirror_mode": {
    "name": "ipython",
    "version": 3
   },
   "file_extension": ".py",
   "mimetype": "text/x-python",
   "name": "python",
   "nbconvert_exporter": "python",
   "pygments_lexer": "ipython3",
   "version": "3.7.4"
  }
 },
 "nbformat": 4,
 "nbformat_minor": 2
}
