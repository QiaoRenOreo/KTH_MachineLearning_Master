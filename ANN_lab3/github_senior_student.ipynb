{
 "cells": [
  {
   "cell_type": "code",
   "execution_count": null,
   "metadata": {},
   "outputs": [],
   "source": [
    "# https://github.com/bt-s/dd2424-deep-learning-assignments/blob/master/assignment1/assignment1.py\n",
    "# https://github.com/konsoz/KTH/blob/master/DD2424%20-%20Deep%20Learning%20in%20Data%20Science%20/lab1/lab1.py\n",
    "# https://github.com/MathewStylianidis/DD2424-Deep-Learning/blob/master/Lab1/Assignment_1.py\n",
    "# https://github.com/baldassarreFe/dd2424-deep-learning/blob/master/lab1/Assignment1.ipynb\n",
    "    "
   ]
  }
 ],
 "metadata": {
  "kernelspec": {
   "display_name": "Python 3",
   "language": "python",
   "name": "python3"
  },
  "language_info": {
   "codemirror_mode": {
    "name": "ipython",
    "version": 3
   },
   "file_extension": ".py",
   "mimetype": "text/x-python",
   "name": "python",
   "nbconvert_exporter": "python",
   "pygments_lexer": "ipython3",
   "version": "3.7.0"
  }
 },
 "nbformat": 4,
 "nbformat_minor": 2
}
