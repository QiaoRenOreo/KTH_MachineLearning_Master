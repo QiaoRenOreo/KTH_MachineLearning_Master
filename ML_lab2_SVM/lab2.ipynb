{
 "cells": [
  {
   "cell_type": "code",
   "execution_count": 1,
   "metadata": {},
   "outputs": [],
   "source": [
    "import numpy , random , math\n",
    "from scipy.optimize import minimize\n",
    "import matplotlib.pyplot as plt\n",
    "import numpy as np\n"
   ]
  },
  {
   "cell_type": "code",
   "execution_count": 2,
   "metadata": {},
   "outputs": [
    {
     "data": {
      "image/png": "[encoded data removed]",
      "text/plain": [
       "<Figure size 432x288 with 1 Axes>"
      ]
     },
     "metadata": {
      "needs_background": "light"
     },
     "output_type": "display_data"
    }
   ],
   "source": [
    "## generating test data\n",
    "classA = numpy.concatenate ((numpy.random.randn (10,2)*0.2 + [ 1.5 , 0.5 ],numpy.random.randn (10,2)*0.2 + [ - 1.5 , 0.5 ]) )\n",
    "classB = numpy.random.randn (20, 2) * 0.2 + [0 , -1] ##[ 0.0 , - 0.5] ## \n",
    "inputs = numpy.concatenate ( ( classA , classB ) )\n",
    "targets = numpy.concatenate ((numpy.ones ( classA.shape [ 0 ] ) , - numpy.ones ( classB.shape [ 0 ] ) ) )\n",
    "N = inputs.shape [ 0 ] # Number of rows ( sample s )\n",
    "permute= list( range (N) )\n",
    "random.shuffle ( permute )\n",
    "inputs = inputs [ permute , : ]\n",
    "targets = targets [ permute ]\n",
    "\n",
    "plt.plot ( [ p[0] for p in classA ] ,[ p[1] for p in classA ], 'b.'  )\n",
    "plt.plot ( [ p[0] for p in classB ] ,[ p[1] for p in classB ], 'r.' )\n",
    "plt.axis ( 'equal' ) # Force same s c a l e on both axe s\n",
    "# plt.savefig ( 'svmplot.pdf' ) # Save a copy in a f i l e\n",
    "plt.show() "
   ]
  },
  {
   "cell_type": "code",
   "execution_count": 3,
   "metadata": {},
   "outputs": [
    {
     "name": "stdout",
     "output_type": "stream",
     "text": [
      "(20, 2)\n",
      "(20, 2)\n",
      "(40, 2)\n",
      "[[ 0.01916436 -0.66611337]\n",
      " [ 1.25698748  0.69585277]\n",
      " [ 0.00388727 -0.99480971]\n",
      " [-1.8229186   0.40948609]\n",
      " [-1.26011211  0.25002183]\n",
      " [ 1.46920416  0.44915057]\n",
      " [ 0.35872026 -0.93903477]\n",
      " [-1.68962206  0.46240512]\n",
      " [ 1.19864859  0.44206287]\n",
      " [ 0.23302491 -1.06877712]\n",
      " [ 1.53216803  0.71614984]\n",
      " [-0.20203723 -0.82280443]\n",
      " [-1.3913222   0.43124532]\n",
      " [ 1.68196367  0.33184172]\n",
      " [ 0.14381285 -1.23327387]\n",
      " [ 0.1460274  -1.25891861]\n",
      " [-0.06986986 -1.01257332]\n",
      " [-0.01949913 -1.1561995 ]\n",
      " [ 1.46497626  0.65744297]\n",
      " [ 1.51562559  0.28783966]\n",
      " [-1.23435675  0.50740732]\n",
      " [ 1.95956357  0.63305062]\n",
      " [-0.07298741 -0.99007489]\n",
      " [ 0.22520878 -0.72842051]\n",
      " [ 0.30874789 -0.9662621 ]\n",
      " [-0.08711893 -1.25931349]\n",
      " [-0.18320236 -0.82408648]\n",
      " [-1.77923003  0.40887808]\n",
      " [-1.36514266  0.43937873]\n",
      " [ 1.3276449   0.48537137]\n",
      " [-0.42975901 -1.18587265]\n",
      " [ 1.4207313   0.71113297]\n",
      " [ 0.10565653 -1.19510128]\n",
      " [-1.62567484  0.32713526]\n",
      " [-0.0093373  -0.95078527]\n",
      " [ 0.03240796 -1.08963152]\n",
      " [-1.38976865  0.65698084]\n",
      " [ 0.43428931 -1.17444287]\n",
      " [-0.16576272 -0.96228439]\n",
      " [-1.4437921   0.54194277]]\n",
      "[-1.8229186   0.40948609]\n",
      "[-1.  1. -1.  1.  1.  1. -1.  1.  1. -1.  1. -1.  1.  1. -1. -1. -1. -1.\n",
      "  1.  1.  1.  1. -1. -1. -1. -1. -1.  1.  1.  1. -1.  1. -1.  1. -1. -1.\n",
      "  1. -1. -1.  1.]\n"
     ]
    }
   ],
   "source": [
    "# print (classA)\n",
    "print (classA.shape)\n",
    "print (classB.shape)\n",
    "print (inputs.shape)\n",
    "print(inputs)\n",
    "print(numpy.transpose(inputs [3]))\n",
    "print(targets)"
   ]
  },
  {
   "cell_type": "code",
   "execution_count": 4,
   "metadata": {},
   "outputs": [],
   "source": [
    "\n",
    "# linear kernel  k= xT * y\n",
    "kernelType = \"polynomial\"\n",
    "def kernel (x, y):\n",
    "    if (kernelType == \"linear\"):\n",
    "        k= numpy.dot(np.transpose (x),y);\n",
    "    elif (kernelType == \"polynomial\"):\n",
    "        p=5 ## try 3,4,5 \n",
    "        k= numpy.power( numpy.dot (np.transpose (x),y)+1, p)\n",
    "    elif (kernelType == \"RBF\"):\n",
    "        sigma= 4\n",
    "        k= math.exp(-math.pow(numpy.linalg.norm(numpy.subtract(x, y)), 2)/(2 * math.pow(sigma,2)))\n",
    "    else:\n",
    "        print (\"invalid kernel type\")\n",
    "    return k;\n",
    "\n",
    "\n",
    "Pmatrix=numpy.zeros(shape=(N,N)) \n",
    "for i in range (0,N):\n",
    "    for j in range (0,N):\n",
    "        Pmatrix[i][j]=targets[i]* targets[j]*kernel(inputs[i],inputs[j])\n",
    "            \n",
    "def objective  (alpha): ## alpha is a vector\n",
    "    return  (1/2)*numpy.dot(alpha, numpy.dot(alpha, Pmatrix)) - numpy.sum(alpha)\n",
    "def zerofun(alpha):\n",
    "    return numpy.dot(alpha,targets) \n",
    "\n",
    "\n",
    "def threshold_b ():\n",
    "    bsum=0\n",
    "    r=0\n",
    "    for i in range (0, len (nonzeroalpha)):\n",
    "        bsum = bsum + nonzeroalpha[i][0]* nonzeroalpha[i][2] * kernel ( nonzeroalpha [0][1],nonzeroalpha[i][1]) ###???\n",
    "    r=bsum - nonzeroalpha[0][2] ## how to find vector s  ???\n",
    "    return r\n",
    "\n",
    "def indicator (x,y,b):\n",
    "    indsum=0\n",
    "    result=0\n",
    "    for i in range (0, len (nonzeroalpha)):\n",
    "        indsum=indsum+ nonzeroalpha[i][0]* nonzeroalpha[i][2] *kernel ([x, y],nonzeroalpha[i][1])\n",
    "    result= indsum-b \n",
    "#     print(result)\n",
    "    return result\n"
   ]
  },
  {
   "cell_type": "code",
   "execution_count": 8,
   "metadata": {},
   "outputs": [
    {
     "name": "stdout",
     "output_type": "stream",
     "text": [
      "N: 40\n"
     ]
    },
    {
     "data": {
      "image/png": "[encoded data removed]",
      "text/plain": [
       "<Figure size 432x288 with 1 Axes>"
      ]
     },
     "metadata": {
      "needs_background": "light"
     },
     "output_type": "display_data"
    }
   ],
   "source": [
    "C=1\n",
    "N = inputs.shape[0]\n",
    "print (\"N:\",N)\n",
    "\n",
    "con={'type':'eq','fun':zerofun}\n",
    "\n",
    "B=[(0, C) for b in range(N) ]\n",
    "print (\"B:\",B)\n",
    "start=numpy.zeros(N) \n",
    "print (\"start:\",start)\n",
    "XC = {'type':'eq', 'fun':zerofun}\n",
    "ret = minimize(objective, start, bounds=B, constraints=XC)\n",
    "\n",
    "\n",
    "if (not ret[ 'success']):  # The string 'success' instead holds a boolean representing if the optimizer has found a solution\n",
    "    raise ValueError('Cannot find optimizing solution')  ## ?? when does it can not find an optimization?\n",
    "# Extract non-zero alphas\n",
    "alpha = ret['x']\n",
    "# print (alpha)\n",
    "nonzeroalpha = [(alpha[i], inputs[i], targets[i]) for i in range(N) if abs(alpha[i]) > 10e-5]\n",
    "# print (nonzeroalpha)\n",
    "\n",
    "plt.plot ( [ p[0] for p in classA ] ,[ p[1] for p in classA ], 'b.'  )\n",
    "plt.plot ( [ p[0] for p in classB ] ,[ p[1] for p in classB ], 'r.' )\n",
    "plt.axis ( 'equal' ) # Force same s c a l e on both axe s\n",
    "\n",
    "b=threshold_b ()\n",
    "xgrid=numpy.linspace (-5, 5)\n",
    "ygrid=numpy.linspace (-4, 4)\n",
    "grid = numpy.array([[indicator(x, y, b) for x in xgrid] for y in ygrid])\n",
    "\n",
    "plt.contour(xgrid, ygrid, grid, (-1.0,0.0,1.0), colors=('red','black','blue'), linewidths=(1,3,1))\n",
    "# plt.savefig ( 'D:/Sweden/DD2421_ML/lab2_SVM/hard_poly_p5_C10.png', dpi=300 ) # Save a copy in a f i l e\n",
    "plt.show() "
   ]
  },
  {
   "cell_type": "code",
   "execution_count": null,
   "metadata": {},
   "outputs": [],
   "source": []
  },
  {
   "cell_type": "code",
   "execution_count": null,
   "metadata": {},
   "outputs": [],
   "source": []
  },
  {
   "cell_type": "code",
   "execution_count": 158,
   "metadata": {},
   "outputs": [],
   "source": []
  },
  {
   "cell_type": "code",
   "execution_count": null,
   "metadata": {},
   "outputs": [],
   "source": []
  },
  {
   "cell_type": "code",
   "execution_count": 130,
   "metadata": {},
   "outputs": [],
   "source": [
    "\n"
   ]
  },
  {
   "cell_type": "code",
   "execution_count": null,
   "metadata": {
    "scrolled": true
   },
   "outputs": [],
   "source": [
    "\n"
   ]
  },
  {
   "cell_type": "code",
   "execution_count": 70,
   "metadata": {},
   "outputs": [],
   "source": []
  },
  {
   "cell_type": "code",
   "execution_count": 89,
   "metadata": {},
   "outputs": [],
   "source": []
  },
  {
   "cell_type": "code",
   "execution_count": 52,
   "metadata": {},
   "outputs": [],
   "source": []
  },
  {
   "cell_type": "code",
   "execution_count": 48,
   "metadata": {},
   "outputs": [
    {
     "name": "stdout",
     "output_type": "stream",
     "text": [
      "12\n",
      "[12  6]\n"
     ]
    }
   ],
   "source": [
    "a_1d=[1,2,3]\n",
    "a_2d= [[2, 2, 2], [1, 1, 1]]\n",
    "b=[2,2,2]\n",
    "print(numpy.dot(a_1d,b))\n",
    "print(numpy.dot(a_2d,b))\n",
    "# print (numpy.sum( numpy.dot(a,b) ))\n",
    "\n",
    "\n",
    "# a = [1, 2, 3]\n",
    "# print(np.sum(a, axis=0))\n",
    "\n",
    "# a = np.array([1,2]) \n",
    "# b = np.array([11,12]) \n",
    "\n",
    "# print ( np.dot(numpy.transpose(a),b)  )\n",
    "# print ( np.dot(a,b)   )"
   ]
  },
  {
   "cell_type": "code",
   "execution_count": null,
   "metadata": {},
   "outputs": [],
   "source": []
  }
 ],
 "metadata": {
  "kernelspec": {
   "display_name": "Python 3",
   "language": "python",
   "name": "python3"
  },
  "language_info": {
   "codemirror_mode": {
    "name": "ipython",
    "version": 3
   },
   "file_extension": ".py",
   "mimetype": "text/x-python",
   "name": "python",
   "nbconvert_exporter": "python",
   "pygments_lexer": "ipython3",
   "version": "3.8.6"
  }
 },
 "nbformat": 4,
 "nbformat_minor": 2
}
