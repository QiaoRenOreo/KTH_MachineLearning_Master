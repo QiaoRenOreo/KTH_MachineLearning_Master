{
 "cells": [
  {
   "cell_type": "code",
   "execution_count": 1,
   "metadata": {},
   "outputs": [
    {
     "name": "stderr",
     "output_type": "stream",
     "text": [
      "Using TensorFlow backend.\n"
     ]
    }
   ],
   "source": [
    "import numpy as np\n",
    "import keras\n",
    "import pandas as pd\n",
    "import matplotlib.pyplot as plt\n",
    "import time\n",
    "from sklearn.metrics import mean_squared_error as mse\n",
    "from statistics import stdev \n",
    "from statistics import mean\n",
    "\n",
    "from keras.callbacks import EarlyStopping\n",
    "from keras import regularizers\n",
    "from keras.optimizers import Adam\n",
    "from sklearn.preprocessing import MinMaxScaler\n",
    "from sklearn.model_selection import train_test_split\n",
    "\n",
    "from keras.preprocessing.sequence import TimeseriesGenerator\n",
    "from keras.layers import LSTM\n",
    "from keras.layers import Dropout\n",
    "from keras.models import Sequential\n",
    "from keras.layers import Dense\n",
    "\n",
    "np.random.seed (30)"
   ]
  },
  {
   "cell_type": "code",
   "execution_count": 2,
   "metadata": {},
   "outputs": [],
   "source": [
    "    \n",
    "def generate_next_data (current_time , x): # x is a 2d array. size of x: 1 row * (number of data points) col\n",
    "    next_data = x[0][current_time] + ( ( 0.2 * x[0][current_time -25] )  /  (1+ (x[0][current_time -25])**10 )  ) -0.1* x[0][current_time]\n",
    "    return next_data\n",
    "\n",
    "def generate_input (t, x): # x: a 2D array. x stores Mackey Glass data\n",
    "    l=[x[0][t-20],\n",
    "      x[0][t-15],\n",
    "      x[0][t-10],\n",
    "      x[0][t-5],\n",
    "      x[0][t]]\n",
    "    return l\n",
    "\n",
    "def generate_output (t, data_target_1531):\n",
    "    return data_target_1531[0][t+5]\n",
    "\n",
    "\n",
    "def generate_Mackey_Galss_Data( how_many_data_point):\n",
    "    data_target_1531=np.zeros((1, how_many_data_point)) # 1 row * 1531 col\n",
    "    data_target_1531[0][25]=1.5\n",
    "    for i in range (25, 1530):\n",
    "        data_target_1531[0][i+1] = generate_next_data (i, data_target_1531)\n",
    "    # print( data_target_1531.shape)\n",
    "    return data_target_1531\n",
    "\n",
    "\n",
    "# add gaussian noise to my pure data\n",
    "def add_noise (data_target_1531, noise_std_dev): \n",
    "    noise_mean=0\n",
    "    noise = np.random.normal(noise_mean, noise_std_dev, data_target_1531.shape)  # np.random.normal(mu, sigma, 1000)\n",
    "    data_target_1531_noise = data_target_1531 + noise\n",
    "    return data_target_1531_noise\n",
    "\n",
    "def generate_inputArray_outputArray (data_target_1531):\n",
    "    inputData = []\n",
    "    outputData = []\n",
    "    for j in range(301, 1501):\n",
    "        i =j+25\n",
    "        inputData.append (generate_input (i, data_target_1531) )\n",
    "        outputData.append (generate_output (i, data_target_1531) )\n",
    "\n",
    "    inputData = np.array(inputData, dtype=float) # convert list to array\n",
    "    outputData = np.array(outputData, dtype=float)\n",
    "\n",
    "    return inputData, outputData\n",
    "\n",
    "\n",
    "# split to train, validation, and test data\n",
    "#split_1: split between train and val. \n",
    "#split_2: split between val and test. \n",
    "def split (inputData, outputData): \n",
    "    \n",
    "    train_input,  val_input,  test_input  =  inputData[:split_1 , :], inputData[ split_1:split_2 , :], inputData[split_2:, :]\n",
    "    train_output, val_output, test_output =  outputData[:split_1],    outputData[ split_1:split_2 ],    outputData[split_2:]\n",
    "\n",
    "    return train_input, val_input, test_input, train_output, val_output, test_output\n",
    "\n",
    "def generate_6_DataSet (data_target_1531 ): # standard deviation: choose std_1 or std_2 or std_3\n",
    "  \n",
    "    inputData, outputData = generate_inputArray_outputArray (data_target_1531 )\n",
    "    train_in, val_in, test_in, train_out, val_out, test_out       = split (inputData, outputData)\n",
    "    return train_in, val_in, test_in, train_out, val_out, test_out\n",
    "\n",
    "##############################\n",
    "def draw ( l, color):\n",
    "    index_list= range( len (l))\n",
    "    plt.scatter (index_list, l, c=color)\n",
    "    plt.show()\n",
    "\n",
    "    \n",
    "def draw_2_scatters ( l1, color1, l2, color2):\n",
    "    index_list= range( len (l1))\n",
    "    p1=plt.scatter (index_list, l1, c=color1, s=10) # s: marker size\n",
    "    p2=plt.scatter (index_list, l2, c=color2, s=10)\n",
    "    \n",
    "    plt.legend( (p1,p2), ('pure data', 'noised data'), scatterpoints=1, loc='lower left', ncol=1, fontsize=10)\n",
    "    plt.show()\n",
    "    \n",
    "def draw_3_scatters ( l1, color1, l2, color2, l3, color3):\n",
    "    index_list= range( len (l1))\n",
    "    p1=plt.scatter (index_list, l1, c=color1, s=10) # s: marker size\n",
    "    p2=plt.scatter (index_list, l2, c=color2, s=10)\n",
    "    p3=plt.scatter (index_list, l3, c=color3, s=10)\n",
    "    \n",
    "    plt.legend( (p1,p2,p3), ('pure data', 'noised data', 'prediction'), scatterpoints=1, loc='lower left',  ncol=1, fontsize=10)\n",
    "    plt.show()\n",
    "    \n",
    "def draw_1_line (title, xlabel, ylabel, ymin,ymax, l0, l1, color1, label1  ):\n",
    "#     index_list= range( len (l1))\n",
    "    fig = plt.figure() \n",
    "    ax = plt.subplot(111)\n",
    "    ax.plot(l0, l1, c=color1, label= label1 )\n",
    "    plt.title(title )\n",
    "    ax.legend()\n",
    "    plt.xlabel(xlabel ) \n",
    "    plt.ylabel(ylabel )\n",
    "    ax.set_ylim([ymin,ymax])\n",
    "    plt.savefig('D:/Sweden/p3/ANN/lab1/part2/'+ title + '.png', dpi=300)\n",
    "    plt.show()\n",
    "    \n",
    "def draw_2_line ( title, xlabel, ylabel, l0, l1, color1, label1, l2, color2, label2 ):\n",
    "    \n",
    "    fig = plt.figure() \n",
    "    ax = plt.subplot(111)\n",
    "    ax.plot(l0, l1, c=color1, label= label1 )\n",
    "    ax.plot(l0, l2, c=color2, label= label2)\n",
    "    plt.title(title)\n",
    "    plt.xlabel(xlabel ) \n",
    "    plt.ylabel(ylabel ) \n",
    "    ax.legend()\n",
    "    plt.show()\n",
    "        \n",
    "def draw_3_line (title, xlabel, ylabel, ymin,ymax, l0, l1, color1, label1, l2, color2, label2, l3, color3, label3 ):\n",
    "#     index_list= range( len (l1))\n",
    "    fig = plt.figure() \n",
    "    ax = plt.subplot(111)\n",
    "    ax.plot(l0, l1, c=color1, label= label1 )\n",
    "    ax.plot(l0, l2, c=color2, label= label2 )\n",
    "    ax.plot(l0, l3, c=color3, label= label3 )\n",
    "    plt.title(title )\n",
    "    ax.legend()\n",
    "    plt.xlabel(xlabel ) \n",
    "    plt.ylabel(ylabel )\n",
    "    ax.set_ylim([ymin,ymax])\n",
    "    plt.savefig('D:/Sweden/p3/ANN/lab1/part2/'+ title + '.png', dpi=300)\n",
    "    plt.show()"
   ]
  },
  {
   "cell_type": "code",
   "execution_count": 4,
   "metadata": {},
   "outputs": [],
   "source": [
    "\n",
    "data_target_1531 = generate_Mackey_Galss_Data(1531)\n",
    "\n",
    "std_1=0.03\n",
    "std_2=0.09\n",
    "std_3=0.18\n",
    "\n",
    "\n",
    "data_target_1531_noise1 = add_noise (data_target_1531, std_1 )\n",
    "data_target_1531_noise2 = add_noise (data_target_1531, std_2 )\n",
    "data_target_1531_noise3 = add_noise (data_target_1531, std_3 )\n",
    "\n",
    "split_1 = 900\n",
    "split_2 = 1000\n",
    "\n",
    "\n",
    "train_in_pure,  val_in_pure,  test_in_pure,  train_out_pure,  val_out_pure,  test_out_pure = generate_6_DataSet (data_target_1531 )\n",
    "\n",
    "train_in_noise1, val_in_noise1, test_in_noise1, train_out_noise1, val_out_noise1, test_out_noise1 = generate_6_DataSet (data_target_1531_noise1 )\n",
    "train_in_noise2, val_in_noise2, test_in_noise2, train_out_noise2, val_out_noise2, test_out_noise2 = generate_6_DataSet (data_target_1531_noise2 )\n",
    "train_in_noise3, val_in_noise3, test_in_noise3, train_out_noise3, val_out_noise3, test_out_noise3 = generate_6_DataSet (data_target_1531_noise3 )\n",
    "\n",
    "\n",
    "# draw_2_line ( 'time', 'target', range( len (val_out_pure[:])) , \n",
    "#              val_out_pure[:], 'c', 'pure', \n",
    "#              val_out_noise1[:],'b', 'noise')\n",
    "\n",
    "# draw_2_scatters (train_out_pure[:], 'c', train_out_noise1[:],'b')\n",
    "# draw_2_scatters (train_out_pure[:], 'c', train_out_noise2[:],'b')\n",
    "# draw_2_scatters (train_out_pure[:], 'c', train_out_noise3[:],'b')\n",
    "\n",
    "\n"
   ]
  },
  {
   "cell_type": "code",
   "execution_count": 5,
   "metadata": {},
   "outputs": [],
   "source": [
    "def plot_loss(model_history):\n",
    "    \n",
    "    plt.plot (model_history.history['loss'])\n",
    "    plt.show ()\n",
    "    return \n",
    "\n",
    "def predict (kerasModel, test_data  ):\n",
    "    prediction = kerasModel.predict(test_data)\n",
    "    return prediction\n",
    "\n",
    "\n",
    "\n",
    "# L1: Sum of the absolute weights.\n",
    "# L2: Sum of the squared weights.\n",
    "# L1L2: Sum of the absolute and the squared weights.\n",
    "# kernel_regularizer: means weight regularizer  we only use this\n",
    "# bias_regularizer\n",
    "# activity_regularizer\n",
    "\n",
    "def train_2_layer_NN (train_input, train_output, val_input, val_output, \n",
    "                      learning_rate, regu_strength, num_neurons_layer1): \n",
    "    dim_InputData =5\n",
    "    num_neurons_output=1\n",
    "    \n",
    "    model = Sequential()  \n",
    "    model.add(Dense( num_neurons_layer1, \n",
    "                     input_shape=(dim_InputData,),\n",
    "                     activation='sigmoid',\n",
    "                     kernel_regularizer=regularizers.l1(regu_strength),  # regularizer l2 norm  defalt 0.01\n",
    "                   ) )  \n",
    "    model.add(Dense(num_neurons_output))\n",
    "\n",
    "    model.compile(loss='mean_squared_error', optimizer=Adam(lr=learning_rate)  )\n",
    "\n",
    "    es = EarlyStopping(monitor='val_loss', mode='min', verbose=1)  # \n",
    "    \n",
    "    history=model.fit(train_input, train_output, \n",
    "                      validation_data=(val_input, val_output), #validation_split=0.1, \n",
    "                      nb_epoch=100, \n",
    "                      batch_size=1, \n",
    "                      verbose=1,\n",
    "                      callbacks = [es]\n",
    "                     )\n",
    "\n",
    "    return model, history\n",
    "\n",
    "\n",
    "\n",
    "# # epoch_convergent = len (model_pure_history.history['val_loss'])\n",
    "# def average(lst): \n",
    "#     return sum(lst) / len(lst) \n",
    "\n",
    "\n",
    "def regularization_validation (train_in_pure, train_out_pure, val_in_pure, val_out_pure, test_in_pure, test_out_pure, \n",
    "                               learning_rate, regu_strength_list, num_neurons_layer1):\n",
    "    val_MSE_list= []\n",
    "    test_MSE_list =[]\n",
    "    train_MSE_list =[]\n",
    "    print (\"num_neurons_layer1: \", num_neurons_layer1)\n",
    "    \n",
    "    for i in range ( 0, len (regu_strength_list) ):\n",
    "        model_pure, model_history = train_2_layer_NN(train_in_pure, train_out_pure, val_in_pure, val_out_pure, learning_rate, regu_strength_list[i], num_neurons_layer1)\n",
    "        val_MSE = model_history.history['val_loss'][-1]\n",
    "        val_MSE_list.append (val_MSE)\n",
    "\n",
    "        train_MSE = model_history.history['loss'][-1]\n",
    "        train_MSE_list.append (train_MSE)\n",
    "        \n",
    "        prediction = predict (model_pure, test_in_pure)\n",
    "        MSE= mse (test_out_pure, prediction) \n",
    "        test_MSE_list.append (MSE)\n",
    "        \n",
    "    return val_MSE_list, test_MSE_list, train_MSE_list"
   ]
  },
  {
   "cell_type": "code",
   "execution_count": 6,
   "metadata": {
    "scrolled": true
   },
   "outputs": [
    {
     "name": "stdout",
     "output_type": "stream",
     "text": [
      "num_neurons_layer1:  3\n"
     ]
    },
    {
     "name": "stderr",
     "output_type": "stream",
     "text": [
      "c:\\program files\\python37\\lib\\site-packages\\ipykernel_launcher.py:42: UserWarning: The `nb_epoch` argument in `fit` has been renamed `epochs`.\n"
     ]
    },
    {
     "name": "stdout",
     "output_type": "stream",
     "text": [
      "Train on 900 samples, validate on 100 samples\n",
      "Epoch 1/100\n",
      "900/900 [==============================] - 1s 894us/step - loss: 0.1361 - val_loss: 0.0593\n",
      "Epoch 2/100\n",
      "900/900 [==============================] - 1s 970us/step - loss: 0.0622 - val_loss: 0.0478\n",
      "Epoch 3/100\n",
      "900/900 [==============================] - 1s 872us/step - loss: 0.0525 - val_loss: 0.0425\n",
      "Epoch 4/100\n",
      "900/900 [==============================] - 1s 786us/step - loss: 0.0446 - val_loss: 0.0330\n",
      "Epoch 5/100\n",
      "900/900 [==============================] - 1s 814us/step - loss: 0.0377 - val_loss: 0.0276\n",
      "Epoch 6/100\n",
      "900/900 [==============================] - 1s 807us/step - loss: 0.0330 - val_loss: 0.0242\n",
      "Epoch 7/100\n",
      "900/900 [==============================] - 1s 848us/step - loss: 0.0300 - val_loss: 0.0233\n",
      "Epoch 8/100\n",
      "900/900 [==============================] - 1s 910us/step - loss: 0.0281 - val_loss: 0.0210\n",
      "Epoch 9/100\n",
      "900/900 [==============================] - 1s 895us/step - loss: 0.0267 - val_loss: 0.0199\n",
      "Epoch 10/100\n",
      "900/900 [==============================] - 1s 890us/step - loss: 0.0255 - val_loss: 0.0194\n",
      "Epoch 11/100\n",
      "900/900 [==============================] - 1s 852us/step - loss: 0.0246 - val_loss: 0.0185\n",
      "Epoch 12/100\n",
      "900/900 [==============================] - 1s 843us/step - loss: 0.0237 - val_loss: 0.0183\n",
      "Epoch 13/100\n",
      "900/900 [==============================] - 1s 893us/step - loss: 0.0229 - val_loss: 0.0176\n",
      "Epoch 14/100\n",
      "900/900 [==============================] - 1s 849us/step - loss: 0.0221 - val_loss: 0.0170\n",
      "Epoch 15/100\n",
      "900/900 [==============================] - 1s 920us/step - loss: 0.0213 - val_loss: 0.0163\n",
      "Epoch 16/100\n",
      "900/900 [==============================] - 1s 830us/step - loss: 0.0206 - val_loss: 0.0162\n",
      "Epoch 17/100\n",
      "900/900 [==============================] - 1s 798us/step - loss: 0.0200 - val_loss: 0.0155\n",
      "Epoch 18/100\n",
      "900/900 [==============================] - 1s 1ms/step - loss: 0.0193 - val_loss: 0.0156\n",
      "Epoch 00018: early stopping\n"
     ]
    },
    {
     "name": "stderr",
     "output_type": "stream",
     "text": [
      "c:\\program files\\python37\\lib\\site-packages\\ipykernel_launcher.py:42: UserWarning: The `nb_epoch` argument in `fit` has been renamed `epochs`.\n"
     ]
    },
    {
     "name": "stdout",
     "output_type": "stream",
     "text": [
      "Train on 900 samples, validate on 100 samples\n",
      "Epoch 1/100\n",
      "900/900 [==============================] - 1s 941us/step - loss: 0.0957 - val_loss: 0.0638\n",
      "Epoch 2/100\n",
      "900/900 [==============================] - 1s 913us/step - loss: 0.0694 - val_loss: 0.0492\n",
      "Epoch 3/100\n",
      "900/900 [==============================] - 1s 833us/step - loss: 0.0541 - val_loss: 0.0371\n",
      "Epoch 4/100\n",
      "900/900 [==============================] - 1s 975us/step - loss: 0.0421 - val_loss: 0.0288\n",
      "Epoch 5/100\n",
      "900/900 [==============================] - 1s 873us/step - loss: 0.0341 - val_loss: 0.0228\n",
      "Epoch 6/100\n",
      "900/900 [==============================] - 1s 842us/step - loss: 0.0291 - val_loss: 0.0220\n",
      "Epoch 7/100\n",
      "900/900 [==============================] - 1s 822us/step - loss: 0.0263 - val_loss: 0.0183\n",
      "Epoch 8/100\n",
      "900/900 [==============================] - 1s 864us/step - loss: 0.0246 - val_loss: 0.0179\n",
      "Epoch 9/100\n",
      "900/900 [==============================] - 1s 933us/step - loss: 0.0235 - val_loss: 0.0174\n",
      "Epoch 10/100\n",
      "900/900 [==============================] - 1s 932us/step - loss: 0.0227 - val_loss: 0.0170\n",
      "Epoch 11/100\n",
      "900/900 [==============================] - 1s 1ms/step - loss: 0.0221 - val_loss: 0.0168\n",
      "Epoch 12/100\n",
      "900/900 [==============================] - 1s 1ms/step - loss: 0.0217 - val_loss: 0.0167\n",
      "Epoch 13/100\n",
      "900/900 [==============================] - 1s 910us/step - loss: 0.0211 - val_loss: 0.0161\n",
      "Epoch 14/100\n",
      "900/900 [==============================] - 1s 1ms/step - loss: 0.0206 - val_loss: 0.0160\n",
      "Epoch 15/100\n",
      "900/900 [==============================] - 1s 896us/step - loss: 0.0202 - val_loss: 0.0160\n",
      "Epoch 16/100\n",
      "900/900 [==============================] - 1s 997us/step - loss: 0.0199 - val_loss: 0.0158\n",
      "Epoch 17/100\n",
      "900/900 [==============================] - 1s 959us/step - loss: 0.0195 - val_loss: 0.0152\n",
      "Epoch 18/100\n",
      "900/900 [==============================] - 1s 1ms/step - loss: 0.0190 - val_loss: 0.0150\n",
      "Epoch 19/100\n",
      "900/900 [==============================] - 1s 877us/step - loss: 0.0188 - val_loss: 0.0152\n",
      "Epoch 00019: early stopping\n"
     ]
    },
    {
     "name": "stderr",
     "output_type": "stream",
     "text": [
      "c:\\program files\\python37\\lib\\site-packages\\ipykernel_launcher.py:42: UserWarning: The `nb_epoch` argument in `fit` has been renamed `epochs`.\n"
     ]
    },
    {
     "name": "stdout",
     "output_type": "stream",
     "text": [
      "Train on 900 samples, validate on 100 samples\n",
      "Epoch 1/100\n",
      "900/900 [==============================] - 1s 870us/step - loss: 0.1167 - val_loss: 0.0779\n",
      "Epoch 2/100\n",
      "900/900 [==============================] - 1s 784us/step - loss: 0.0768 - val_loss: 0.0545\n",
      "Epoch 3/100\n",
      "900/900 [==============================] - 1s 786us/step - loss: 0.0622 - val_loss: 0.0443\n",
      "Epoch 4/100\n",
      "900/900 [==============================] - 1s 1ms/step - loss: 0.0518 - val_loss: 0.0365\n",
      "Epoch 5/100\n",
      "900/900 [==============================] - 1s 839us/step - loss: 0.0438 - val_loss: 0.0320\n",
      "Epoch 6/100\n",
      "900/900 [==============================] - 1s 853us/step - loss: 0.0383 - val_loss: 0.0278\n",
      "Epoch 7/100\n",
      "900/900 [==============================] - 1s 932us/step - loss: 0.0345 - val_loss: 0.0254\n",
      "Epoch 8/100\n",
      "900/900 [==============================] - 1s 927us/step - loss: 0.0318 - val_loss: 0.0238\n",
      "Epoch 9/100\n",
      "900/900 [==============================] - 1s 933us/step - loss: 0.0300 - val_loss: 0.0232\n",
      "Epoch 10/100\n",
      "900/900 [==============================] - 1s 1ms/step - loss: 0.0290 - val_loss: 0.0219\n",
      "Epoch 11/100\n",
      "900/900 [==============================] - 1s 895us/step - loss: 0.0279 - val_loss: 0.0218\n",
      "Epoch 12/100\n",
      "900/900 [==============================] - 1s 804us/step - loss: 0.0268 - val_loss: 0.0217\n",
      "Epoch 13/100\n",
      "900/900 [==============================] - 1s 788us/step - loss: 0.0262 - val_loss: 0.0201\n",
      "Epoch 14/100\n",
      "900/900 [==============================] - 1s 778us/step - loss: 0.0254 - val_loss: 0.0205\n",
      "Epoch 00014: early stopping\n"
     ]
    },
    {
     "name": "stderr",
     "output_type": "stream",
     "text": [
      "c:\\program files\\python37\\lib\\site-packages\\ipykernel_launcher.py:42: UserWarning: The `nb_epoch` argument in `fit` has been renamed `epochs`.\n"
     ]
    },
    {
     "name": "stdout",
     "output_type": "stream",
     "text": [
      "Train on 900 samples, validate on 100 samples\n",
      "Epoch 1/100\n",
      "900/900 [==============================] - 1s 890us/step - loss: 0.0836 - val_loss: 0.0495\n",
      "Epoch 2/100\n",
      "900/900 [==============================] - 1s 796us/step - loss: 0.0535 - val_loss: 0.0402\n",
      "Epoch 3/100\n",
      "900/900 [==============================] - 1s 792us/step - loss: 0.0417 - val_loss: 0.0295\n",
      "Epoch 4/100\n",
      "900/900 [==============================] - 1s 784us/step - loss: 0.0333 - val_loss: 0.0232\n",
      "Epoch 5/100\n",
      "900/900 [==============================] - 1s 923us/step - loss: 0.0283 - val_loss: 0.0211\n",
      "Epoch 6/100\n",
      "900/900 [==============================] - 1s 930us/step - loss: 0.0258 - val_loss: 0.0212\n",
      "Epoch 00006: early stopping\n"
     ]
    },
    {
     "name": "stderr",
     "output_type": "stream",
     "text": [
      "c:\\program files\\python37\\lib\\site-packages\\ipykernel_launcher.py:42: UserWarning: The `nb_epoch` argument in `fit` has been renamed `epochs`.\n"
     ]
    },
    {
     "name": "stdout",
     "output_type": "stream",
     "text": [
      "Train on 900 samples, validate on 100 samples\n",
      "Epoch 1/100\n",
      "900/900 [==============================] - 1s 832us/step - loss: 0.1030 - val_loss: 0.0571\n",
      "Epoch 2/100\n",
      "900/900 [==============================] - 1s 839us/step - loss: 0.0658 - val_loss: 0.0432\n",
      "Epoch 3/100\n",
      "900/900 [==============================] - 1s 1ms/step - loss: 0.0525 - val_loss: 0.0350\n",
      "Epoch 4/100\n",
      "900/900 [==============================] - 1s 761us/step - loss: 0.0426 - val_loss: 0.0277\n",
      "Epoch 5/100\n",
      "900/900 [==============================] - 1s 758us/step - loss: 0.0355 - val_loss: 0.0244\n",
      "Epoch 6/100\n",
      "900/900 [==============================] - 1s 827us/step - loss: 0.0314 - val_loss: 0.0233\n",
      "Epoch 7/100\n",
      "900/900 [==============================] - 1s 992us/step - loss: 0.0289 - val_loss: 0.0206\n",
      "Epoch 8/100\n",
      "900/900 [==============================] - 1s 827us/step - loss: 0.0272 - val_loss: 0.0203\n",
      "Epoch 9/100\n",
      "900/900 [==============================] - 1s 830us/step - loss: 0.0258 - val_loss: 0.0194\n",
      "Epoch 10/100\n",
      "900/900 [==============================] - 1s 1ms/step - loss: 0.0251 - val_loss: 0.0187\n",
      "Epoch 11/100\n",
      "900/900 [==============================] - 1s 1ms/step - loss: 0.0240 - val_loss: 0.0183\n",
      "Epoch 12/100\n",
      "900/900 [==============================] - 1s 996us/step - loss: 0.0233 - val_loss: 0.0179\n",
      "Epoch 13/100\n",
      "900/900 [==============================] - 1s 956us/step - loss: 0.0226 - val_loss: 0.0175\n",
      "Epoch 14/100\n",
      "900/900 [==============================] - 1s 824us/step - loss: 0.0218 - val_loss: 0.0177\n",
      "Epoch 00014: early stopping\n"
     ]
    },
    {
     "name": "stderr",
     "output_type": "stream",
     "text": [
      "c:\\program files\\python37\\lib\\site-packages\\ipykernel_launcher.py:42: UserWarning: The `nb_epoch` argument in `fit` has been renamed `epochs`.\n"
     ]
    },
    {
     "name": "stdout",
     "output_type": "stream",
     "text": [
      "Train on 900 samples, validate on 100 samples\n",
      "Epoch 1/100\n",
      "900/900 [==============================] - 1s 836us/step - loss: 0.0661 - val_loss: 0.0530\n",
      "Epoch 2/100\n",
      "900/900 [==============================] - 1s 760us/step - loss: 0.0482 - val_loss: 0.0360\n",
      "Epoch 3/100\n",
      "900/900 [==============================] - 1s 772us/step - loss: 0.0369 - val_loss: 0.0307\n",
      "Epoch 4/100\n",
      "900/900 [==============================] - 1s 769us/step - loss: 0.0311 - val_loss: 0.0246\n",
      "Epoch 5/100\n",
      "900/900 [==============================] - 1s 761us/step - loss: 0.0284 - val_loss: 0.0226\n",
      "Epoch 6/100\n",
      "900/900 [==============================] - 1s 773us/step - loss: 0.0268 - val_loss: 0.0217\n",
      "Epoch 7/100\n",
      "900/900 [==============================] - 1s 790us/step - loss: 0.0257 - val_loss: 0.0214\n",
      "Epoch 8/100\n",
      "900/900 [==============================] - 1s 763us/step - loss: 0.0249 - val_loss: 0.0205\n",
      "Epoch 9/100\n",
      "900/900 [==============================] - 1s 764us/step - loss: 0.0243 - val_loss: 0.0199\n",
      "Epoch 10/100\n",
      "900/900 [==============================] - 1s 759us/step - loss: 0.0237 - val_loss: 0.0196\n",
      "Epoch 11/100\n",
      "900/900 [==============================] - 1s 758us/step - loss: 0.0231 - val_loss: 0.0193\n",
      "Epoch 12/100\n",
      "900/900 [==============================] - 1s 769us/step - loss: 0.0228 - val_loss: 0.0194\n",
      "Epoch 00012: early stopping\n"
     ]
    },
    {
     "name": "stderr",
     "output_type": "stream",
     "text": [
      "c:\\program files\\python37\\lib\\site-packages\\ipykernel_launcher.py:42: UserWarning: The `nb_epoch` argument in `fit` has been renamed `epochs`.\n"
     ]
    },
    {
     "name": "stdout",
     "output_type": "stream",
     "text": [
      "Train on 900 samples, validate on 100 samples\n",
      "Epoch 1/100\n",
      "900/900 [==============================] - 1s 859us/step - loss: 0.7640 - val_loss: 0.2193\n",
      "Epoch 2/100\n",
      "900/900 [==============================] - 1s 771us/step - loss: 0.1198 - val_loss: 0.0752\n",
      "Epoch 3/100\n",
      "900/900 [==============================] - 1s 893us/step - loss: 0.0837 - val_loss: 0.0647\n",
      "Epoch 4/100\n",
      "900/900 [==============================] - 1s 779us/step - loss: 0.0793 - val_loss: 0.0612\n",
      "Epoch 5/100\n",
      "900/900 [==============================] - 1s 901us/step - loss: 0.0715 - val_loss: 0.0525\n",
      "Epoch 6/100\n",
      "900/900 [==============================] - 1s 902us/step - loss: 0.0584 - val_loss: 0.0410\n",
      "Epoch 7/100\n",
      "900/900 [==============================] - 1s 904us/step - loss: 0.0440 - val_loss: 0.0300\n",
      "Epoch 8/100\n",
      "900/900 [==============================] - 1s 999us/step - loss: 0.0345 - val_loss: 0.0235\n",
      "Epoch 9/100\n",
      "900/900 [==============================] - 1s 992us/step - loss: 0.0293 - val_loss: 0.0208\n",
      "Epoch 10/100\n",
      "900/900 [==============================] - 1s 806us/step - loss: 0.0270 - val_loss: 0.0193\n",
      "Epoch 11/100\n",
      "900/900 [==============================] - 1s 763us/step - loss: 0.0256 - val_loss: 0.0189\n",
      "Epoch 12/100\n",
      "900/900 [==============================] - 1s 880us/step - loss: 0.0245 - val_loss: 0.0179\n",
      "Epoch 13/100\n",
      "900/900 [==============================] - 1s 783us/step - loss: 0.0237 - val_loss: 0.0175\n",
      "Epoch 14/100\n",
      "900/900 [==============================] - 1s 766us/step - loss: 0.0231 - val_loss: 0.0173\n",
      "Epoch 15/100\n",
      "900/900 [==============================] - 1s 830us/step - loss: 0.0223 - val_loss: 0.0176\n",
      "Epoch 00015: early stopping\n"
     ]
    },
    {
     "name": "stderr",
     "output_type": "stream",
     "text": [
      "c:\\program files\\python37\\lib\\site-packages\\ipykernel_launcher.py:42: UserWarning: The `nb_epoch` argument in `fit` has been renamed `epochs`.\n"
     ]
    },
    {
     "name": "stdout",
     "output_type": "stream",
     "text": [
      "Train on 900 samples, validate on 100 samples\n",
      "Epoch 1/100\n",
      "900/900 [==============================] - 1s 838us/step - loss: 0.4870 - val_loss: 0.0762\n",
      "Epoch 2/100\n",
      "900/900 [==============================] - 1s 897us/step - loss: 0.0846 - val_loss: 0.0650\n",
      "Epoch 3/100\n",
      "900/900 [==============================] - 1s 959us/step - loss: 0.0715 - val_loss: 0.0523\n",
      "Epoch 4/100\n",
      "900/900 [==============================] - 1s 811us/step - loss: 0.0590 - val_loss: 0.0430\n",
      "Epoch 5/100\n",
      "900/900 [==============================] - 1s 852us/step - loss: 0.0479 - val_loss: 0.0336\n",
      "Epoch 6/100\n",
      "900/900 [==============================] - 1s 864us/step - loss: 0.0393 - val_loss: 0.0277\n",
      "Epoch 7/100\n",
      "900/900 [==============================] - 1s 825us/step - loss: 0.0336 - val_loss: 0.0243\n",
      "Epoch 8/100\n",
      "900/900 [==============================] - 1s 870us/step - loss: 0.0303 - val_loss: 0.0226\n",
      "Epoch 9/100\n",
      "900/900 [==============================] - 1s 815us/step - loss: 0.0284 - val_loss: 0.0217\n",
      "Epoch 10/100\n",
      "900/900 [==============================] - 1s 833us/step - loss: 0.0271 - val_loss: 0.0229\n",
      "Epoch 00010: early stopping\n"
     ]
    },
    {
     "name": "stderr",
     "output_type": "stream",
     "text": [
      "c:\\program files\\python37\\lib\\site-packages\\ipykernel_launcher.py:42: UserWarning: The `nb_epoch` argument in `fit` has been renamed `epochs`.\n"
     ]
    },
    {
     "name": "stdout",
     "output_type": "stream",
     "text": [
      "Train on 900 samples, validate on 100 samples\n",
      "Epoch 1/100\n",
      "900/900 [==============================] - 1s 954us/step - loss: 0.2856 - val_loss: 0.0722\n",
      "Epoch 2/100\n",
      "900/900 [==============================] - 1s 846us/step - loss: 0.0846 - val_loss: 0.0698\n",
      "Epoch 3/100\n",
      "900/900 [==============================] - 1s 849us/step - loss: 0.0794 - val_loss: 0.0660\n",
      "Epoch 4/100\n",
      "900/900 [==============================] - 1s 901us/step - loss: 0.0708 - val_loss: 0.0540\n",
      "Epoch 5/100\n",
      "900/900 [==============================] - 1s 830us/step - loss: 0.0579 - val_loss: 0.0418\n",
      "Epoch 6/100\n",
      "900/900 [==============================] - 1s 832us/step - loss: 0.0446 - val_loss: 0.0315\n",
      "Epoch 7/100\n",
      "900/900 [==============================] - 1s 902us/step - loss: 0.0350 - val_loss: 0.0263\n",
      "Epoch 8/100\n",
      "900/900 [==============================] - 1s 828us/step - loss: 0.0313 - val_loss: 0.0243\n",
      "Epoch 9/100\n",
      "900/900 [==============================] - 1s 806us/step - loss: 0.0295 - val_loss: 0.0239\n",
      "Epoch 10/100\n",
      "900/900 [==============================] - 1s 764us/step - loss: 0.0285 - val_loss: 0.0227\n",
      "Epoch 11/100\n",
      "900/900 [==============================] - 1s 766us/step - loss: 0.0278 - val_loss: 0.0225\n",
      "Epoch 12/100\n",
      "900/900 [==============================] - 1s 1ms/step - loss: 0.0270 - val_loss: 0.0220\n",
      "Epoch 13/100\n",
      "900/900 [==============================] - 1s 904us/step - loss: 0.0265 - val_loss: 0.0223\n",
      "Epoch 00013: early stopping\n"
     ]
    },
    {
     "name": "stderr",
     "output_type": "stream",
     "text": [
      "c:\\program files\\python37\\lib\\site-packages\\ipykernel_launcher.py:42: UserWarning: The `nb_epoch` argument in `fit` has been renamed `epochs`.\n"
     ]
    },
    {
     "name": "stdout",
     "output_type": "stream",
     "text": [
      "Train on 900 samples, validate on 100 samples\n",
      "Epoch 1/100\n",
      "900/900 [==============================] - 1s 859us/step - loss: 0.9326 - val_loss: 0.2702\n",
      "Epoch 2/100\n",
      "900/900 [==============================] - 1s 751us/step - loss: 0.1402 - val_loss: 0.0869\n",
      "Epoch 3/100\n",
      "900/900 [==============================] - 1s 763us/step - loss: 0.0870 - val_loss: 0.0716\n",
      "Epoch 4/100\n",
      "900/900 [==============================] - 1s 752us/step - loss: 0.0835 - val_loss: 0.0697\n",
      "Epoch 5/100\n",
      "900/900 [==============================] - 1s 814us/step - loss: 0.0797 - val_loss: 0.0659\n",
      "Epoch 6/100\n",
      "900/900 [==============================] - 1s 982us/step - loss: 0.0713 - val_loss: 0.0567\n",
      "Epoch 7/100\n",
      "900/900 [==============================] - 1s 836us/step - loss: 0.0591 - val_loss: 0.0454\n",
      "Epoch 8/100\n",
      "900/900 [==============================] - 1s 872us/step - loss: 0.0464 - val_loss: 0.0341\n",
      "Epoch 9/100\n",
      "900/900 [==============================] - 1s 972us/step - loss: 0.0356 - val_loss: 0.0251\n",
      "Epoch 10/100\n",
      "900/900 [==============================] - 1s 897us/step - loss: 0.0287 - val_loss: 0.0218\n",
      "Epoch 11/100\n",
      "900/900 [==============================] - 1s 753us/step - loss: 0.0261 - val_loss: 0.0205\n",
      "Epoch 12/100\n",
      "900/900 [==============================] - 1s 970us/step - loss: 0.0247 - val_loss: 0.0200\n",
      "Epoch 13/100\n",
      "900/900 [==============================] - 1s 999us/step - loss: 0.0237 - val_loss: 0.0204\n",
      "Epoch 00013: early stopping\n"
     ]
    },
    {
     "ename": "TypeError",
     "evalue": "draw_3_line() missing 3 required positional arguments: 'l3', 'color3', and 'label3'",
     "output_type": "error",
     "traceback": [
      "\u001b[1;31m---------------------------------------------------------------------------\u001b[0m",
      "\u001b[1;31mTypeError\u001b[0m                                 Traceback (most recent call last)",
      "\u001b[1;32m<ipython-input-6-95a74743515f>\u001b[0m in \u001b[0;36m<module>\u001b[1;34m\u001b[0m\n\u001b[0;32m      8\u001b[0m                  \u001b[0mvalMSE_of_regu\u001b[0m\u001b[1;33m,\u001b[0m   \u001b[1;34m'm'\u001b[0m\u001b[1;33m,\u001b[0m \u001b[1;34m'validation'\u001b[0m\u001b[1;33m,\u001b[0m\u001b[1;33m\u001b[0m\u001b[0m\n\u001b[0;32m      9\u001b[0m                  \u001b[0mtestMSE_of_regu\u001b[0m\u001b[1;33m,\u001b[0m  \u001b[1;34m'b'\u001b[0m\u001b[1;33m,\u001b[0m \u001b[1;34m'test'\u001b[0m\u001b[1;33m,\u001b[0m\u001b[1;33m\u001b[0m\u001b[0m\n\u001b[1;32m---> 10\u001b[1;33m                  trainMSE_of_regu, 'g',  'train' )\n\u001b[0m\u001b[0;32m     11\u001b[0m \u001b[1;33m\u001b[0m\u001b[0m\n\u001b[0;32m     12\u001b[0m \u001b[1;33m\u001b[0m\u001b[0m\n",
      "\u001b[1;31mTypeError\u001b[0m: draw_3_line() missing 3 required positional arguments: 'l3', 'color3', and 'label3'"
     ]
    }
   ],
   "source": [
    "\n",
    "num_neurons_layer1 = 3\n",
    "learning_rate = 0.001\n",
    "regu_strength_list = [ 0.0001, 0.0002, 0.0003, 0.0004, 0.0005, 0.0006, 0.0007, 0.0008, 0.0009, 0.001 ]\n",
    "valMSE_of_regu, testMSE_of_regu, trainMSE_of_regu = regularization_validation (train_in_pure, train_out_pure, val_in_pure, val_out_pure, test_in_pure, test_out_pure, \n",
    "                                                                               learning_rate, regu_strength_list, num_neurons_layer1)\n",
    "\n",
    "draw_3_line ( 'regularization strength','mean squared error', regu_strength_list ,\n",
    "                 valMSE_of_regu,   'm', 'validation', \n",
    "                 testMSE_of_regu,  'b', 'test', \n",
    "                 trainMSE_of_regu, 'g',  'train' )\n",
    "\n",
    "\n",
    "print (valMSE_of_regu)\n",
    "print (testMSE_of_regu)\n",
    "print (trainMSE_of_regu)"
   ]
  },
  {
   "cell_type": "code",
   "execution_count": null,
   "metadata": {},
   "outputs": [],
   "source": []
  },
  {
   "cell_type": "code",
   "execution_count": null,
   "metadata": {
    "scrolled": false
   },
   "outputs": [],
   "source": [
    "\n"
   ]
  },
  {
   "cell_type": "code",
   "execution_count": null,
   "metadata": {},
   "outputs": [],
   "source": [
    "\n"
   ]
  },
  {
   "cell_type": "code",
   "execution_count": 60,
   "metadata": {
    "scrolled": true
   },
   "outputs": [
    {
     "name": "stderr",
     "output_type": "stream",
     "text": [
      "c:\\program files\\python37\\lib\\site-packages\\ipykernel_launcher.py:42: UserWarning: The `nb_epoch` argument in `fit` has been renamed `epochs`.\n"
     ]
    },
    {
     "name": "stdout",
     "output_type": "stream",
     "text": [
      "Train on 900 samples, validate on 100 samples\n",
      "Epoch 1/100\n",
      "900/900 [==============================] - 1s 1ms/step - loss: 0.1281 - val_loss: 0.0910\n",
      "Epoch 2/100\n",
      "900/900 [==============================] - 1s 871us/step - loss: 0.0888 - val_loss: 0.0728\n",
      "Epoch 3/100\n",
      "900/900 [==============================] - 1s 857us/step - loss: 0.0819 - val_loss: 0.0669\n",
      "Epoch 4/100\n",
      "900/900 [==============================] - 1s 897us/step - loss: 0.0781 - val_loss: 0.0628\n",
      "Epoch 5/100\n",
      "900/900 [==============================] - 1s 836us/step - loss: 0.0738 - val_loss: 0.0593\n",
      "Epoch 6/100\n",
      "900/900 [==============================] - 1s 860us/step - loss: 0.0699 - val_loss: 0.0557\n",
      "Epoch 7/100\n",
      "900/900 [==============================] - 1s 827us/step - loss: 0.0666 - val_loss: 0.0526\n",
      "Epoch 8/100\n",
      "900/900 [==============================] - 1s 843us/step - loss: 0.0632 - val_loss: 0.0495\n",
      "Epoch 9/100\n",
      "900/900 [==============================] - 1s 807us/step - loss: 0.0599 - val_loss: 0.0465\n",
      "Epoch 10/100\n",
      "900/900 [==============================] - 1s 888us/step - loss: 0.0564 - val_loss: 0.0437\n",
      "Epoch 11/100\n",
      "900/900 [==============================] - 1s 986us/step - loss: 0.0528 - val_loss: 0.0405\n",
      "Epoch 12/100\n",
      "900/900 [==============================] - 1s 831us/step - loss: 0.0492 - val_loss: 0.0374\n",
      "Epoch 13/100\n",
      "900/900 [==============================] - 1s 800us/step - loss: 0.0456 - val_loss: 0.0345\n",
      "Epoch 14/100\n",
      "900/900 [==============================] - 1s 812us/step - loss: 0.0424 - val_loss: 0.0319\n",
      "Epoch 15/100\n",
      "900/900 [==============================] - 1s 818us/step - loss: 0.0394 - val_loss: 0.0295\n",
      "Epoch 16/100\n",
      "900/900 [==============================] - 1s 950us/step - loss: 0.0368 - val_loss: 0.0275\n",
      "Epoch 17/100\n",
      "900/900 [==============================] - 1s 945us/step - loss: 0.0345 - val_loss: 0.0259\n",
      "Epoch 18/100\n",
      "900/900 [==============================] - 1s 819us/step - loss: 0.0327 - val_loss: 0.0243\n",
      "Epoch 19/100\n",
      "900/900 [==============================] - 1s 1ms/step - loss: 0.0312 - val_loss: 0.0231\n",
      "Epoch 20/100\n",
      "900/900 [==============================] - 1s 783us/step - loss: 0.0300 - val_loss: 0.0222\n",
      "Epoch 21/100\n",
      "900/900 [==============================] - 1s 812us/step - loss: 0.0290 - val_loss: 0.0215\n",
      "Epoch 22/100\n",
      "900/900 [==============================] - 1s 827us/step - loss: 0.0282 - val_loss: 0.0207\n",
      "Epoch 23/100\n",
      "900/900 [==============================] - 1s 831us/step - loss: 0.0275 - val_loss: 0.0202\n",
      "Epoch 24/100\n",
      "900/900 [==============================] - 1s 814us/step - loss: 0.0270 - val_loss: 0.0197\n",
      "Epoch 25/100\n",
      "900/900 [==============================] - 1s 827us/step - loss: 0.0266 - val_loss: 0.0194\n",
      "Epoch 26/100\n",
      "900/900 [==============================] - 1s 762us/step - loss: 0.0262 - val_loss: 0.0191\n",
      "Epoch 27/100\n",
      "900/900 [==============================] - 1s 828us/step - loss: 0.0260 - val_loss: 0.0189\n",
      "Epoch 28/100\n",
      "395/900 [============>.................] - ETA: 0s - loss: 0.0256"
     ]
    },
    {
     "ename": "KeyboardInterrupt",
     "evalue": "",
     "output_type": "error",
     "traceback": [
      "\u001b[1;31m---------------------------------------------------------------------------\u001b[0m",
      "\u001b[1;31mKeyboardInterrupt\u001b[0m                         Traceback (most recent call last)",
      "\u001b[1;32m<ipython-input-60-102714a0453a>\u001b[0m in \u001b[0;36m<module>\u001b[1;34m\u001b[0m\n\u001b[0;32m     32\u001b[0m \u001b[0mlearning_rate\u001b[0m \u001b[1;33m=\u001b[0m \u001b[1;36m0.001\u001b[0m\u001b[1;33m\u001b[0m\u001b[0m\n\u001b[0;32m     33\u001b[0m valMSE_of_NumNeurons_2lay, testMSE_of_NumNeurons_2lay, trainMSE_of_NumNeurons_2lay, time_2lay = num_neurons_validation_2lay (train_in_pure, train_out_pure, val_in_pure, val_out_pure, test_in_pure, test_out_pure,\n\u001b[1;32m---> 34\u001b[1;33m                                                                                                          learning_rate, regu_strength, num_neurons_layer1)\n\u001b[0m\u001b[0;32m     35\u001b[0m \u001b[1;33m\u001b[0m\u001b[0m\n\u001b[0;32m     36\u001b[0m \u001b[1;33m\u001b[0m\u001b[0m\n",
      "\u001b[1;32m<ipython-input-60-102714a0453a>\u001b[0m in \u001b[0;36mnum_neurons_validation_2lay\u001b[1;34m(train_in_pure, train_out_pure, val_in_pure, val_out_pure, test_in_pure, test_out_pure, learning_rate, regu_strength, num_neurons_layer1_list)\u001b[0m\n\u001b[0;32m     10\u001b[0m \u001b[1;33m\u001b[0m\u001b[0m\n\u001b[0;32m     11\u001b[0m         model_pure, model_history = train_2_layer_NN(train_in_pure, train_out_pure, val_in_pure, val_out_pure, \n\u001b[1;32m---> 12\u001b[1;33m                                                      learning_rate, regu_strength, num_neurons_layer1_list[i])\n\u001b[0m\u001b[0;32m     13\u001b[0m         \u001b[0mend_time\u001b[0m \u001b[1;33m=\u001b[0m \u001b[0mtime\u001b[0m\u001b[1;33m.\u001b[0m\u001b[0mtime\u001b[0m\u001b[1;33m(\u001b[0m\u001b[1;33m)\u001b[0m\u001b[1;33m\u001b[0m\u001b[0m\n\u001b[0;32m     14\u001b[0m         \u001b[0mtime_spent\u001b[0m\u001b[1;33m=\u001b[0m \u001b[0mend_time\u001b[0m \u001b[1;33m-\u001b[0m \u001b[0mstart_time\u001b[0m\u001b[1;33m\u001b[0m\u001b[0m\n",
      "\u001b[1;32m<ipython-input-11-a98d4dbe658a>\u001b[0m in \u001b[0;36mtrain_2_layer_NN\u001b[1;34m(train_input, train_output, val_input, val_output, learning_rate, regu_strength, num_neurons_layer1)\u001b[0m\n\u001b[0;32m     40\u001b[0m                       \u001b[0mbatch_size\u001b[0m\u001b[1;33m=\u001b[0m\u001b[1;36m1\u001b[0m\u001b[1;33m,\u001b[0m\u001b[1;33m\u001b[0m\u001b[0m\n\u001b[0;32m     41\u001b[0m                       \u001b[0mverbose\u001b[0m\u001b[1;33m=\u001b[0m\u001b[1;36m1\u001b[0m\u001b[1;33m,\u001b[0m\u001b[1;33m\u001b[0m\u001b[0m\n\u001b[1;32m---> 42\u001b[1;33m                       \u001b[0mcallbacks\u001b[0m \u001b[1;33m=\u001b[0m \u001b[1;33m[\u001b[0m\u001b[0mes\u001b[0m\u001b[1;33m]\u001b[0m\u001b[1;33m\u001b[0m\u001b[0m\n\u001b[0m\u001b[0;32m     43\u001b[0m                      )\n\u001b[0;32m     44\u001b[0m \u001b[1;33m\u001b[0m\u001b[0m\n",
      "\u001b[1;32mc:\\program files\\python37\\lib\\site-packages\\keras\\engine\\training.py\u001b[0m in \u001b[0;36mfit\u001b[1;34m(self, x, y, batch_size, epochs, verbose, callbacks, validation_split, validation_data, shuffle, class_weight, sample_weight, initial_epoch, steps_per_epoch, validation_steps, validation_freq, max_queue_size, workers, use_multiprocessing, **kwargs)\u001b[0m\n\u001b[0;32m   1237\u001b[0m                                         \u001b[0msteps_per_epoch\u001b[0m\u001b[1;33m=\u001b[0m\u001b[0msteps_per_epoch\u001b[0m\u001b[1;33m,\u001b[0m\u001b[1;33m\u001b[0m\u001b[0m\n\u001b[0;32m   1238\u001b[0m                                         \u001b[0mvalidation_steps\u001b[0m\u001b[1;33m=\u001b[0m\u001b[0mvalidation_steps\u001b[0m\u001b[1;33m,\u001b[0m\u001b[1;33m\u001b[0m\u001b[0m\n\u001b[1;32m-> 1239\u001b[1;33m                                         validation_freq=validation_freq)\n\u001b[0m\u001b[0;32m   1240\u001b[0m \u001b[1;33m\u001b[0m\u001b[0m\n\u001b[0;32m   1241\u001b[0m     def evaluate(self,\n",
      "\u001b[1;32mc:\\program files\\python37\\lib\\site-packages\\keras\\engine\\training_arrays.py\u001b[0m in \u001b[0;36mfit_loop\u001b[1;34m(model, fit_function, fit_inputs, out_labels, batch_size, epochs, verbose, callbacks, val_function, val_inputs, shuffle, initial_epoch, steps_per_epoch, validation_steps, validation_freq)\u001b[0m\n\u001b[0;32m    194\u001b[0m                     \u001b[0mins_batch\u001b[0m\u001b[1;33m[\u001b[0m\u001b[0mi\u001b[0m\u001b[1;33m]\u001b[0m \u001b[1;33m=\u001b[0m \u001b[0mins_batch\u001b[0m\u001b[1;33m[\u001b[0m\u001b[0mi\u001b[0m\u001b[1;33m]\u001b[0m\u001b[1;33m.\u001b[0m\u001b[0mtoarray\u001b[0m\u001b[1;33m(\u001b[0m\u001b[1;33m)\u001b[0m\u001b[1;33m\u001b[0m\u001b[0m\n\u001b[0;32m    195\u001b[0m \u001b[1;33m\u001b[0m\u001b[0m\n\u001b[1;32m--> 196\u001b[1;33m                 \u001b[0mouts\u001b[0m \u001b[1;33m=\u001b[0m \u001b[0mfit_function\u001b[0m\u001b[1;33m(\u001b[0m\u001b[0mins_batch\u001b[0m\u001b[1;33m)\u001b[0m\u001b[1;33m\u001b[0m\u001b[0m\n\u001b[0m\u001b[0;32m    197\u001b[0m                 \u001b[0mouts\u001b[0m \u001b[1;33m=\u001b[0m \u001b[0mto_list\u001b[0m\u001b[1;33m(\u001b[0m\u001b[0mouts\u001b[0m\u001b[1;33m)\u001b[0m\u001b[1;33m\u001b[0m\u001b[0m\n\u001b[0;32m    198\u001b[0m                 \u001b[1;32mfor\u001b[0m \u001b[0ml\u001b[0m\u001b[1;33m,\u001b[0m \u001b[0mo\u001b[0m \u001b[1;32min\u001b[0m \u001b[0mzip\u001b[0m\u001b[1;33m(\u001b[0m\u001b[0mout_labels\u001b[0m\u001b[1;33m,\u001b[0m \u001b[0mouts\u001b[0m\u001b[1;33m)\u001b[0m\u001b[1;33m:\u001b[0m\u001b[1;33m\u001b[0m\u001b[0m\n",
      "\u001b[1;32mc:\\program files\\python37\\lib\\site-packages\\tensorflow_core\\python\\keras\\backend.py\u001b[0m in \u001b[0;36m__call__\u001b[1;34m(self, inputs)\u001b[0m\n\u001b[0;32m   3625\u001b[0m         \u001b[0mvalue\u001b[0m \u001b[1;33m=\u001b[0m \u001b[0mmath_ops\u001b[0m\u001b[1;33m.\u001b[0m\u001b[0mcast\u001b[0m\u001b[1;33m(\u001b[0m\u001b[0mvalue\u001b[0m\u001b[1;33m,\u001b[0m \u001b[0mtensor\u001b[0m\u001b[1;33m.\u001b[0m\u001b[0mdtype\u001b[0m\u001b[1;33m)\u001b[0m\u001b[1;33m\u001b[0m\u001b[0m\n\u001b[0;32m   3626\u001b[0m       \u001b[0mconverted_inputs\u001b[0m\u001b[1;33m.\u001b[0m\u001b[0mappend\u001b[0m\u001b[1;33m(\u001b[0m\u001b[0mvalue\u001b[0m\u001b[1;33m)\u001b[0m\u001b[1;33m\u001b[0m\u001b[0m\n\u001b[1;32m-> 3627\u001b[1;33m     \u001b[0moutputs\u001b[0m \u001b[1;33m=\u001b[0m \u001b[0mself\u001b[0m\u001b[1;33m.\u001b[0m\u001b[0m_graph_fn\u001b[0m\u001b[1;33m(\u001b[0m\u001b[1;33m*\u001b[0m\u001b[0mconverted_inputs\u001b[0m\u001b[1;33m)\u001b[0m\u001b[1;33m\u001b[0m\u001b[0m\n\u001b[0m\u001b[0;32m   3628\u001b[0m \u001b[1;33m\u001b[0m\u001b[0m\n\u001b[0;32m   3629\u001b[0m     \u001b[1;31m# EagerTensor.numpy() will often make a copy to ensure memory safety.\u001b[0m\u001b[1;33m\u001b[0m\u001b[1;33m\u001b[0m\u001b[0m\n",
      "\u001b[1;32mc:\\program files\\python37\\lib\\site-packages\\tensorflow_core\\python\\eager\\function.py\u001b[0m in \u001b[0;36m__call__\u001b[1;34m(self, *args, **kwargs)\u001b[0m\n\u001b[0;32m   1079\u001b[0m       \u001b[0mTypeError\u001b[0m\u001b[1;33m:\u001b[0m \u001b[0mFor\u001b[0m \u001b[0minvalid\u001b[0m \u001b[0mpositional\u001b[0m\u001b[1;33m/\u001b[0m\u001b[0mkeyword\u001b[0m \u001b[0margument\u001b[0m \u001b[0mcombinations\u001b[0m\u001b[1;33m.\u001b[0m\u001b[1;33m\u001b[0m\u001b[0m\n\u001b[0;32m   1080\u001b[0m     \"\"\"\n\u001b[1;32m-> 1081\u001b[1;33m     \u001b[1;32mreturn\u001b[0m \u001b[0mself\u001b[0m\u001b[1;33m.\u001b[0m\u001b[0m_call_impl\u001b[0m\u001b[1;33m(\u001b[0m\u001b[0margs\u001b[0m\u001b[1;33m,\u001b[0m \u001b[0mkwargs\u001b[0m\u001b[1;33m)\u001b[0m\u001b[1;33m\u001b[0m\u001b[0m\n\u001b[0m\u001b[0;32m   1082\u001b[0m \u001b[1;33m\u001b[0m\u001b[0m\n\u001b[0;32m   1083\u001b[0m   \u001b[1;32mdef\u001b[0m \u001b[0m_call_impl\u001b[0m\u001b[1;33m(\u001b[0m\u001b[0mself\u001b[0m\u001b[1;33m,\u001b[0m \u001b[0margs\u001b[0m\u001b[1;33m,\u001b[0m \u001b[0mkwargs\u001b[0m\u001b[1;33m,\u001b[0m \u001b[0mcancellation_manager\u001b[0m\u001b[1;33m=\u001b[0m\u001b[1;32mNone\u001b[0m\u001b[1;33m)\u001b[0m\u001b[1;33m:\u001b[0m\u001b[1;33m\u001b[0m\u001b[0m\n",
      "\u001b[1;32mc:\\program files\\python37\\lib\\site-packages\\tensorflow_core\\python\\eager\\function.py\u001b[0m in \u001b[0;36m_call_impl\u001b[1;34m(self, args, kwargs, cancellation_manager)\u001b[0m\n\u001b[0;32m   1119\u001b[0m       raise TypeError(\"Keyword arguments {} unknown. Expected {}.\".format(\n\u001b[0;32m   1120\u001b[0m           list(kwargs.keys()), list(self._arg_keywords)))\n\u001b[1;32m-> 1121\u001b[1;33m     \u001b[1;32mreturn\u001b[0m \u001b[0mself\u001b[0m\u001b[1;33m.\u001b[0m\u001b[0m_call_flat\u001b[0m\u001b[1;33m(\u001b[0m\u001b[0margs\u001b[0m\u001b[1;33m,\u001b[0m \u001b[0mself\u001b[0m\u001b[1;33m.\u001b[0m\u001b[0mcaptured_inputs\u001b[0m\u001b[1;33m,\u001b[0m \u001b[0mcancellation_manager\u001b[0m\u001b[1;33m)\u001b[0m\u001b[1;33m\u001b[0m\u001b[0m\n\u001b[0m\u001b[0;32m   1122\u001b[0m \u001b[1;33m\u001b[0m\u001b[0m\n\u001b[0;32m   1123\u001b[0m   \u001b[1;32mdef\u001b[0m \u001b[0m_filtered_call\u001b[0m\u001b[1;33m(\u001b[0m\u001b[0mself\u001b[0m\u001b[1;33m,\u001b[0m \u001b[0margs\u001b[0m\u001b[1;33m,\u001b[0m \u001b[0mkwargs\u001b[0m\u001b[1;33m)\u001b[0m\u001b[1;33m:\u001b[0m\u001b[1;33m\u001b[0m\u001b[0m\n",
      "\u001b[1;32mc:\\program files\\python37\\lib\\site-packages\\tensorflow_core\\python\\eager\\function.py\u001b[0m in \u001b[0;36m_call_flat\u001b[1;34m(self, args, captured_inputs, cancellation_manager)\u001b[0m\n\u001b[0;32m   1222\u001b[0m     \u001b[1;32mif\u001b[0m \u001b[0mexecuting_eagerly\u001b[0m\u001b[1;33m:\u001b[0m\u001b[1;33m\u001b[0m\u001b[0m\n\u001b[0;32m   1223\u001b[0m       flat_outputs = forward_function.call(\n\u001b[1;32m-> 1224\u001b[1;33m           ctx, args, cancellation_manager=cancellation_manager)\n\u001b[0m\u001b[0;32m   1225\u001b[0m     \u001b[1;32melse\u001b[0m\u001b[1;33m:\u001b[0m\u001b[1;33m\u001b[0m\u001b[0m\n\u001b[0;32m   1226\u001b[0m       \u001b[0mgradient_name\u001b[0m \u001b[1;33m=\u001b[0m \u001b[0mself\u001b[0m\u001b[1;33m.\u001b[0m\u001b[0m_delayed_rewrite_functions\u001b[0m\u001b[1;33m.\u001b[0m\u001b[0mregister\u001b[0m\u001b[1;33m(\u001b[0m\u001b[1;33m)\u001b[0m\u001b[1;33m\u001b[0m\u001b[0m\n",
      "\u001b[1;32mc:\\program files\\python37\\lib\\site-packages\\tensorflow_core\\python\\eager\\function.py\u001b[0m in \u001b[0;36mcall\u001b[1;34m(self, ctx, args, cancellation_manager)\u001b[0m\n\u001b[0;32m    509\u001b[0m               \u001b[0minputs\u001b[0m\u001b[1;33m=\u001b[0m\u001b[0margs\u001b[0m\u001b[1;33m,\u001b[0m\u001b[1;33m\u001b[0m\u001b[0m\n\u001b[0;32m    510\u001b[0m               \u001b[0mattrs\u001b[0m\u001b[1;33m=\u001b[0m\u001b[1;33m(\u001b[0m\u001b[1;34m\"executor_type\"\u001b[0m\u001b[1;33m,\u001b[0m \u001b[0mexecutor_type\u001b[0m\u001b[1;33m,\u001b[0m \u001b[1;34m\"config_proto\"\u001b[0m\u001b[1;33m,\u001b[0m \u001b[0mconfig\u001b[0m\u001b[1;33m)\u001b[0m\u001b[1;33m,\u001b[0m\u001b[1;33m\u001b[0m\u001b[0m\n\u001b[1;32m--> 511\u001b[1;33m               ctx=ctx)\n\u001b[0m\u001b[0;32m    512\u001b[0m         \u001b[1;32melse\u001b[0m\u001b[1;33m:\u001b[0m\u001b[1;33m\u001b[0m\u001b[0m\n\u001b[0;32m    513\u001b[0m           outputs = execute.execute_with_cancellation(\n",
      "\u001b[1;32mc:\\program files\\python37\\lib\\site-packages\\tensorflow_core\\python\\eager\\execute.py\u001b[0m in \u001b[0;36mquick_execute\u001b[1;34m(op_name, num_outputs, inputs, attrs, ctx, name)\u001b[0m\n\u001b[0;32m     59\u001b[0m     tensors = pywrap_tensorflow.TFE_Py_Execute(ctx._handle, device_name,\n\u001b[0;32m     60\u001b[0m                                                \u001b[0mop_name\u001b[0m\u001b[1;33m,\u001b[0m \u001b[0minputs\u001b[0m\u001b[1;33m,\u001b[0m \u001b[0mattrs\u001b[0m\u001b[1;33m,\u001b[0m\u001b[1;33m\u001b[0m\u001b[0m\n\u001b[1;32m---> 61\u001b[1;33m                                                num_outputs)\n\u001b[0m\u001b[0;32m     62\u001b[0m   \u001b[1;32mexcept\u001b[0m \u001b[0mcore\u001b[0m\u001b[1;33m.\u001b[0m\u001b[0m_NotOkStatusException\u001b[0m \u001b[1;32mas\u001b[0m \u001b[0me\u001b[0m\u001b[1;33m:\u001b[0m\u001b[1;33m\u001b[0m\u001b[0m\n\u001b[0;32m     63\u001b[0m     \u001b[1;32mif\u001b[0m \u001b[0mname\u001b[0m \u001b[1;32mis\u001b[0m \u001b[1;32mnot\u001b[0m \u001b[1;32mNone\u001b[0m\u001b[1;33m:\u001b[0m\u001b[1;33m\u001b[0m\u001b[0m\n",
      "\u001b[1;31mKeyboardInterrupt\u001b[0m: "
     ]
    }
   ],
   "source": [
    "\n",
    "def num_neurons_validation_2lay (train_in_pure, train_out_pure, val_in_pure, val_out_pure, test_in_pure, test_out_pure,\n",
    "                            learning_rate, regu_strength, num_neurons_layer1_list):\n",
    "    val_MSE_list= []\n",
    "    test_mse_list =[]\n",
    "    train_MSE_list =[]\n",
    "    time_2lay =[]\n",
    "    \n",
    "    for i in range (0, len (num_neurons_layer1_list) ):\n",
    "        start_time = time.time()\n",
    "\n",
    "        model_pure, model_history = train_2_layer_NN(train_in_pure, train_out_pure, val_in_pure, val_out_pure, \n",
    "                                                     learning_rate, regu_strength, num_neurons_layer1_list[i])\n",
    "        end_time = time.time()\n",
    "        time_spent= end_time - start_time    \n",
    "        time_2lay.append(time_spent)\n",
    "        \n",
    "        val_MSE = model_history.history['val_loss'][-1]\n",
    "        val_MSE_list.append (val_MSE)\n",
    "        \n",
    "        train_MSE = model_history.history['loss'][-1]\n",
    "        train_MSE_list.append (train_MSE)  \n",
    "        \n",
    "        prediction = predict (model_pure, test_in_pure)\n",
    "        MSE= mse (test_out_pure, prediction) \n",
    "        test_mse_list.append (MSE)\n",
    "        \n",
    "    return val_MSE_list, test_mse_list , train_MSE_list, time_2lay\n",
    "\n",
    "\n",
    "regu_strength = 0.0001\n",
    "num_neurons_layer1 = [1,2,3,4,5,6,7,8]\n",
    "learning_rate = 0.001\n",
    "valMSE_of_NumNeurons_2lay, testMSE_of_NumNeurons_2lay, trainMSE_of_NumNeurons_2lay, time_2lay = num_neurons_validation_2lay (train_in_pure, train_out_pure, val_in_pure, val_out_pure, test_in_pure, test_out_pure,\n",
    "                                                                                                         learning_rate, regu_strength, num_neurons_layer1)\n",
    "\n",
    "\n",
    "\n",
    "\n"
   ]
  },
  {
   "cell_type": "code",
   "execution_count": 51,
   "metadata": {},
   "outputs": [
    {
     "data": {
      "image/png": "[encoded data removed]",
      "text/plain": [
       "<Figure size 432x288 with 1 Axes>"
      ]
     },
     "metadata": {
      "needs_background": "light"
     },
     "output_type": "display_data"
    },
    {
     "name": "stdout",
     "output_type": "stream",
     "text": [
      "[0.016192265853751452, 0.01771292063756846, 0.01834492899244651, 0.01825078488793224, 0.018421834993641823, 0.019562502668704837, 0.01933752158423886, 0.020387741911690682]\n",
      "[0.02963927366530003, 0.03049275436675431, 0.030436720656846487, 0.029886222552687077, 0.030032740617752608, 0.030762715166235452, 0.031075029053270073, 0.031062940528894373]\n",
      "[0.023274940468577875, 0.02435315988996687, 0.02499985119133877, 0.025098482283194445, 0.02526562629862585, 0.02600161549764582, 0.026066735639599048, 0.026974885399298123]\n"
     ]
    }
   ],
   "source": [
    "draw_3_line ( 'loss vs number of neurons, for 2-layer model','number of neurons','mean squared error', num_neurons_layer1 ,\n",
    "                 valMSE_of_NumNeurons_2lay,   'm', 'validation', \n",
    "                 testMSE_of_NumNeurons_2lay,  'b', 'test', \n",
    "                 trainMSE_of_NumNeurons_2lay, 'g',  'train' )\n",
    "print (valMSE_of_NumNeurons_2lay)\n",
    "print (testMSE_of_NumNeurons_2lay)\n",
    "print (trainMSE_of_NumNeurons_2lay)"
   ]
  },
  {
   "cell_type": "code",
   "execution_count": 24,
   "metadata": {
    "scrolled": true
   },
   "outputs": [
    {
     "name": "stderr",
     "output_type": "stream",
     "text": [
      "c:\\program files\\python37\\lib\\site-packages\\ipykernel_launcher.py:42: UserWarning: The `nb_epoch` argument in `fit` has been renamed `epochs`.\n"
     ]
    },
    {
     "name": "stdout",
     "output_type": "stream",
     "text": [
      "Train on 900 samples, validate on 100 samples\n",
      "Epoch 1/100\n",
      "900/900 [==============================] - 1s 989us/step - loss: 0.2482 - val_loss: 0.0590\n",
      "Epoch 2/100\n",
      "900/900 [==============================] - 1s 789us/step - loss: 0.0687 - val_loss: 0.0470\n",
      "Epoch 3/100\n",
      "900/900 [==============================] - 1s 810us/step - loss: 0.0550 - val_loss: 0.0369\n",
      "Epoch 4/100\n",
      "900/900 [==============================] - 1s 794us/step - loss: 0.0453 - val_loss: 0.0307\n",
      "Epoch 5/100\n",
      "900/900 [==============================] - 1s 772us/step - loss: 0.0384 - val_loss: 0.0276\n",
      "Epoch 6/100\n",
      "900/900 [==============================] - 1s 781us/step - loss: 0.0351 - val_loss: 0.0244\n",
      "Epoch 7/100\n",
      "900/900 [==============================] - 1s 790us/step - loss: 0.0323 - val_loss: 0.0228\n",
      "Epoch 8/100\n",
      "900/900 [==============================] - 1s 790us/step - loss: 0.0304 - val_loss: 0.0214\n",
      "Epoch 9/100\n",
      "900/900 [==============================] - 1s 934us/step - loss: 0.0288 - val_loss: 0.0204\n",
      "Epoch 10/100\n",
      "900/900 [==============================] - 1s 918us/step - loss: 0.0273 - val_loss: 0.0200\n",
      "Epoch 11/100\n",
      "900/900 [==============================] - 1s 801us/step - loss: 0.0262 - val_loss: 0.0190\n",
      "Epoch 12/100\n",
      "900/900 [==============================] - 1s 790us/step - loss: 0.0250 - val_loss: 0.0183\n",
      "Epoch 13/100\n",
      "900/900 [==============================] - 1s 798us/step - loss: 0.0241 - val_loss: 0.0180\n",
      "Epoch 14/100\n",
      "900/900 [==============================] - 1s 795us/step - loss: 0.0235 - val_loss: 0.0172\n",
      "Epoch 15/100\n",
      "900/900 [==============================] - 1s 807us/step - loss: 0.0223 - val_loss: 0.0170\n",
      "Epoch 16/100\n",
      "900/900 [==============================] - 1s 799us/step - loss: 0.0213 - val_loss: 0.0166\n",
      "Epoch 17/100\n",
      "900/900 [==============================] - 1s 798us/step - loss: 0.0208 - val_loss: 0.0163\n",
      "Epoch 18/100\n",
      "900/900 [==============================] - 1s 823us/step - loss: 0.0200 - val_loss: 0.0162\n",
      "Epoch 19/100\n",
      "900/900 [==============================] - 1s 804us/step - loss: 0.0195 - val_loss: 0.0153\n",
      "Epoch 20/100\n",
      "900/900 [==============================] - 1s 798us/step - loss: 0.0187 - val_loss: 0.0150\n",
      "Epoch 21/100\n",
      "900/900 [==============================] - 1s 821us/step - loss: 0.0186 - val_loss: 0.0146\n",
      "Epoch 22/100\n",
      "900/900 [==============================] - 1s 811us/step - loss: 0.0181 - val_loss: 0.0144\n",
      "Epoch 23/100\n",
      "900/900 [==============================] - 1s 822us/step - loss: 0.0175 - val_loss: 0.0141\n",
      "Epoch 24/100\n",
      "900/900 [==============================] - 1s 805us/step - loss: 0.0171 - val_loss: 0.0140\n",
      "Epoch 25/100\n",
      "900/900 [==============================] - 1s 1ms/step - loss: 0.0168 - val_loss: 0.0139\n",
      "Epoch 26/100\n",
      "900/900 [==============================] - 1s 840us/step - loss: 0.0164 - val_loss: 0.0139\n",
      "Epoch 27/100\n",
      "900/900 [==============================] - 1s 807us/step - loss: 0.0161 - val_loss: 0.0137\n",
      "Epoch 28/100\n",
      "900/900 [==============================] - 1s 820us/step - loss: 0.0155 - val_loss: 0.0135\n",
      "Epoch 29/100\n",
      "900/900 [==============================] - 1s 945us/step - loss: 0.0153 - val_loss: 0.0131\n",
      "Epoch 30/100\n",
      "900/900 [==============================] - 1s 1ms/step - loss: 0.0151 - val_loss: 0.0137\n",
      "Epoch 00030: early stopping\n",
      "weight[1] [-0.23273094 -0.10221487  0.06662883]\n",
      "weight[3] [0.04906917]\n",
      "v [[ 0.05047631  0.3839968  -0.13788283]\n",
      " [ 0.60416347  0.5322722   0.52527064]\n",
      " [-1.0283691  -0.55739146 -0.78908145]\n",
      " [ 0.11417405  0.48687738 -0.00347126]\n",
      " [ 1.0988292  -1.5083154   1.0173228 ]]\n",
      "w [[ 0.702299 ]\n",
      " [-1.4712423]\n",
      " [ 1.4443045]]\n",
      "concat_weights [ 0.05047631  0.3839968  -0.13788283  0.60416347  0.5322722   0.52527064\n",
      " -1.0283691  -0.55739146 -0.78908145  0.11417405  0.48687738 -0.00347126\n",
      "  1.0988292  -1.5083154   1.0173228   0.702299   -1.4712423   1.4443045 ]\n"
     ]
    },
    {
     "data": {
      "image/png": "[encoded data removed]",
      "text/plain": [
       "<Figure size 432x288 with 1 Axes>"
      ]
     },
     "metadata": {
      "needs_background": "light"
     },
     "output_type": "display_data"
    },
    {
     "name": "stdout",
     "output_type": "stream",
     "text": [
      "Train on 900 samples, validate on 100 samples\n",
      "Epoch 1/100\n",
      "900/900 [==============================] - 1s 871us/step - loss: 0.2149 - val_loss: 0.0587\n",
      "Epoch 2/100\n",
      "900/900 [==============================] - 1s 796us/step - loss: 0.0668 - val_loss: 0.0453\n",
      "Epoch 3/100\n",
      "900/900 [==============================] - 1s 826us/step - loss: 0.0506 - val_loss: 0.0335\n",
      "Epoch 4/100\n",
      "900/900 [==============================] - 1s 959us/step - loss: 0.0383 - val_loss: 0.0262\n",
      "Epoch 5/100\n",
      "900/900 [==============================] - 1s 823us/step - loss: 0.0314 - val_loss: 0.0226\n",
      "Epoch 6/100\n",
      "900/900 [==============================] - 1s 858us/step - loss: 0.0281 - val_loss: 0.0212\n",
      "Epoch 7/100\n",
      "900/900 [==============================] - 1s 853us/step - loss: 0.0265 - val_loss: 0.0205\n",
      "Epoch 8/100\n",
      "900/900 [==============================] - 1s 810us/step - loss: 0.0251 - val_loss: 0.0198\n",
      "Epoch 9/100\n",
      "900/900 [==============================] - 1s 805us/step - loss: 0.0244 - val_loss: 0.0193\n",
      "Epoch 10/100\n",
      "900/900 [==============================] - 1s 821us/step - loss: 0.0234 - val_loss: 0.0196\n",
      "Epoch 00010: early stopping\n",
      "weight[1] [-0.24863563  0.10769223  0.32210132]\n",
      "weight[3] [0.22252989]\n",
      "v [[-0.38994324  0.35752907 -0.23378915]\n",
      " [ 0.00450289 -0.33727157 -0.15286367]\n",
      " [-0.01704519  0.2508458  -0.26752177]\n",
      " [-0.0423723   0.02391134  0.16969155]\n",
      " [ 1.359091   -1.0371289   0.6878762 ]]\n",
      "w [[ 0.6084632]\n",
      " [-1.475176 ]\n",
      " [ 1.3766384]]\n",
      "concat_weights [-0.38994324  0.35752907 -0.23378915  0.00450289 -0.33727157 -0.15286367\n",
      " -0.01704519  0.2508458  -0.26752177 -0.0423723   0.02391134  0.16969155\n",
      "  1.359091   -1.0371289   0.6878762   0.6084632  -1.475176    1.3766384 ]\n"
     ]
    },
    {
     "data": {
      "image/png": "[encoded data removed]",
      "text/plain": [
       "<Figure size 432x288 with 1 Axes>"
      ]
     },
     "metadata": {
      "needs_background": "light"
     },
     "output_type": "display_data"
    },
    {
     "name": "stdout",
     "output_type": "stream",
     "text": [
      "Train on 900 samples, validate on 100 samples\n",
      "Epoch 1/100\n",
      "900/900 [==============================] - 1s 1ms/step - loss: 0.5697 - val_loss: 0.1339\n",
      "Epoch 2/100\n",
      "900/900 [==============================] - 1s 790us/step - loss: 0.1271 - val_loss: 0.1066\n",
      "Epoch 3/100\n",
      "900/900 [==============================] - 1s 916us/step - loss: 0.1042 - val_loss: 0.0854\n",
      "Epoch 4/100\n",
      "900/900 [==============================] - 1s 930us/step - loss: 0.0874 - val_loss: 0.0716\n",
      "Epoch 5/100\n",
      "900/900 [==============================] - 1s 947us/step - loss: 0.0748 - val_loss: 0.0612\n",
      "Epoch 6/100\n",
      "900/900 [==============================] - 1s 860us/step - loss: 0.0662 - val_loss: 0.0551\n",
      "Epoch 7/100\n",
      "900/900 [==============================] - 1s 787us/step - loss: 0.0606 - val_loss: 0.0504\n",
      "Epoch 8/100\n",
      "900/900 [==============================] - 1s 834us/step - loss: 0.0561 - val_loss: 0.0468\n",
      "Epoch 9/100\n",
      "900/900 [==============================] - 1s 788us/step - loss: 0.0525 - val_loss: 0.0454\n",
      "Epoch 10/100\n",
      "900/900 [==============================] - 1s 783us/step - loss: 0.0503 - val_loss: 0.0441\n",
      "Epoch 11/100\n",
      "900/900 [==============================] - 1s 788us/step - loss: 0.0490 - val_loss: 0.0428\n",
      "Epoch 12/100\n",
      "900/900 [==============================] - 1s 785us/step - loss: 0.0474 - val_loss: 0.0418\n",
      "Epoch 13/100\n",
      "900/900 [==============================] - 1s 792us/step - loss: 0.0463 - val_loss: 0.0417\n",
      "Epoch 14/100\n",
      "900/900 [==============================] - 1s 798us/step - loss: 0.0454 - val_loss: 0.0413\n",
      "Epoch 15/100\n",
      "900/900 [==============================] - 1s 797us/step - loss: 0.0445 - val_loss: 0.0401\n",
      "Epoch 16/100\n",
      "900/900 [==============================] - 1s 784us/step - loss: 0.0438 - val_loss: 0.0392\n",
      "Epoch 17/100\n",
      "900/900 [==============================] - 1s 783us/step - loss: 0.0434 - val_loss: 0.0388\n",
      "Epoch 18/100\n",
      "900/900 [==============================] - 1s 791us/step - loss: 0.0426 - val_loss: 0.0394\n",
      "Epoch 00018: early stopping\n",
      "weight[1] [-0.5933294   0.07131243 -0.15653308]\n",
      "weight[3] [0.6113342]\n",
      "v [[-1.87564016e-04  7.59269670e-02 -1.99685082e-01]\n",
      " [ 2.50787380e-05  1.00034155e-01 -6.38883002e-03]\n",
      " [ 1.82269956e-04  7.54106091e-03 -6.84272638e-03]\n",
      " [ 7.59735631e-05  6.23042695e-03 -5.64640015e-03]\n",
      " [-3.11570184e-04 -8.47789168e-01  8.49880278e-01]]\n",
      "w [[-0.01141424]\n",
      " [-1.8173527 ]\n",
      " [ 1.5798646 ]]\n",
      "concat_weights [-1.87564016e-04  7.59269670e-02 -1.99685082e-01  2.50787380e-05\n",
      "  1.00034155e-01 -6.38883002e-03  1.82269956e-04  7.54106091e-03\n",
      " -6.84272638e-03  7.59735631e-05  6.23042695e-03 -5.64640015e-03\n",
      " -3.11570184e-04 -8.47789168e-01  8.49880278e-01 -1.14142383e-02\n",
      " -1.81735265e+00  1.57986462e+00]\n"
     ]
    },
    {
     "data": {
      "image/png": "[encoded data removed]",
      "text/plain": [
       "<Figure size 432x288 with 1 Axes>"
      ]
     },
     "metadata": {
      "needs_background": "light"
     },
     "output_type": "display_data"
    }
   ],
   "source": [
    "def weight_histogram(train_in_pure, train_out_pure, val_in_pure, val_out_pure, learning_rate):\n",
    "    regu_strengths = [ 0.0001,  0.001, 0.01  ]\n",
    "    num_neurons_layer1 =3\n",
    "    weights_of_model = []\n",
    "    \n",
    "    for i in range(len(regu_strengths)):\n",
    "        \n",
    "        model_pure, model_history = train_2_layer_NN(train_in_pure, train_out_pure, val_in_pure, val_out_pure, learning_rate, regu_strengths[i], num_neurons_layer1)\n",
    "        weights = model_pure.get_weights()\n",
    "        print ('weight[1]',weights[1])\n",
    "        print ('weight[3]',weights[3])\n",
    "        v, w = weights[0], weights[2]\n",
    "        print (\"v\", v)\n",
    "        print (\"w\", w)\n",
    "        \n",
    "        concat_weights = np.concatenate((v.flatten(), w.flatten()))\n",
    "        print (\"concat_weights\",concat_weights)\n",
    "        weights_of_model.append (concat_weights)\n",
    "        \n",
    "        plt.hist(concat_weights, bins= 30 ) #bins=np.arange(-2.0, 2.0, 0.2) )\n",
    "        plt.title('histogram of weights, when regularisation strength = ' + str(regu_strengths[i]))\n",
    "        plt.xlim (-4 ,4 )\n",
    "        plt.xlabel('weight value')\n",
    "        plt.ylabel('amount of weights')\n",
    "        plt.grid(color='silver', linestyle='--', linewidth=2)\n",
    "        plt.savefig ('D:/Sweden/p3/ANN/lab1/part2/'+ 'histogram of weights, when regularisation strength = ' + str(regu_strengths[i]) + '.png', dpi=300)\n",
    "        plt.show()\n",
    "    return regu_strengths, weights_of_model\n",
    "regu_strengths, weights_of_model = weight_histogram(train_in_pure, train_out_pure, val_in_pure, val_out_pure, learning_rate)"
   ]
  },
  {
   "cell_type": "code",
   "execution_count": null,
   "metadata": {},
   "outputs": [],
   "source": []
  },
  {
   "cell_type": "code",
   "execution_count": null,
   "metadata": {},
   "outputs": [],
   "source": []
  },
  {
   "cell_type": "code",
   "execution_count": null,
   "metadata": {},
   "outputs": [],
   "source": [
    "\n",
    "\n"
   ]
  },
  {
   "cell_type": "code",
   "execution_count": null,
   "metadata": {},
   "outputs": [],
   "source": []
  },
  {
   "cell_type": "code",
   "execution_count": 4,
   "metadata": {
    "scrolled": true
   },
   "outputs": [
    {
     "ename": "NameError",
     "evalue": "name 'train_in_noise2' is not defined",
     "output_type": "error",
     "traceback": [
      "\u001b[1;31m---------------------------------------------------------------------------\u001b[0m",
      "\u001b[1;31mNameError\u001b[0m                                 Traceback (most recent call last)",
      "\u001b[1;32m<ipython-input-4-76bcf3b70248>\u001b[0m in \u001b[0;36m<module>\u001b[1;34m\u001b[0m\n\u001b[0;32m     79\u001b[0m \u001b[0mregu_strength\u001b[0m \u001b[1;33m=\u001b[0m \u001b[1;36m0.0001\u001b[0m\u001b[1;33m\u001b[0m\u001b[0m\n\u001b[0;32m     80\u001b[0m \u001b[0mhow_many_iterations\u001b[0m\u001b[1;33m=\u001b[0m\u001b[1;36m10\u001b[0m\u001b[1;33m\u001b[0m\u001b[0m\n\u001b[1;32m---> 81\u001b[1;33m valMSE_of_NumNeurons_3lay, testMSE_of_NumNeurons_3lay , trainMSE_of_NumNeurons_3lay, time_3lay =num_neurons_validation_3layers (how_many_iterations, train_in_noise2, train_out_noise2, val_in_noise2, val_out_noise2, test_in_noise2, test_out_noise2,\n\u001b[0m\u001b[0;32m     82\u001b[0m                                                 learning_rate, regu_strength, num_neurons_layer1, num_neurons_layer2_list)\n\u001b[0;32m     83\u001b[0m \u001b[1;33m\u001b[0m\u001b[0m\n",
      "\u001b[1;31mNameError\u001b[0m: name 'train_in_noise2' is not defined"
     ]
    }
   ],
   "source": [
    "\n",
    "def train_3_layer_NN (train_input, train_output, val_input, val_output, \n",
    "                      learning_rate, regu_strength, num_neurons_layer1, num_neurons_layer2): \n",
    "    dim_InputData =5\n",
    "    num_neurons_output=1\n",
    "    \n",
    "    model = Sequential()  \n",
    "    model.add(Dense( num_neurons_layer1, \n",
    "                     input_shape=(dim_InputData,),\n",
    "                     activation='sigmoid',\n",
    "                     kernel_regularizer=regularizers.l1(regu_strength),  # regularizer l2 norm  defalt 0.01\n",
    "                   ) )  \n",
    "    model.add(Dense(num_neurons_layer2))\n",
    "    model.add(Dense(num_neurons_output))\n",
    "\n",
    "    model.compile(loss='mean_squared_error', optimizer=Adam(lr=learning_rate)  )\n",
    "\n",
    "    es = EarlyStopping(monitor='val_loss', verbose=1)  # mode='min', \n",
    "    \n",
    "    history=model.fit(train_input, train_output, \n",
    "                      validation_data=(val_input, val_output), #validation_split=0.1, \n",
    "                      nb_epoch=100, \n",
    "                      batch_size=1, \n",
    "                      verbose=1,\n",
    "                      callbacks = [es]\n",
    "                     )\n",
    "\n",
    "    return model, history\n",
    "\n",
    "\n",
    "\n",
    " \n",
    "def num_neurons_validation_3layers (how_many_iterations, train_in_noise2, train_out_noise2, val_in_noise2, val_out_noise2, test_in_noise2, test_out_noise2,\n",
    "                            learning_rate, regu_strength, num_neurons_layer1, num_neurons_layer2_list):\n",
    "    val_MSE_list= []\n",
    "    test_MSE_list =[]\n",
    "    train_MSE_list =[]\n",
    "    time_3lay =[]\n",
    "    \n",
    "    for i in range (0, len (num_neurons_layer2_list) ):\n",
    "        val= []\n",
    "        test= []\n",
    "        train = []\n",
    "        tm= []\n",
    "        \n",
    "        for j in range (0, how_many_iterations): \n",
    "            start_time = time.time()\n",
    "            \n",
    "            model_lay3, model_history = train_3_layer_NN (train_in_noise2, train_out_noise2, val_in_noise2, val_out_noise2,  \n",
    "                                                          learning_rate, \n",
    "                                                          regu_strength, \n",
    "                                                          num_neurons_layer1, \n",
    "                                                          num_neurons_layer2_list[i])\n",
    "            end_time = time.time()\n",
    "            time_spent= end_time - start_time\n",
    "            tm.append (time_spent)\n",
    "            \n",
    "            val_MSE = model_history.history['val_loss'][-1]\n",
    "            val.append (val_MSE)\n",
    "            \n",
    "            train_MSE = model_history.history['loss'][-1]\n",
    "            train.append (train_MSE)  \n",
    "        \n",
    "            prediction = predict (model_lay3, test_in_noise2)\n",
    "            test_MSE = mse (test_out_noise2, prediction) \n",
    "            test.append (test_MSE)\n",
    "       \n",
    "        val_MSE_list.append (mean (val))\n",
    "        test_MSE_list.append (mean (test) )\n",
    "        train_MSE_list.append (mean(train))\n",
    "        time_3lay.append (mean (tm) )\n",
    "        \n",
    "    return val_MSE_list, test_MSE_list , train_MSE_list, time_3lay\n",
    "\n",
    "learning_rate = 0.001\n",
    "num_neurons_layer1 =3\n",
    "num_neurons_layer2_list = [2] #[1,2,3,4,5,6,7,8]\n",
    "regu_strength = 0.0001\n",
    "how_many_iterations=10\n",
    "valMSE_of_NumNeurons_3lay, testMSE_of_NumNeurons_3lay , trainMSE_of_NumNeurons_3lay, time_3lay =num_neurons_validation_3layers (how_many_iterations, train_in_noise2, train_out_noise2, val_in_noise2, val_out_noise2, test_in_noise2, test_out_noise2,\n",
    "                                                learning_rate, regu_strength, num_neurons_layer1, num_neurons_layer2_list)\n",
    "\n"
   ]
  },
  {
   "cell_type": "code",
   "execution_count": 66,
   "metadata": {},
   "outputs": [
    {
     "name": "stdout",
     "output_type": "stream",
     "text": [
      "[0.036365765621187165] [0.0470673871177277] [0.03920791384614616] [5.55351767539978]\n"
     ]
    }
   ],
   "source": [
    "print (valMSE_of_NumNeurons_3lay, testMSE_of_NumNeurons_3lay , trainMSE_of_NumNeurons_3lay, time_3lay)"
   ]
  },
  {
   "cell_type": "code",
   "execution_count": 62,
   "metadata": {
    "scrolled": true
   },
   "outputs": [
    {
     "name": "stderr",
     "output_type": "stream",
     "text": [
      "c:\\program files\\python37\\lib\\site-packages\\ipykernel_launcher.py:42: UserWarning: The `nb_epoch` argument in `fit` has been renamed `epochs`.\n"
     ]
    },
    {
     "name": "stdout",
     "output_type": "stream",
     "text": [
      "Train on 900 samples, validate on 100 samples\n",
      "Epoch 1/100\n",
      "900/900 [==============================] - 1s 968us/step - loss: 0.0915 - val_loss: 0.0664\n",
      "Epoch 2/100\n",
      "900/900 [==============================] - 1s 914us/step - loss: 0.0790 - val_loss: 0.0626\n",
      "Epoch 3/100\n",
      "900/900 [==============================] - 1s 872us/step - loss: 0.0770 - val_loss: 0.0606\n",
      "Epoch 4/100\n",
      "900/900 [==============================] - 1s 911us/step - loss: 0.0746 - val_loss: 0.0590\n",
      "Epoch 5/100\n",
      "900/900 [==============================] - 1s 801us/step - loss: 0.0715 - val_loss: 0.0561\n",
      "Epoch 6/100\n",
      "900/900 [==============================] - 1s 796us/step - loss: 0.0674 - val_loss: 0.0534\n",
      "Epoch 7/100\n",
      "900/900 [==============================] - 1s 846us/step - loss: 0.0628 - val_loss: 0.0490\n",
      "Epoch 8/100\n",
      "900/900 [==============================] - 1s 861us/step - loss: 0.0578 - val_loss: 0.0453\n",
      "Epoch 9/100\n",
      "900/900 [==============================] - 1s 894us/step - loss: 0.0531 - val_loss: 0.0410\n",
      "Epoch 10/100\n",
      "900/900 [==============================] - 1s 805us/step - loss: 0.0485 - val_loss: 0.0375\n",
      "Epoch 11/100\n",
      "900/900 [==============================] - 1s 868us/step - loss: 0.0442 - val_loss: 0.0338\n",
      "Epoch 12/100\n",
      "900/900 [==============================] - 1s 836us/step - loss: 0.0404 - val_loss: 0.0308\n",
      "Epoch 13/100\n",
      "900/900 [==============================] - 1s 781us/step - loss: 0.0370 - val_loss: 0.0280\n",
      "Epoch 14/100\n",
      "900/900 [==============================] - 1s 852us/step - loss: 0.0342 - val_loss: 0.0258\n",
      "Epoch 15/100\n",
      "900/900 [==============================] - 1s 890us/step - loss: 0.0320 - val_loss: 0.0243\n",
      "Epoch 16/100\n",
      "900/900 [==============================] - 1s 988us/step - loss: 0.0304 - val_loss: 0.0226\n",
      "Epoch 17/100\n",
      "900/900 [==============================] - 1s 782us/step - loss: 0.0290 - val_loss: 0.0215\n",
      "Epoch 18/100\n",
      "900/900 [==============================] - 1s 925us/step - loss: 0.0280 - val_loss: 0.0209\n",
      "Epoch 19/100\n",
      "900/900 [==============================] - 1s 807us/step - loss: 0.0273 - val_loss: 0.0202\n",
      "Epoch 20/100\n",
      "900/900 [==============================] - 1s 897us/step - loss: 0.0268 - val_loss: 0.0197\n",
      "Epoch 21/100\n",
      "900/900 [==============================] - 1s 850us/step - loss: 0.0264 - val_loss: 0.0194\n",
      "Epoch 22/100\n",
      "900/900 [==============================] - 1s 837us/step - loss: 0.0261 - val_loss: 0.0191\n",
      "Epoch 23/100\n",
      "900/900 [==============================] - 1s 938us/step - loss: 0.0258 - val_loss: 0.0188\n",
      "Epoch 24/100\n",
      "900/900 [==============================] - 1s 849us/step - loss: 0.0256 - val_loss: 0.0186\n",
      "Epoch 25/100\n",
      "900/900 [==============================] - 1s 817us/step - loss: 0.0255 - val_loss: 0.0184\n",
      "Epoch 26/100\n",
      "900/900 [==============================] - 1s 842us/step - loss: 0.0253 - val_loss: 0.0183\n",
      "Epoch 27/100\n",
      "900/900 [==============================] - 1s 780us/step - loss: 0.0252 - val_loss: 0.0182\n",
      "Epoch 28/100\n",
      "900/900 [==============================] - 1s 779us/step - loss: 0.0251 - val_loss: 0.0181\n",
      "Epoch 29/100\n",
      "900/900 [==============================] - 1s 833us/step - loss: 0.0250 - val_loss: 0.0181\n",
      "Epoch 00029: early stopping\n",
      "[0.018077213168144226] [0.03023694652508774] [0.024996773342653694] [22.907508611679077]\n"
     ]
    }
   ],
   "source": [
    "learning_rate = 0.001\n",
    "num_neurons_layer1 =[3]\n",
    "regu_strength = 0.0001\n",
    "how_many_iterations=10\n",
    "valMSE_of_NumNeurons_2lay, testMSE_of_NumNeurons_2lay, trainMSE_of_NumNeurons_2lay, time_2lay = num_neurons_validation_2lay (train_in_pure, train_out_pure, val_in_pure, val_out_pure, test_in_pure, test_out_pure,\n",
    "                                                                                                         learning_rate, regu_strength, num_neurons_layer1)\n",
    "print (valMSE_of_NumNeurons_2lay, testMSE_of_NumNeurons_2lay , trainMSE_of_NumNeurons_2lay, time_2lay)"
   ]
  },
  {
   "cell_type": "code",
   "execution_count": null,
   "metadata": {},
   "outputs": [],
   "source": []
  },
  {
   "cell_type": "code",
   "execution_count": 10,
   "metadata": {
    "scrolled": true
   },
   "outputs": [
    {
     "data": {
      "image/png": "[encoded data removed]",
      "text/plain": [
       "<Figure size 432x288 with 1 Axes>"
      ]
     },
     "metadata": {
      "needs_background": "light"
     },
     "output_type": "display_data"
    }
   ],
   "source": [
    "# how_many_iterations =1\n",
    "# num_neurons_layer1 =3\n",
    "# num_neurons_layer2_list =[1,2,3,4,5,6,7,8]\n",
    "# valMSE_of_NumNeurons_3lay, testMSE_of_NumNeurons_3lay , trainMSE_of_NumNeurons_3lay, time_3lay =num_neurons_validation_3layers (how_many_iterations, train_in_noise1, train_out_noise1, val_in_noise1, val_out_noise1, test_in_noise1, test_out_noise1,\n",
    "#                                                 learning_rate, regu_strength, num_neurons_layer1, num_neurons_layer2_list)\n",
    "\n",
    "valMSE_of_NumNeurons_3lay_n1 = [0.017847287447657435, 0.018356732769170776, 0.02295054709247779, 0.01734496765595395, 0.02044907901319675, 0.020862036806647666, 0.017979299937724135, 0.016011479825829157]\n",
    "testMSE_of_NumNeurons_3lay_n1= [0.022365567416168283, 0.033083332555628724, 0.036012061030690885, 0.02495109806603528, 0.02389649730158097, 0.027509789016764943, 0.021822756872017554, 0.026325157613222513]\n",
    "trainMSE_of_NumNeurons_3lay_n1= [0.020715591868502088, 0.027068114805992485, 0.031224292000794473, 0.020263099641953077, 0.02093281160005265, 0.022609719367982405, 0.020607433409895747, 0.022199636231461126]\n",
    "\n",
    "\n",
    "draw_1_line ( 'loss vs number of neurons, in 3 layer model, std=0.03','number of neurons','mean squared error', 0, 0.15,\n",
    "                 num_neurons_layer2_list ,\n",
    "                 valMSE_of_NumNeurons_3lay_n1,   'm', 'validation' )"
   ]
  },
  {
   "cell_type": "code",
   "execution_count": null,
   "metadata": {},
   "outputs": [],
   "source": []
  },
  {
   "cell_type": "code",
   "execution_count": null,
   "metadata": {},
   "outputs": [],
   "source": []
  },
  {
   "cell_type": "code",
   "execution_count": 9,
   "metadata": {},
   "outputs": [
    {
     "data": {
      "image/png": "[encoded data removed]",
      "text/plain": [
       "<Figure size 432x288 with 1 Axes>"
      ]
     },
     "metadata": {
      "needs_background": "light"
     },
     "output_type": "display_data"
    }
   ],
   "source": [
    "# how_many_iterations = 10\n",
    "# num_neurons_layer1 =3\n",
    "# num_neurons_layer2_list =[1,2,3,4,5,6,7,8]\n",
    "# valMSE_of_NumNeurons_3lay_n2, testMSE_of_NumNeurons_3lay_n2 , trainMSE_of_NumNeurons_3lay_n2, time_3lay_n2 =num_neurons_validation_3layers (how_many_iterations, train_in_noise2, train_out_noise2, val_in_noise2, val_out_noise2, test_in_noise2, test_out_noise2,\n",
    "#                                                 learning_rate, regu_strength, num_neurons_layer1, num_neurons_layer2_list)\n",
    "\n",
    "valMSE_of_NumNeurons_3lay_n2 = [0.03454261672584107, 0.033870169902569615, 0.03417990647285478, 0.03670142721157754, 0.034656514189380684, 0.035848152986203786, 0.035695607755857055, 0.03514218092797091]\n",
    "testMSE_of_NumNeurons_3lay_n2 = [0.04535761557873563, 0.04576883577070574, 0.04607828917439882, 0.04798074094432685, 0.043485370538778344, 0.04553496527505076, 0.047495227869829675, 0.044056834554279646]\n",
    "trainMSE_of_NumNeurons_3lay_n2 = [0.03679711867879895, 0.03763248981369866, 0.03763248099993345, 0.03907602251879871, 0.03676817107324152, 0.0389904970271487, 0.03851811516489963, 0.036908934510856244]\n",
    "\n",
    "# valMSE_of_NumNeurons_3lay_n2 = [0.030728079025866464, 0.03212639251782093, 0.03234045807213988, 0.036366053796955386, 0.03287043264368549, 0.03398744451405946, 0.03717249759938568, 0.032435778723447585]\n",
    "draw_1_line ( 'loss vs number of neurons, in 3 layer model, std=0.09','number of neurons','mean squared error', 0, 0.15,\n",
    "                 num_neurons_layer2_list ,\n",
    "                 valMSE_of_NumNeurons_3lay_n2,   'm', 'validation' )\n",
    "\n"
   ]
  },
  {
   "cell_type": "code",
   "execution_count": null,
   "metadata": {},
   "outputs": [],
   "source": []
  },
  {
   "cell_type": "code",
   "execution_count": 8,
   "metadata": {},
   "outputs": [
    {
     "data": {
      "image/png": "[encoded data removed]",
      "text/plain": [
       "<Figure size 432x288 with 1 Axes>"
      ]
     },
     "metadata": {
      "needs_background": "light"
     },
     "output_type": "display_data"
    }
   ],
   "source": [
    "num_neurons_layer2_list =[1,2,3,4,5,6,7,8]\n",
    "valMSE_of_NumNeurons_3lay_n3= [0.08122357489017304, 0.08628437445964664, 0.08269240111461841, 0.07410073662351352, 0.09424636822368485, 0.08759021448786371, 0.10495930640609004, 0.07914833681832534]\n",
    "testMSE_of_NumNeurons_3lay_n3= [0.08344672546542689, 0.08551977580377577, 0.09376319651681246, 0.09116282003719407, 0.0872410369724474, 0.09169008981878765, 0.09803407115102196, 0.0876983728491795]\n",
    "trainMSE_of_NumNeurons_3lay_n3= [0.06943313850490894, 0.06892928193523808, 0.07225046824929046, 0.07252270711100815, 0.07189261392049957, 0.07652179738681297, 0.07619784663845268, 0.07265453055804957]\n",
    "\n",
    "\n",
    "draw_1_line ( 'loss vs number of neurons, in 3 layer model, std=0.18','number of neurons','mean squared error', 0, 0.15,\n",
    "                 num_neurons_layer2_list ,\n",
    "                 valMSE_of_NumNeurons_3lay_n3,   'm', 'validation' )"
   ]
  },
  {
   "cell_type": "code",
   "execution_count": null,
   "metadata": {},
   "outputs": [],
   "source": [
    "\n"
   ]
  },
  {
   "cell_type": "code",
   "execution_count": null,
   "metadata": {},
   "outputs": [],
   "source": []
  },
  {
   "cell_type": "code",
   "execution_count": 66,
   "metadata": {
    "scrolled": true
   },
   "outputs": [],
   "source": []
  },
  {
   "cell_type": "code",
   "execution_count": null,
   "metadata": {
    "scrolled": true
   },
   "outputs": [],
   "source": []
  },
  {
   "cell_type": "code",
   "execution_count": 68,
   "metadata": {
    "scrolled": true
   },
   "outputs": [],
   "source": []
  },
  {
   "cell_type": "code",
   "execution_count": 69,
   "metadata": {
    "scrolled": true
   },
   "outputs": [],
   "source": []
  },
  {
   "cell_type": "code",
   "execution_count": null,
   "metadata": {},
   "outputs": [],
   "source": []
  },
  {
   "cell_type": "code",
   "execution_count": null,
   "metadata": {},
   "outputs": [],
   "source": []
  },
  {
   "cell_type": "code",
   "execution_count": null,
   "metadata": {},
   "outputs": [],
   "source": []
  },
  {
   "cell_type": "code",
   "execution_count": null,
   "metadata": {},
   "outputs": [],
   "source": []
  },
  {
   "cell_type": "code",
   "execution_count": null,
   "metadata": {},
   "outputs": [],
   "source": []
  },
  {
   "cell_type": "code",
   "execution_count": 36,
   "metadata": {
    "scrolled": false
   },
   "outputs": [
    {
     "name": "stderr",
     "output_type": "stream",
     "text": [
      "c:\\program files\\python37\\lib\\site-packages\\ipykernel_launcher.py:42: UserWarning: The `nb_epoch` argument in `fit` has been renamed `epochs`.\n"
     ]
    },
    {
     "name": "stdout",
     "output_type": "stream",
     "text": [
      "Train on 900 samples, validate on 100 samples\n",
      "Epoch 1/100\n",
      "900/900 [==============================] - 1s 970us/step - loss: 0.1080 - val_loss: 0.0662\n",
      "Epoch 2/100\n",
      "900/900 [==============================] - 1s 868us/step - loss: 0.0786 - val_loss: 0.0609\n",
      "Epoch 3/100\n",
      "900/900 [==============================] - 1s 789us/step - loss: 0.0752 - val_loss: 0.0584\n",
      "Epoch 4/100\n",
      "900/900 [==============================] - 1s 798us/step - loss: 0.0704 - val_loss: 0.0550\n",
      "Epoch 5/100\n",
      "900/900 [==============================] - 1s 818us/step - loss: 0.0643 - val_loss: 0.0503\n",
      "Epoch 6/100\n",
      "900/900 [==============================] - 1s 802us/step - loss: 0.0577 - val_loss: 0.0451\n",
      "Epoch 7/100\n",
      "900/900 [==============================] - 1s 1ms/step - loss: 0.0509 - val_loss: 0.0397\n",
      "Epoch 8/100\n",
      "900/900 [==============================] - 1s 781us/step - loss: 0.0445 - val_loss: 0.0348\n",
      "Epoch 9/100\n",
      "900/900 [==============================] - 1s 807us/step - loss: 0.0395 - val_loss: 0.0307\n",
      "Epoch 10/100\n",
      "900/900 [==============================] - 1s 1ms/step - loss: 0.0353 - val_loss: 0.0275\n",
      "Epoch 11/100\n",
      "900/900 [==============================] - 1s 991us/step - loss: 0.0323 - val_loss: 0.0249\n",
      "Epoch 12/100\n",
      "900/900 [==============================] - 1s 890us/step - loss: 0.0302 - val_loss: 0.0232\n",
      "Epoch 13/100\n",
      "900/900 [==============================] - 1s 895us/step - loss: 0.0287 - val_loss: 0.0218\n",
      "Epoch 14/100\n",
      "900/900 [==============================] - 1s 1ms/step - loss: 0.0277 - val_loss: 0.0208\n",
      "Epoch 15/100\n",
      "900/900 [==============================] - 1s 820us/step - loss: 0.0270 - val_loss: 0.0203\n",
      "Epoch 16/100\n",
      "900/900 [==============================] - 1s 892us/step - loss: 0.0265 - val_loss: 0.0196\n",
      "Epoch 17/100\n",
      "900/900 [==============================] - 1s 889us/step - loss: 0.0261 - val_loss: 0.0192\n",
      "Epoch 18/100\n",
      "900/900 [==============================] - 1s 912us/step - loss: 0.0258 - val_loss: 0.0189\n",
      "Epoch 19/100\n",
      "900/900 [==============================] - 1s 763us/step - loss: 0.0256 - val_loss: 0.0186\n",
      "Epoch 20/100\n",
      "900/900 [==============================] - 1s 784us/step - loss: 0.0254 - val_loss: 0.0184\n",
      "Epoch 21/100\n",
      "900/900 [==============================] - 1s 764us/step - loss: 0.0252 - val_loss: 0.0183\n",
      "Epoch 22/100\n",
      "900/900 [==============================] - 1s 768us/step - loss: 0.0251 - val_loss: 0.0181\n",
      "Epoch 23/100\n",
      "900/900 [==============================] - 1s 820us/step - loss: 0.0250 - val_loss: 0.0181\n",
      "Epoch 00023: early stopping\n"
     ]
    }
   ],
   "source": [
    "# best 2-layer model on pure data\n",
    "\n",
    "\n",
    "learning_rate = 0.001\n",
    "num_neurons_layer1 =3\n",
    "regu_strength = 0.0001\n",
    "how_many_iterations=3\n",
    "model_pure, model_history = train_2_layer_NN(train_in_pure, train_out_pure, val_in_pure, val_out_pure, \n",
    "                                                     learning_rate, regu_strength, num_neurons_layer1)\n",
    "prediction = predict (model_pure, test_in_pure)\n",
    "draw_2_line ('prediction made by the best 2-layer model on pure data', 'time', 'target', \n",
    "             range( len (test_out_pure[:])), \n",
    "             test_out_pure[:], 'b', 'pure', \n",
    "             prediction,'r', 'prediction' )\n"
   ]
  },
  {
   "cell_type": "code",
   "execution_count": null,
   "metadata": {},
   "outputs": [],
   "source": [
    "\n"
   ]
  },
  {
   "cell_type": "code",
   "execution_count": 38,
   "metadata": {
    "scrolled": true
   },
   "outputs": [
    {
     "name": "stderr",
     "output_type": "stream",
     "text": [
      "c:\\program files\\python37\\lib\\site-packages\\ipykernel_launcher.py:24: UserWarning: The `nb_epoch` argument in `fit` has been renamed `epochs`.\n"
     ]
    },
    {
     "name": "stdout",
     "output_type": "stream",
     "text": [
      "Train on 900 samples, validate on 100 samples\n",
      "Epoch 1/100\n",
      "900/900 [==============================] - 1s 1ms/step - loss: 0.1317 - val_loss: 0.0764\n",
      "Epoch 2/100\n",
      "900/900 [==============================] - 1s 915us/step - loss: 0.0899 - val_loss: 0.0710\n",
      "Epoch 3/100\n",
      "900/900 [==============================] - 1s 912us/step - loss: 0.0889 - val_loss: 0.0702\n",
      "Epoch 4/100\n",
      "900/900 [==============================] - 1s 915us/step - loss: 0.0880 - val_loss: 0.0695\n",
      "Epoch 5/100\n",
      "900/900 [==============================] - 1s 843us/step - loss: 0.0865 - val_loss: 0.0690\n",
      "Epoch 6/100\n",
      "900/900 [==============================] - 1s 1ms/step - loss: 0.0838 - val_loss: 0.0657\n",
      "Epoch 7/100\n",
      "900/900 [==============================] - 1s 936us/step - loss: 0.0796 - val_loss: 0.0619\n",
      "Epoch 8/100\n",
      "900/900 [==============================] - 1s 1ms/step - loss: 0.0726 - val_loss: 0.0567\n",
      "Epoch 9/100\n",
      "900/900 [==============================] - 1s 1ms/step - loss: 0.0633 - val_loss: 0.0486\n",
      "Epoch 10/100\n",
      "900/900 [==============================] - 1s 1ms/step - loss: 0.0542 - val_loss: 0.0421\n",
      "Epoch 11/100\n",
      "900/900 [==============================] - 1s 925us/step - loss: 0.0474 - val_loss: 0.0372\n",
      "Epoch 12/100\n",
      "900/900 [==============================] - 1s 831us/step - loss: 0.0432 - val_loss: 0.0342\n",
      "Epoch 13/100\n",
      "900/900 [==============================] - 1s 879us/step - loss: 0.0407 - val_loss: 0.0324\n",
      "Epoch 14/100\n",
      "900/900 [==============================] - 1s 865us/step - loss: 0.0393 - val_loss: 0.0318\n",
      "Epoch 15/100\n",
      "900/900 [==============================] - 1s 904us/step - loss: 0.0386 - val_loss: 0.0305\n",
      "Epoch 16/100\n",
      "900/900 [==============================] - 1s 881us/step - loss: 0.0379 - val_loss: 0.0301\n",
      "Epoch 17/100\n",
      "900/900 [==============================] - 1s 854us/step - loss: 0.0376 - val_loss: 0.0296\n",
      "Epoch 18/100\n",
      "900/900 [==============================] - 1s 945us/step - loss: 0.0374 - val_loss: 0.0294\n",
      "Epoch 19/100\n",
      "900/900 [==============================] - 1s 953us/step - loss: 0.0369 - val_loss: 0.0294\n",
      "Epoch 20/100\n",
      "900/900 [==============================] - 1s 950us/step - loss: 0.0369 - val_loss: 0.0290\n",
      "Epoch 21/100\n",
      "900/900 [==============================] - 1s 1ms/step - loss: 0.0367 - val_loss: 0.0289\n",
      "Epoch 22/100\n",
      "900/900 [==============================] - 1s 939us/step - loss: 0.0367 - val_loss: 0.0288\n",
      "Epoch 23/100\n",
      "900/900 [==============================] - 1s 1ms/step - loss: 0.0366 - val_loss: 0.0287\n",
      "Epoch 24/100\n",
      "900/900 [==============================] - 1s 1ms/step - loss: 0.0365 - val_loss: 0.0290\n",
      "Epoch 00024: early stopping\n"
     ]
    },
    {
     "data": {
      "image/png": "[encoded data removed]",
      "text/plain": [
       "<Figure size 432x288 with 1 Axes>"
      ]
     },
     "metadata": {
      "needs_background": "light"
     },
     "output_type": "display_data"
    }
   ],
   "source": [
    "learning_rate = 0.001\n",
    "regu_strength= 0.0001\n",
    "num_neurons_layer1 =3\n",
    "num_neurons_layer2 =2\n",
    "model_lay3, model_history = train_3_layer_NN (train_in_noise2, train_out_noise2, val_in_noise2, val_out_noise2,  \n",
    "                                              learning_rate, regu_strength, num_neurons_layer1, num_neurons_layer2)\n",
    "pd = predict (model_lay3, test_in_noise2)\n",
    "draw_3_line ('prediction made by the best 3-layer model on noise data', 'time', 'target', \n",
    "             range( len (test_out_pure[:])), \n",
    "             test_out_pure[:], 'c', 'pure',\n",
    "             test_out_noise2[:], 'b', 'noise std=0.09', \n",
    "             pd,'r', 'prediction' )"
   ]
  },
  {
   "cell_type": "code",
   "execution_count": 15,
   "metadata": {},
   "outputs": [],
   "source": [
    "def regularization_validation_3layers (how_many_iterations, train_in_noise2, train_out_noise2, val_in_noise2, val_out_noise2, test_in_noise2, test_out_noise2,\n",
    "                            learning_rate, regu_strength, num_neurons_layer1, num_neurons_layer2):\n",
    "    val_MSE_list= []\n",
    "\n",
    "    for i in range (0, len (regu_strength) ):\n",
    "        val= []\n",
    "        test= []\n",
    "        train = []\n",
    "#         tm= []\n",
    "        \n",
    "        for j in range (0, how_many_iterations): \n",
    "#             start_time = time.time()\n",
    "            \n",
    "            model_lay3, model_history = train_3_layer_NN (train_in_noise2, train_out_noise2, val_in_noise2, val_out_noise2,  \n",
    "                                                          learning_rate, \n",
    "                                                          regu_strength, \n",
    "                                                          num_neurons_layer1, \n",
    "                                                          num_neurons_layer2_list[i])\n",
    "#             end_time = time.time()\n",
    "#             time_spent= end_time - start_time\n",
    "#             tm.append (time_spent)\n",
    "            \n",
    "            val_MSE = model_history.history['val_loss'][-1]\n",
    "            val.append (val_MSE)\n",
    "            \n",
    "            train_MSE = model_history.history['loss'][-1]\n",
    "            train.append (train_MSE)  \n",
    "        \n",
    "            prediction = predict (model_lay3, test_in_noise2)\n",
    "            test_MSE = mse (test_out_noise2, prediction) \n",
    "            test.append (test_MSE)\n",
    "                      \n",
    "        val_MSE_list.append (mean (val))\n",
    "        test_MSE_list.append (mean (test) )\n",
    "        train_MSE_list.append (mean(train))\n",
    "#         time_3lay.append (mean (tm) )\n",
    "        \n",
    "    return val_MSE_list"
   ]
  },
  {
   "cell_type": "code",
   "execution_count": 17,
   "metadata": {},
   "outputs": [
    {
     "ename": "ValueError",
     "evalue": "The truth value of an array with more than one element is ambiguous. Use a.any() or a.all()",
     "output_type": "error",
     "traceback": [
      "\u001b[1;31m---------------------------------------------------------------------------\u001b[0m",
      "\u001b[1;31mValueError\u001b[0m                                Traceback (most recent call last)",
      "\u001b[1;32m<ipython-input-17-147ab546c2ca>\u001b[0m in \u001b[0;36m<module>\u001b[1;34m\u001b[0m\n\u001b[0;32m      7\u001b[0m \u001b[1;32mfor\u001b[0m \u001b[0mj\u001b[0m \u001b[1;32min\u001b[0m \u001b[0mrange\u001b[0m \u001b[1;33m(\u001b[0m\u001b[1;36m0\u001b[0m\u001b[1;33m,\u001b[0m \u001b[1;36m3\u001b[0m\u001b[1;33m)\u001b[0m\u001b[1;33m:\u001b[0m\u001b[1;33m\u001b[0m\u001b[0m\n\u001b[0;32m      8\u001b[0m     val_n2= regularization_validation_3layers (how_many_iterations, train_in_noise2, train_out_noise2, val_in_noise2, val_out_noise2, test_in_noise2, test_out_noise2,\n\u001b[1;32m----> 9\u001b[1;33m                                 learning_rate, regu_strength, num_neurons_layer1, num_neurons_layer2)\n\u001b[0m\u001b[0;32m     10\u001b[0m     \u001b[0mval_n2_list\u001b[0m\u001b[1;33m.\u001b[0m\u001b[0mappend\u001b[0m \u001b[1;33m(\u001b[0m\u001b[0mval_n2\u001b[0m\u001b[1;33m)\u001b[0m\u001b[1;33m\u001b[0m\u001b[0m\n\u001b[0;32m     11\u001b[0m \u001b[0mprint\u001b[0m \u001b[1;33m(\u001b[0m\u001b[0mval_n2_list\u001b[0m\u001b[1;33m)\u001b[0m\u001b[1;33m\u001b[0m\u001b[0m\n",
      "\u001b[1;32m<ipython-input-15-f0d899e8b720>\u001b[0m in \u001b[0;36mregularization_validation_3layers\u001b[1;34m(how_many_iterations, train_in_noise2, train_out_noise2, val_in_noise2, val_out_noise2, test_in_noise2, test_out_noise2, learning_rate, regu_strength, num_neurons_layer1, num_neurons_layer2)\u001b[0m\n\u001b[0;32m     16\u001b[0m                                                           \u001b[0mregu_strength\u001b[0m\u001b[1;33m,\u001b[0m\u001b[1;33m\u001b[0m\u001b[0m\n\u001b[0;32m     17\u001b[0m                                                           \u001b[0mnum_neurons_layer1\u001b[0m\u001b[1;33m,\u001b[0m\u001b[1;33m\u001b[0m\u001b[0m\n\u001b[1;32m---> 18\u001b[1;33m                                                           num_neurons_layer2_list[i])\n\u001b[0m\u001b[0;32m     19\u001b[0m \u001b[1;31m#             end_time = time.time()\u001b[0m\u001b[1;33m\u001b[0m\u001b[1;33m\u001b[0m\u001b[0m\n\u001b[0;32m     20\u001b[0m \u001b[1;31m#             time_spent= end_time - start_time\u001b[0m\u001b[1;33m\u001b[0m\u001b[1;33m\u001b[0m\u001b[0m\n",
      "\u001b[1;32m<ipython-input-4-76bcf3b70248>\u001b[0m in \u001b[0;36mtrain_3_layer_NN\u001b[1;34m(train_input, train_output, val_input, val_output, learning_rate, regu_strength, num_neurons_layer1, num_neurons_layer2)\u001b[0m\n\u001b[0;32m      8\u001b[0m                      \u001b[0minput_shape\u001b[0m\u001b[1;33m=\u001b[0m\u001b[1;33m(\u001b[0m\u001b[0mdim_InputData\u001b[0m\u001b[1;33m,\u001b[0m\u001b[1;33m)\u001b[0m\u001b[1;33m,\u001b[0m\u001b[1;33m\u001b[0m\u001b[0m\n\u001b[0;32m      9\u001b[0m                      \u001b[0mactivation\u001b[0m\u001b[1;33m=\u001b[0m\u001b[1;34m'sigmoid'\u001b[0m\u001b[1;33m,\u001b[0m\u001b[1;33m\u001b[0m\u001b[0m\n\u001b[1;32m---> 10\u001b[1;33m                      \u001b[0mkernel_regularizer\u001b[0m\u001b[1;33m=\u001b[0m\u001b[0mregularizers\u001b[0m\u001b[1;33m.\u001b[0m\u001b[0ml1\u001b[0m\u001b[1;33m(\u001b[0m\u001b[0mregu_strength\u001b[0m\u001b[1;33m)\u001b[0m\u001b[1;33m,\u001b[0m  \u001b[1;31m# regularizer l2 norm  defalt 0.01\u001b[0m\u001b[1;33m\u001b[0m\u001b[0m\n\u001b[0m\u001b[0;32m     11\u001b[0m                    ) )  \n\u001b[0;32m     12\u001b[0m     \u001b[0mmodel\u001b[0m\u001b[1;33m.\u001b[0m\u001b[0madd\u001b[0m\u001b[1;33m(\u001b[0m\u001b[0mDense\u001b[0m\u001b[1;33m(\u001b[0m\u001b[0mnum_neurons_layer2\u001b[0m\u001b[1;33m)\u001b[0m\u001b[1;33m)\u001b[0m\u001b[1;33m\u001b[0m\u001b[0m\n",
      "\u001b[1;32mc:\\program files\\python37\\lib\\site-packages\\keras\\engine\\sequential.py\u001b[0m in \u001b[0;36madd\u001b[1;34m(self, layer)\u001b[0m\n\u001b[0;32m    164\u001b[0m                     \u001b[1;31m# and create the node connecting the current layer\u001b[0m\u001b[1;33m\u001b[0m\u001b[1;33m\u001b[0m\u001b[0m\n\u001b[0;32m    165\u001b[0m                     \u001b[1;31m# to the input layer we just created.\u001b[0m\u001b[1;33m\u001b[0m\u001b[1;33m\u001b[0m\u001b[0m\n\u001b[1;32m--> 166\u001b[1;33m                     \u001b[0mlayer\u001b[0m\u001b[1;33m(\u001b[0m\u001b[0mx\u001b[0m\u001b[1;33m)\u001b[0m\u001b[1;33m\u001b[0m\u001b[0m\n\u001b[0m\u001b[0;32m    167\u001b[0m                     \u001b[0mset_inputs\u001b[0m \u001b[1;33m=\u001b[0m \u001b[1;32mTrue\u001b[0m\u001b[1;33m\u001b[0m\u001b[0m\n\u001b[0;32m    168\u001b[0m             \u001b[1;32melse\u001b[0m\u001b[1;33m:\u001b[0m\u001b[1;33m\u001b[0m\u001b[0m\n",
      "\u001b[1;32mc:\\program files\\python37\\lib\\site-packages\\keras\\backend\\tensorflow_backend.py\u001b[0m in \u001b[0;36msymbolic_fn_wrapper\u001b[1;34m(*args, **kwargs)\u001b[0m\n\u001b[0;32m     73\u001b[0m         \u001b[1;32mif\u001b[0m \u001b[0m_SYMBOLIC_SCOPE\u001b[0m\u001b[1;33m.\u001b[0m\u001b[0mvalue\u001b[0m\u001b[1;33m:\u001b[0m\u001b[1;33m\u001b[0m\u001b[0m\n\u001b[0;32m     74\u001b[0m             \u001b[1;32mwith\u001b[0m \u001b[0mget_graph\u001b[0m\u001b[1;33m(\u001b[0m\u001b[1;33m)\u001b[0m\u001b[1;33m.\u001b[0m\u001b[0mas_default\u001b[0m\u001b[1;33m(\u001b[0m\u001b[1;33m)\u001b[0m\u001b[1;33m:\u001b[0m\u001b[1;33m\u001b[0m\u001b[0m\n\u001b[1;32m---> 75\u001b[1;33m                 \u001b[1;32mreturn\u001b[0m \u001b[0mfunc\u001b[0m\u001b[1;33m(\u001b[0m\u001b[1;33m*\u001b[0m\u001b[0margs\u001b[0m\u001b[1;33m,\u001b[0m \u001b[1;33m**\u001b[0m\u001b[0mkwargs\u001b[0m\u001b[1;33m)\u001b[0m\u001b[1;33m\u001b[0m\u001b[0m\n\u001b[0m\u001b[0;32m     76\u001b[0m         \u001b[1;32melse\u001b[0m\u001b[1;33m:\u001b[0m\u001b[1;33m\u001b[0m\u001b[0m\n\u001b[0;32m     77\u001b[0m             \u001b[1;32mreturn\u001b[0m \u001b[0mfunc\u001b[0m\u001b[1;33m(\u001b[0m\u001b[1;33m*\u001b[0m\u001b[0margs\u001b[0m\u001b[1;33m,\u001b[0m \u001b[1;33m**\u001b[0m\u001b[0mkwargs\u001b[0m\u001b[1;33m)\u001b[0m\u001b[1;33m\u001b[0m\u001b[0m\n",
      "\u001b[1;32mc:\\program files\\python37\\lib\\site-packages\\keras\\engine\\base_layer.py\u001b[0m in \u001b[0;36m__call__\u001b[1;34m(self, inputs, **kwargs)\u001b[0m\n\u001b[0;32m    461\u001b[0m                                          \u001b[1;34m'You can build it manually via: '\u001b[0m\u001b[1;33m\u001b[0m\u001b[0m\n\u001b[0;32m    462\u001b[0m                                          '`layer.build(batch_input_shape)`')\n\u001b[1;32m--> 463\u001b[1;33m                 \u001b[0mself\u001b[0m\u001b[1;33m.\u001b[0m\u001b[0mbuild\u001b[0m\u001b[1;33m(\u001b[0m\u001b[0munpack_singleton\u001b[0m\u001b[1;33m(\u001b[0m\u001b[0minput_shapes\u001b[0m\u001b[1;33m)\u001b[0m\u001b[1;33m)\u001b[0m\u001b[1;33m\u001b[0m\u001b[0m\n\u001b[0m\u001b[0;32m    464\u001b[0m                 \u001b[0mself\u001b[0m\u001b[1;33m.\u001b[0m\u001b[0mbuilt\u001b[0m \u001b[1;33m=\u001b[0m \u001b[1;32mTrue\u001b[0m\u001b[1;33m\u001b[0m\u001b[0m\n\u001b[0;32m    465\u001b[0m \u001b[1;33m\u001b[0m\u001b[0m\n",
      "\u001b[1;32mc:\\program files\\python37\\lib\\site-packages\\keras\\layers\\core.py\u001b[0m in \u001b[0;36mbuild\u001b[1;34m(self, input_shape)\u001b[0m\n\u001b[0;32m    893\u001b[0m                                       \u001b[0mname\u001b[0m\u001b[1;33m=\u001b[0m\u001b[1;34m'kernel'\u001b[0m\u001b[1;33m,\u001b[0m\u001b[1;33m\u001b[0m\u001b[0m\n\u001b[0;32m    894\u001b[0m                                       \u001b[0mregularizer\u001b[0m\u001b[1;33m=\u001b[0m\u001b[0mself\u001b[0m\u001b[1;33m.\u001b[0m\u001b[0mkernel_regularizer\u001b[0m\u001b[1;33m,\u001b[0m\u001b[1;33m\u001b[0m\u001b[0m\n\u001b[1;32m--> 895\u001b[1;33m                                       constraint=self.kernel_constraint)\n\u001b[0m\u001b[0;32m    896\u001b[0m         \u001b[1;32mif\u001b[0m \u001b[0mself\u001b[0m\u001b[1;33m.\u001b[0m\u001b[0muse_bias\u001b[0m\u001b[1;33m:\u001b[0m\u001b[1;33m\u001b[0m\u001b[0m\n\u001b[0;32m    897\u001b[0m             self.bias = self.add_weight(shape=(self.units,),\n",
      "\u001b[1;32mc:\\program files\\python37\\lib\\site-packages\\keras\\engine\\base_layer.py\u001b[0m in \u001b[0;36madd_weight\u001b[1;34m(self, name, shape, dtype, initializer, regularizer, trainable, constraint)\u001b[0m\n\u001b[0;32m    283\u001b[0m         \u001b[1;32mif\u001b[0m \u001b[0mregularizer\u001b[0m \u001b[1;32mis\u001b[0m \u001b[1;32mnot\u001b[0m \u001b[1;32mNone\u001b[0m\u001b[1;33m:\u001b[0m\u001b[1;33m\u001b[0m\u001b[0m\n\u001b[0;32m    284\u001b[0m             \u001b[1;32mwith\u001b[0m \u001b[0mK\u001b[0m\u001b[1;33m.\u001b[0m\u001b[0mname_scope\u001b[0m\u001b[1;33m(\u001b[0m\u001b[1;34m'weight_regularizer'\u001b[0m\u001b[1;33m)\u001b[0m\u001b[1;33m:\u001b[0m\u001b[1;33m\u001b[0m\u001b[0m\n\u001b[1;32m--> 285\u001b[1;33m                 \u001b[0mself\u001b[0m\u001b[1;33m.\u001b[0m\u001b[0madd_loss\u001b[0m\u001b[1;33m(\u001b[0m\u001b[0mregularizer\u001b[0m\u001b[1;33m(\u001b[0m\u001b[0mweight\u001b[0m\u001b[1;33m)\u001b[0m\u001b[1;33m)\u001b[0m\u001b[1;33m\u001b[0m\u001b[0m\n\u001b[0m\u001b[0;32m    286\u001b[0m         \u001b[1;32mif\u001b[0m \u001b[0mtrainable\u001b[0m\u001b[1;33m:\u001b[0m\u001b[1;33m\u001b[0m\u001b[0m\n\u001b[0;32m    287\u001b[0m             \u001b[0mself\u001b[0m\u001b[1;33m.\u001b[0m\u001b[0m_trainable_weights\u001b[0m\u001b[1;33m.\u001b[0m\u001b[0mappend\u001b[0m\u001b[1;33m(\u001b[0m\u001b[0mweight\u001b[0m\u001b[1;33m)\u001b[0m\u001b[1;33m\u001b[0m\u001b[0m\n",
      "\u001b[1;32mc:\\program files\\python37\\lib\\site-packages\\keras\\regularizers.py\u001b[0m in \u001b[0;36m__call__\u001b[1;34m(self, x)\u001b[0m\n\u001b[0;32m     37\u001b[0m     \u001b[1;32mdef\u001b[0m \u001b[0m__call__\u001b[0m\u001b[1;33m(\u001b[0m\u001b[0mself\u001b[0m\u001b[1;33m,\u001b[0m \u001b[0mx\u001b[0m\u001b[1;33m)\u001b[0m\u001b[1;33m:\u001b[0m\u001b[1;33m\u001b[0m\u001b[0m\n\u001b[0;32m     38\u001b[0m         \u001b[0mregularization\u001b[0m \u001b[1;33m=\u001b[0m \u001b[1;36m0.\u001b[0m\u001b[1;33m\u001b[0m\u001b[0m\n\u001b[1;32m---> 39\u001b[1;33m         \u001b[1;32mif\u001b[0m \u001b[0mself\u001b[0m\u001b[1;33m.\u001b[0m\u001b[0ml1\u001b[0m\u001b[1;33m:\u001b[0m\u001b[1;33m\u001b[0m\u001b[0m\n\u001b[0m\u001b[0;32m     40\u001b[0m             \u001b[0mregularization\u001b[0m \u001b[1;33m+=\u001b[0m \u001b[0mself\u001b[0m\u001b[1;33m.\u001b[0m\u001b[0ml1\u001b[0m \u001b[1;33m*\u001b[0m \u001b[0mK\u001b[0m\u001b[1;33m.\u001b[0m\u001b[0msum\u001b[0m\u001b[1;33m(\u001b[0m\u001b[0mK\u001b[0m\u001b[1;33m.\u001b[0m\u001b[0mabs\u001b[0m\u001b[1;33m(\u001b[0m\u001b[0mx\u001b[0m\u001b[1;33m)\u001b[0m\u001b[1;33m)\u001b[0m\u001b[1;33m\u001b[0m\u001b[0m\n\u001b[0;32m     41\u001b[0m         \u001b[1;32mif\u001b[0m \u001b[0mself\u001b[0m\u001b[1;33m.\u001b[0m\u001b[0ml2\u001b[0m\u001b[1;33m:\u001b[0m\u001b[1;33m\u001b[0m\u001b[0m\n",
      "\u001b[1;31mValueError\u001b[0m: The truth value of an array with more than one element is ambiguous. Use a.any() or a.all()"
     ]
    }
   ],
   "source": [
    "learning_rate = 0.001\n",
    "regu_strength= [0.0001, 0.001, 0.1]\n",
    "num_neurons_layer1 =3\n",
    "num_neurons_layer2 =[2]\n",
    "val_n2_list=[]\n",
    "\n",
    "for j in range (0, 3):\n",
    "    val_n2= regularization_validation_3layers (how_many_iterations, train_in_noise2, train_out_noise2, val_in_noise2, val_out_noise2, test_in_noise2, test_out_noise2,\n",
    "                                learning_rate, regu_strength, num_neurons_layer1, num_neurons_layer2)\n",
    "    val_n2_list.append (val_n2) \n",
    "print (val_n2_list)"
   ]
  },
  {
   "cell_type": "code",
   "execution_count": null,
   "metadata": {},
   "outputs": [],
   "source": []
  }
 ],
 "metadata": {
  "kernelspec": {
   "display_name": "Python 3",
   "language": "python",
   "name": "python3"
  },
  "language_info": {
   "codemirror_mode": {
    "name": "ipython",
    "version": 3
   },
   "file_extension": ".py",
   "mimetype": "text/x-python",
   "name": "python",
   "nbconvert_exporter": "python",
   "pygments_lexer": "ipython3",
   "version": "3.7.0"
  }
 },
 "nbformat": 4,
 "nbformat_minor": 2
}
