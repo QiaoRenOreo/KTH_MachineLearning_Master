{
 "cells": [
  {
   "cell_type": "code",
   "execution_count": 60,
   "metadata": {},
   "outputs": [],
   "source": [
    "import numpy as np\n",
    "import keras\n",
    "import pandas as pd\n",
    "import matplotlib.pyplot as plt\n",
    "import time\n",
    "from sklearn.metrics import mean_squared_error as mse\n",
    "from statistics import stdev \n",
    "from statistics import mean\n",
    "\n",
    "from keras.callbacks import EarlyStopping\n",
    "from keras import regularizers\n",
    "from keras.optimizers import Adam\n",
    "from sklearn.preprocessing import MinMaxScaler\n",
    "from sklearn.model_selection import train_test_split\n",
    "\n",
    "from keras.preprocessing.sequence import TimeseriesGenerator\n",
    "from keras.layers import LSTM\n",
    "from keras.layers import Dropout\n",
    "from keras.models import Sequential\n",
    "from keras.layers import Dense\n",
    "\n"
   ]
  },
  {
   "cell_type": "code",
   "execution_count": 61,
   "metadata": {},
   "outputs": [],
   "source": [
    "    \n",
    "def generate_next_data (current_time , x): # x is a 2d array. size of x: 1 row * (number of data points) col\n",
    "    next_data = x[0][current_time] + ( ( 0.2 * x[0][current_time -25] )  /  (1+ (x[0][current_time -25])**10 )  ) -0.1* x[0][current_time]\n",
    "    return next_data\n",
    "\n",
    "def generate_input (t, x): # x: a 2D array. x stores Mackey Glass data\n",
    "    l=[x[0][t-20],\n",
    "      x[0][t-15],\n",
    "      x[0][t-10],\n",
    "      x[0][t-5],\n",
    "      x[0][t]]\n",
    "    return l\n",
    "\n",
    "def generate_output (t, data_target_1531):\n",
    "    return data_target_1531[0][t+5]\n",
    "\n",
    "\n",
    "def generate_Mackey_Galss_Data( how_many_data_point):\n",
    "    data_target_1531=np.zeros((1, how_many_data_point)) # 1 row * 1531 col\n",
    "    data_target_1531[0][25]=1.5\n",
    "    for i in range (25, 1530):\n",
    "        data_target_1531[0][i+1] = generate_next_data (i, data_target_1531)\n",
    "    # print( data_target_1531.shape)\n",
    "    return data_target_1531\n",
    "\n",
    "\n",
    "# add gaussian noise to my pure data\n",
    "def add_noise (data_target_1531, noise_std_dev): \n",
    "    noise_mean=0\n",
    "    noise = np.random.normal(noise_mean, noise_std_dev, data_target_1531.shape)  # np.random.normal(mu, sigma, 1000)\n",
    "    data_target_1531_noise = data_target_1531 + noise\n",
    "    return data_target_1531_noise\n",
    "\n",
    "def generate_inputArray_outputArray (data_target_1531):\n",
    "    inputData = []\n",
    "    outputData = []\n",
    "    for j in range(301, 1501):\n",
    "        i =j+25\n",
    "        inputData.append (generate_input (i, data_target_1531) )\n",
    "        outputData.append (generate_output (i, data_target_1531) )\n",
    "\n",
    "    inputData = np.array(inputData, dtype=float) # convert list to array\n",
    "    outputData = np.array(outputData, dtype=float)\n",
    "\n",
    "    return inputData, outputData\n",
    "\n",
    "\n",
    "# split to train, validation, and test data\n",
    "#split_1: split between train and val. \n",
    "#split_2: split between val and test. \n",
    "def split (inputData, outputData): \n",
    "    \n",
    "    train_input,  val_input,  test_input  =  inputData[:split_1 , :], inputData[ split_1:split_2 , :], inputData[split_2:, :]\n",
    "    train_output, val_output, test_output =  outputData[:split_1],    outputData[ split_1:split_2 ],    outputData[split_2:]\n",
    "\n",
    "    return train_input, val_input, test_input, train_output, val_output, test_output\n",
    "\n",
    "def generate_6_DataSet (data_target_1531 ): # standard deviation: choose std_1 or std_2 or std_3\n",
    "  \n",
    "    inputData, outputData = generate_inputArray_outputArray (data_target_1531 )\n",
    "    train_in, val_in, test_in, train_out, val_out, test_out       = split (inputData, outputData)\n",
    "    return train_in, val_in, test_in, train_out, val_out, test_out\n",
    "\n",
    "##############################\n",
    "def draw ( l, color):\n",
    "    index_list= range( len (l))\n",
    "    plt.scatter (index_list, l, c=color)\n",
    "    plt.show()\n",
    "\n",
    "    \n",
    "def draw_2_scatters ( l1, label1, color1, l2, label2, color2):\n",
    "    index_list= range( len (l1))\n",
    "    p1=plt.scatter (index_list, l1, c=color1, s=10) # s: marker size\n",
    "    p2=plt.scatter (index_list, l2, c=color2, s=10)\n",
    "    \n",
    "    plt.legend( (p1,p2), (label1, label2), scatterpoints=1, loc='lower left', ncol=1, fontsize=10)\n",
    "    plt.show()\n",
    "    \n",
    "def draw_3_scatters ( l1, color1, l2, color2, l3, color3):\n",
    "    index_list= range( len (l1))\n",
    "    p1=plt.scatter (index_list, l1, c=color1, s=10) # s: marker size\n",
    "    p2=plt.scatter (index_list, l2, c=color2, s=10)\n",
    "    p3=plt.scatter (index_list, l3, c=color3, s=10)\n",
    "    \n",
    "    plt.legend( (p1,p2,p3), ('pure data', 'noised data', 'prediction'), scatterpoints=1, loc='lower left',  ncol=1, fontsize=10)\n",
    "    plt.show()\n",
    "\n",
    "\n",
    "def draw_1_line ( title, xlabel, ylabel, ymin,ymax, l0, l1, color1, label1 ):\n",
    "    \n",
    "    fig = plt.figure() \n",
    "    ax = plt.subplot(111)\n",
    "    ax.plot(l0, l1, c=color1, label= label1 )\n",
    "    ax.set_ylim([ymin,ymax])\n",
    "    plt.title( title )\n",
    "    plt.xlabel(xlabel ) \n",
    "    plt.ylabel(ylabel ) \n",
    "    ax.legend()\n",
    "#     plt.savefig('D:/Sweden/p3/ANN/lab1/part2/'+ title + '.png', dpi=300)\n",
    "    plt.show()\n",
    "    \n",
    "def draw_2_line ( title,xlabel, ylabel, l0, l1, color1, label1, l2, color2, label2 ):\n",
    "    \n",
    "    fig = plt.figure() \n",
    "    ax = plt.subplot(111)\n",
    "    ax.plot(l0, l1, c=color1, label= label1 )\n",
    "    ax.plot(l0, l2, c=color2, label= label2)\n",
    "    plt.title(title)\n",
    "    plt.xlabel(xlabel ) \n",
    "    plt.ylabel(ylabel ) \n",
    "    ax.legend()\n",
    "#     plt.savefig('D:/Sweden/p3/ANN/lab1/part2/'+ title + '.png', dpi=300)\n",
    "    plt.show()\n",
    "        \n",
    "def draw_3_line ( title,xlabel, ylabel, ymin,ymax, l0, l1, color1, label1, l2, color2, label2, l3, color3, label3 ):\n",
    "\n",
    "    fig = plt.figure() \n",
    "    ax = plt.subplot(111)\n",
    "    ax.plot(l0, l1, c=color1, label= label1 )\n",
    "    ax.plot(l0, l2, c=color2, label= label2 )\n",
    "    ax.plot(l0, l3, c=color3, label= label3 )\n",
    "    ax.set_ylim([ymin,ymax])\n",
    "    plt.title(title)\n",
    "    ax.legend()\n",
    "    plt.xlabel(xlabel ) \n",
    "    plt.ylabel(ylabel ) \n",
    "#     plt.savefig('D:/Sweden/p3/ANN/lab1/part2/'+ title + '.png', dpi=300)\n",
    "    plt.show()    "
   ]
  },
  {
   "cell_type": "markdown",
   "metadata": {},
   "source": [
    "## generate data set"
   ]
  },
  {
   "cell_type": "code",
   "execution_count": 66,
   "metadata": {},
   "outputs": [
    {
     "data": {
      "image/png": "[encoded data removed]",
      "text/plain": [
       "<Figure size 432x288 with 1 Axes>"
      ]
     },
     "metadata": {
      "needs_background": "light"
     },
     "output_type": "display_data"
    },
    {
     "data": {
      "image/png": "[encoded data removed]",
      "text/plain": [
       "<Figure size 432x288 with 1 Axes>"
      ]
     },
     "metadata": {
      "needs_background": "light"
     },
     "output_type": "display_data"
    }
   ],
   "source": [
    "\n",
    "data_target_1531 = generate_Mackey_Galss_Data(1531)\n",
    "\n",
    "std_1=0.03\n",
    "std_2=0.09\n",
    "std_3=0.18\n",
    "\n",
    "\n",
    "data_target_1531_noise1 = add_noise (data_target_1531, std_1 )\n",
    "data_target_1531_noise2 = add_noise (data_target_1531, std_2 )\n",
    "data_target_1531_noise3 = add_noise (data_target_1531, std_3 )\n",
    "\n",
    "split_1 = 900\n",
    "split_2 = 1000\n",
    "\n",
    "\n",
    "train_in_pure,  val_in_pure,  test_in_pure,  train_out_pure,  val_out_pure,  test_out_pure = generate_6_DataSet (data_target_1531 )\n",
    "\n",
    "train_in_noise1, val_in_noise1, test_in_noise1, train_out_noise1, val_out_noise1, test_out_noise1 = generate_6_DataSet (data_target_1531_noise1 )\n",
    "train_in_noise2, val_in_noise2, test_in_noise2, train_out_noise2, val_out_noise2, test_out_noise2 = generate_6_DataSet (data_target_1531_noise2 )\n",
    "train_in_noise3, val_in_noise3, test_in_noise3, train_out_noise3, val_out_noise3, test_out_noise3 = generate_6_DataSet (data_target_1531_noise3 )\n",
    "\n",
    "draw ( val_out_pure, 'b')\n",
    "draw_1_line ( 'title', 'xlabel', 'ylabel', 0,1.4, np.arange(len(train_out_pure) ), train_out_pure, 'b', 'train_out_pure' )\n",
    "# draw ( train_out_noise1, 'b')\n",
    "# draw ( train_out_noise2, 'b')\n",
    "# # draw_1_line ( 'title', 'xlabel', 'ylabel', 0,1.5, np.arange(len(train_out_noise2) ), train_out_noise2, 'b', 'train_out_noise2' )\n",
    "# draw ( train_out_noise3, 'b')"
   ]
  },
  {
   "cell_type": "markdown",
   "metadata": {},
   "source": [
    "## Two Layers"
   ]
  },
  {
   "cell_type": "code",
   "execution_count": 12,
   "metadata": {
    "scrolled": true
   },
   "outputs": [],
   "source": [
    "def train_2_layer_NN (train_input, train_output, val_input, val_output, \n",
    "                      learning_rate, regu_strength, num_neurons_layer1): \n",
    "    dim_InputData =5\n",
    "    num_neurons_output=1\n",
    "    \n",
    "    model = Sequential()  \n",
    "    model.add(Dense( num_neurons_layer1, \n",
    "                     input_shape=(dim_InputData,),\n",
    "                     activation='sigmoid',\n",
    "                     kernel_regularizer=regularizers.l1(regu_strength),  \n",
    "                   ) )  \n",
    "    model.add(Dense(num_neurons_output))\n",
    "\n",
    "    model.compile(loss='mean_squared_error', optimizer=Adam(lr=learning_rate)  )\n",
    "\n",
    "    es = EarlyStopping(monitor='val_loss', mode='min', verbose=1)  # \n",
    "    \n",
    "    history=model.fit(train_input, train_output, \n",
    "                      validation_data=(val_input, val_output), #validation_split=0.1, \n",
    "                      nb_epoch=100, \n",
    "                      batch_size=1, \n",
    "                      verbose=1,\n",
    "                      callbacks = [es]\n",
    "                     )\n",
    "\n",
    "    return model, history\n",
    "\n",
    "def predict (kerasModel, test_data  ):\n",
    "    prediction = kerasModel.predict(test_data)\n",
    "    return prediction\n"
   ]
  },
  {
   "cell_type": "code",
   "execution_count": 8,
   "metadata": {},
   "outputs": [],
   "source": []
  },
  {
   "cell_type": "code",
   "execution_count": 71,
   "metadata": {
    "scrolled": true
   },
   "outputs": [
    {
     "name": "stderr",
     "output_type": "stream",
     "text": [
      "c:\\program files\\python37\\lib\\site-packages\\ipykernel_launcher.py:23: UserWarning: The `nb_epoch` argument in `fit` has been renamed `epochs`.\n"
     ]
    },
    {
     "name": "stdout",
     "output_type": "stream",
     "text": [
      "Train on 900 samples, validate on 100 samples\n",
      "Epoch 1/100\n",
      "900/900 [==============================] - 1s 887us/step - loss: 0.0280 - val_loss: 0.0229\n",
      "Epoch 2/100\n",
      "900/900 [==============================] - 1s 795us/step - loss: 0.0180 - val_loss: 0.0130\n",
      "Epoch 3/100\n",
      "900/900 [==============================] - 1s 778us/step - loss: 0.0155 - val_loss: 0.0118\n",
      "Epoch 4/100\n",
      "900/900 [==============================] - 1s 792us/step - loss: 0.0151 - val_loss: 0.0111\n",
      "Epoch 5/100\n",
      "900/900 [==============================] - 1s 816us/step - loss: 0.0143 - val_loss: 0.0124\n",
      "Epoch 00005: early stopping\n"
     ]
    }
   ],
   "source": [
    "learning_rate=0.01\n",
    "regu_strength_list=[0.0001] #[0.0001, 0.0002, 0.0003, 0.0004, 0.0005,....]\n",
    "num_neurons_layer1 =3\n",
    "i=0\n",
    "model_pure, model_history = train_2_layer_NN(train_in_pure, train_out_pure, val_in_pure, val_out_pure, learning_rate, regu_strength_list[i], num_neurons_layer1)\n"
   ]
  },
  {
   "cell_type": "code",
   "execution_count": 72,
   "metadata": {},
   "outputs": [
    {
     "name": "stdout",
     "output_type": "stream",
     "text": [
      "[[0.7725158 ]\n",
      " [0.7195588 ]\n",
      " [0.6814637 ]\n",
      " [0.65928096]\n",
      " [0.65304196]\n",
      " [0.66182166]\n",
      " [0.68370277]\n",
      " [0.7157961 ]\n",
      " [0.7545672 ]\n",
      " [0.79647416]\n",
      " [0.838383  ]\n",
      " [0.87754506]\n",
      " [0.9115472 ]\n",
      " [0.93825704]\n",
      " [0.95533067]\n",
      " [0.95946836]\n",
      " [0.94655204]\n",
      " [0.91387093]\n",
      " [0.86356264]\n",
      " [0.80355746]\n",
      " [0.74504334]\n",
      " [0.69949776]\n",
      " [0.6764229 ]\n",
      " [0.6814573 ]\n",
      " [0.715737  ]\n",
      " [0.7760075 ]\n",
      " [0.8542807 ]\n",
      " [0.9387016 ]\n",
      " [1.0169295 ]\n",
      " [1.0798752 ]\n",
      " [1.1233635 ]\n",
      " [1.1477231 ]\n",
      " [1.1564728 ]\n",
      " [1.1548305 ]\n",
      " [1.1482456 ]\n",
      " [1.1411996 ]\n",
      " [1.1364697 ]\n",
      " [1.1346284 ]\n",
      " [1.133962  ]\n",
      " [1.1316115 ]\n",
      " [1.1256503 ]\n",
      " [1.1167012 ]\n",
      " [1.1083608 ]\n",
      " [1.1059849 ]\n",
      " [1.1134759 ]\n",
      " [1.13012   ]\n",
      " [1.1509645 ]\n",
      " [1.1701763 ]\n",
      " [1.183892  ]\n",
      " [1.191336  ]\n",
      " [1.1944319 ]\n",
      " [1.1956367 ]\n",
      " [1.1946882 ]\n",
      " [1.1867235 ]\n",
      " [1.1641679 ]\n",
      " [1.121437  ]\n",
      " [1.0581694 ]\n",
      " [0.9793525 ]\n",
      " [0.8939001 ]\n",
      " [0.8117185 ]\n",
      " [0.7395685 ]\n",
      " [0.6790814 ]\n",
      " [0.6284482 ]\n",
      " [0.5852408 ]\n",
      " [0.5481947 ]\n",
      " [0.5175321 ]\n",
      " [0.49408877]\n",
      " [0.4778961 ]\n",
      " [0.4670914 ]\n",
      " [0.45799208]\n",
      " [0.44660598]\n",
      " [0.43054017]\n",
      " [0.409877  ]\n",
      " [0.3868142 ]\n",
      " [0.36451322]\n",
      " [0.3455661 ]\n",
      " [0.3309999 ]\n",
      " [0.3205026 ]\n",
      " [0.31340897]\n",
      " [0.30959204]\n",
      " [0.30985212]\n",
      " [0.31595886]\n",
      " [0.33073002]\n",
      " [0.35831916]\n",
      " [0.40442634]\n",
      " [0.47537288]\n",
      " [0.5741487 ]\n",
      " [0.69404185]\n",
      " [0.81749344]\n",
      " [0.92496836]\n",
      " [1.0040771 ]\n",
      " [1.0511475 ]\n",
      " [1.0691448 ]\n",
      " [1.065268  ]\n",
      " [1.0477455 ]\n",
      " [1.0229781 ]\n",
      " [0.99481595]\n",
      " [0.9655703 ]\n",
      " [0.93719816]\n",
      " [0.9116888 ]\n",
      " [0.8907955 ]\n",
      " [0.87538207]\n",
      " [0.86452824]\n",
      " [0.855362  ]\n",
      " [0.844269  ]\n",
      " [0.8283435 ]\n",
      " [0.80624837]\n",
      " [0.7788654 ]\n",
      " [0.7495249 ]\n",
      " [0.7231985 ]\n",
      " [0.705389  ]\n",
      " [0.70158345]\n",
      " [0.7166485 ]\n",
      " [0.75324094]\n",
      " [0.8098354 ]\n",
      " [0.879914  ]\n",
      " [0.95288455]\n",
      " [1.0170425 ]\n",
      " [1.0638535 ]\n",
      " [1.0903893 ]\n",
      " [1.0985773 ]\n",
      " [1.0933679 ]\n",
      " [1.0811657 ]\n",
      " [1.0681919 ]\n",
      " [1.0591067 ]\n",
      " [1.0566624 ]\n",
      " [1.0621351 ]\n",
      " [1.0757252 ]\n",
      " [1.0965227 ]\n",
      " [1.1223391 ]\n",
      " [1.1498647 ]\n",
      " [1.1751847 ]\n",
      " [1.1945727 ]\n",
      " [1.2054545 ]\n",
      " [1.20705   ]\n",
      " [1.2004122 ]\n",
      " [1.1881759 ]\n",
      " [1.1741853 ]\n",
      " [1.1627501 ]\n",
      " [1.1574559 ]\n",
      " [1.1596186 ]\n",
      " [1.1664786 ]\n",
      " [1.1702497 ]\n",
      " [1.1609861 ]\n",
      " [1.1326826 ]\n",
      " [1.0857345 ]\n",
      " [1.0250291 ]\n",
      " [0.95818937]\n",
      " [0.8934268 ]\n",
      " [0.83572406]\n",
      " [0.7853858 ]\n",
      " [0.74034   ]\n",
      " [0.6986492 ]\n",
      " [0.65942734]\n",
      " [0.62257296]\n",
      " [0.588237  ]\n",
      " [0.5563284 ]\n",
      " [0.52605516]\n",
      " [0.49615765]\n",
      " [0.46598932]\n",
      " [0.43608552]\n",
      " [0.4078936 ]\n",
      " [0.38342732]\n",
      " [0.3644857 ]\n",
      " [0.3513694 ]\n",
      " [0.34266824]\n",
      " [0.33637422]\n",
      " [0.33104783]\n",
      " [0.326459  ]\n",
      " [0.32366502]\n",
      " [0.32472077]\n",
      " [0.33239728]\n",
      " [0.3500145 ]\n",
      " [0.38125154]\n",
      " [0.42973936]\n",
      " [0.4981079 ]\n",
      " [0.5862406 ]\n",
      " [0.68935   ]\n",
      " [0.7975818 ]\n",
      " [0.8985236 ]\n",
      " [0.9814471 ]\n",
      " [1.0402657 ]\n",
      " [1.0738456 ]\n",
      " [1.0847294 ]\n",
      " [1.0775514 ]\n",
      " [1.0576234 ]\n",
      " [1.0299153 ]\n",
      " [0.9985962 ]\n",
      " [0.96700233]\n",
      " [0.93770283]\n",
      " [0.9124155 ]\n",
      " [0.8917779 ]\n",
      " [0.8751723 ]\n",
      " [0.8608481 ]\n",
      " [0.8464692 ]\n",
      " [0.8299433 ]\n",
      " [0.810202  ]\n",
      " [0.7877031 ]\n",
      " [0.7645935 ]\n",
      " [0.74448234]]\n"
     ]
    },
    {
     "data": {
      "image/png": "[encoded data removed]",
      "text/plain": [
       "<Figure size 432x288 with 1 Axes>"
      ]
     },
     "metadata": {
      "needs_background": "light"
     },
     "output_type": "display_data"
    }
   ],
   "source": [
    "prediction = predict (model_pure, test_in_pure)\n",
    "print (prediction)\n",
    "\n",
    "draw_2_line ( 'pred','time', 'target', np.arange(len(prediction) ), prediction, 'r','prediction', test_out_pure, 'b', 'true target')"
   ]
  },
  {
   "cell_type": "code",
   "execution_count": 73,
   "metadata": {
    "scrolled": true
   },
   "outputs": [
    {
     "data": {
      "image/png": "[encoded data removed]",
      "text/plain": [
       "<Figure size 432x288 with 1 Axes>"
      ]
     },
     "metadata": {
      "needs_background": "light"
     },
     "output_type": "display_data"
    }
   ],
   "source": [
    "plt.plot (model_history.history['loss'])\n",
    "plt.show ()"
   ]
  },
  {
   "cell_type": "code",
   "execution_count": 75,
   "metadata": {},
   "outputs": [
    {
     "name": "stdout",
     "output_type": "stream",
     "text": [
      "validation MSE   0.011126679120352492\n",
      "train MSE   0.01514058785034447\n",
      "prediction MSE   0.01347698101149785\n"
     ]
    }
   ],
   "source": [
    "# print(\"history: \",model_history.history )\n",
    "\n",
    "val_MSE = model_history.history['val_loss'][-2]\n",
    "print (\"validation MSE  \",val_MSE) \n",
    "\n",
    "train_MSE = model_history.history['loss'][-2]\n",
    "print (\"train MSE  \",train_MSE)\n",
    "\n",
    "prediction = predict (model_pure, test_in_pure)\n",
    "MSE= mse (test_out_pure, prediction) \n",
    "print (\"prediction MSE  \",MSE)"
   ]
  },
  {
   "cell_type": "code",
   "execution_count": 76,
   "metadata": {
    "scrolled": false
   },
   "outputs": [
    {
     "name": "stderr",
     "output_type": "stream",
     "text": [
      "c:\\program files\\python37\\lib\\site-packages\\ipykernel_launcher.py:23: UserWarning: The `nb_epoch` argument in `fit` has been renamed `epochs`.\n"
     ]
    },
    {
     "name": "stdout",
     "output_type": "stream",
     "text": [
      "Train on 900 samples, validate on 100 samples\n",
      "Epoch 1/100\n",
      "900/900 [==============================] - 1s 862us/step - loss: 0.0429 - val_loss: 0.0169\n",
      "Epoch 2/100\n",
      "900/900 [==============================] - 1s 772us/step - loss: 0.0195 - val_loss: 0.0129\n",
      "Epoch 3/100\n",
      "900/900 [==============================] - 1s 775us/step - loss: 0.0149 - val_loss: 0.0118\n",
      "Epoch 4/100\n",
      "900/900 [==============================] - 1s 800us/step - loss: 0.0107 - val_loss: 0.0127\n",
      "Epoch 00004: early stopping\n",
      "weight[1] [ 0.31944758  0.4039693  -0.12290002]\n",
      "weight[3] [0.21493307]\n",
      "v [[-1.0591178  -1.8892521   0.11738839]\n",
      " [-0.1927298  -1.9806197   0.01966378]\n",
      " [-0.35952416 -0.04135641  0.7242014 ]\n",
      " [-0.49749187  0.5136662   0.3850595 ]\n",
      " [ 2.2644446   0.0424769  -1.9680558 ]]\n",
      "w [[ 1.6200665 ]\n",
      " [-1.2336992 ]\n",
      " [-0.72544163]]\n",
      "concat_weights [-1.0591178  -1.8892521   0.11738839 -0.1927298  -1.9806197   0.01966378\n",
      " -0.35952416 -0.04135641  0.7242014  -0.49749187  0.5136662   0.3850595\n",
      "  2.2644446   0.0424769  -1.9680558   1.6200665  -1.2336992  -0.72544163]\n"
     ]
    },
    {
     "data": {
      "image/png": "[encoded data removed]",
      "text/plain": [
       "<Figure size 432x288 with 1 Axes>"
      ]
     },
     "metadata": {
      "needs_background": "light"
     },
     "output_type": "display_data"
    },
    {
     "name": "stdout",
     "output_type": "stream",
     "text": [
      "Train on 900 samples, validate on 100 samples\n",
      "Epoch 1/100\n",
      "900/900 [==============================] - 1s 885us/step - loss: 0.0424 - val_loss: 0.0249\n",
      "Epoch 2/100\n",
      "900/900 [==============================] - 1s 867us/step - loss: 0.0263 - val_loss: 0.0203\n",
      "Epoch 3/100\n",
      "900/900 [==============================] - 1s 818us/step - loss: 0.0250 - val_loss: 0.0210\n",
      "Epoch 00003: early stopping\n",
      "weight[1] [-0.1299573  -0.14956152 -0.13244608]\n",
      "weight[3] [0.14438148]\n",
      "v [[-2.8728191e-03 -1.4055573e-03  6.4832968e-01]\n",
      " [ 1.1898446e-02  1.4311023e-01  1.5110867e-03]\n",
      " [ 1.3143500e-02 -8.3333176e-01 -5.4923160e-04]\n",
      " [-1.0754990e-01 -1.2357150e-01  1.7217691e-01]\n",
      " [ 1.0689485e+00  1.5779760e+00 -1.7047595e+00]]\n",
      "w [[ 0.7697802]\n",
      " [ 0.9997338]\n",
      " [-1.1906576]]\n",
      "concat_weights [-2.8728191e-03 -1.4055573e-03  6.4832968e-01  1.1898446e-02\n",
      "  1.4311023e-01  1.5110867e-03  1.3143500e-02 -8.3333176e-01\n",
      " -5.4923160e-04 -1.0754990e-01 -1.2357150e-01  1.7217691e-01\n",
      "  1.0689485e+00  1.5779760e+00 -1.7047595e+00  7.6978022e-01\n",
      "  9.9973381e-01 -1.1906576e+00]\n"
     ]
    },
    {
     "data": {
      "image/png": "[encoded data removed]",
      "text/plain": [
       "<Figure size 432x288 with 1 Axes>"
      ]
     },
     "metadata": {
      "needs_background": "light"
     },
     "output_type": "display_data"
    },
    {
     "name": "stdout",
     "output_type": "stream",
     "text": [
      "Train on 900 samples, validate on 100 samples\n",
      "Epoch 1/100\n",
      "900/900 [==============================] - 1s 954us/step - loss: 0.1537 - val_loss: 0.0650\n",
      "Epoch 2/100\n",
      "900/900 [==============================] - 1s 890us/step - loss: 0.0577 - val_loss: 0.0542\n",
      "Epoch 3/100\n",
      "900/900 [==============================] - 1s 871us/step - loss: 0.0499 - val_loss: 0.0416\n",
      "Epoch 4/100\n",
      "900/900 [==============================] - 1s 893us/step - loss: 0.0464 - val_loss: 0.0403\n",
      "Epoch 5/100\n",
      "900/900 [==============================] - 1s 798us/step - loss: 0.0429 - val_loss: 0.0380\n",
      "Epoch 6/100\n",
      "900/900 [==============================] - 1s 792us/step - loss: 0.0394 - val_loss: 0.0405\n",
      "Epoch 00006: early stopping\n",
      "weight[1] [-0.00987037 -0.8574952   0.3192333 ]\n",
      "weight[3] [1.0903457]\n",
      "v [[-5.7627149e-03 -4.5606373e-03  2.2894152e-01]\n",
      " [-2.7612583e-03 -1.5820609e-04  4.6966597e-02]\n",
      " [-4.5488430e-03 -2.3179026e-03  7.4519984e-02]\n",
      " [-5.4106265e-03  6.1416980e-03  2.3872431e-02]\n",
      " [ 3.4511485e-04  3.9060200e-03 -1.2215742e+00]]\n",
      "w [[ 1.4404019 ]\n",
      " [ 0.22080399]\n",
      " [-2.692373  ]]\n",
      "concat_weights [-5.7627149e-03 -4.5606373e-03  2.2894152e-01 -2.7612583e-03\n",
      " -1.5820609e-04  4.6966597e-02 -4.5488430e-03 -2.3179026e-03\n",
      "  7.4519984e-02 -5.4106265e-03  6.1416980e-03  2.3872431e-02\n",
      "  3.4511485e-04  3.9060200e-03 -1.2215742e+00  1.4404019e+00\n",
      "  2.2080399e-01 -2.6923730e+00]\n"
     ]
    },
    {
     "data": {
      "image/png": "[encoded data removed]",
      "text/plain": [
       "<Figure size 432x288 with 1 Axes>"
      ]
     },
     "metadata": {
      "needs_background": "light"
     },
     "output_type": "display_data"
    }
   ],
   "source": [
    "def weight_histogram(train_in_pure, train_out_pure, val_in_pure, val_out_pure, learning_rate):\n",
    "    regu_strengths = [ 0.0001,  0.001, 0.01  ]\n",
    "    num_neurons_layer1 =3\n",
    "    weights_of_model = []\n",
    "    \n",
    "    for i in range(len(regu_strengths)):\n",
    "        \n",
    "        model_pure, model_history = train_2_layer_NN(train_in_pure, train_out_pure, val_in_pure, val_out_pure, learning_rate, regu_strengths[i], num_neurons_layer1)\n",
    "        weights = model_pure.get_weights()\n",
    "        print ('weight[1]',weights[1])\n",
    "        print ('weight[3]',weights[3])\n",
    "        v, w = weights[0], weights[2]\n",
    "        print (\"v\", v)\n",
    "        print (\"w\", w)\n",
    "        \n",
    "        concat_weights = np.concatenate((v.flatten(), w.flatten()))\n",
    "        print (\"concat_weights\",concat_weights)\n",
    "        weights_of_model.append (concat_weights)\n",
    "        \n",
    "        plt.hist(concat_weights, bins= 30 ) \n",
    "        plt.title('histogram of weights, when regularisation strength = ' + str(regu_strengths[i]))\n",
    "        plt.xlim (-4 ,4 )\n",
    "        plt.xlabel('weight value')\n",
    "        plt.ylabel('amount of weights')\n",
    "        plt.grid(color='silver', linestyle='--', linewidth=2)\n",
    "        plt.show()\n",
    "    return regu_strengths, weights_of_model\n",
    "\n",
    "regu_strengths, weights_of_model = weight_histogram(train_in_pure, train_out_pure, val_in_pure, val_out_pure, learning_rate)"
   ]
  },
  {
   "cell_type": "code",
   "execution_count": 49,
   "metadata": {
    "scrolled": true
   },
   "outputs": [
    {
     "name": "stderr",
     "output_type": "stream",
     "text": [
      "c:\\program files\\python37\\lib\\site-packages\\ipykernel_launcher.py:23: UserWarning: The `nb_epoch` argument in `fit` has been renamed `epochs`.\n"
     ]
    },
    {
     "name": "stdout",
     "output_type": "stream",
     "text": [
      "Train on 900 samples, validate on 100 samples\n",
      "Epoch 1/100\n",
      "900/900 [==============================] - 1s 910us/step - loss: 0.1030 - val_loss: 0.0597\n",
      "Epoch 2/100\n",
      "900/900 [==============================] - 1s 799us/step - loss: 0.0706 - val_loss: 0.0539\n",
      "Epoch 3/100\n",
      "900/900 [==============================] - 1s 830us/step - loss: 0.0612 - val_loss: 0.0432\n",
      "Epoch 4/100\n",
      "900/900 [==============================] - 1s 759us/step - loss: 0.0527 - val_loss: 0.0365\n",
      "Epoch 5/100\n",
      "900/900 [==============================] - 1s 777us/step - loss: 0.0463 - val_loss: 0.0321\n",
      "Epoch 6/100\n",
      "900/900 [==============================] - 1s 802us/step - loss: 0.0408 - val_loss: 0.0288\n",
      "Epoch 7/100\n",
      "900/900 [==============================] - 1s 791us/step - loss: 0.0366 - val_loss: 0.0260\n",
      "Epoch 8/100\n",
      "900/900 [==============================] - 1s 822us/step - loss: 0.0336 - val_loss: 0.0232\n",
      "Epoch 9/100\n",
      "900/900 [==============================] - 1s 864us/step - loss: 0.0313 - val_loss: 0.0228\n",
      "Epoch 10/100\n",
      "900/900 [==============================] - 1s 831us/step - loss: 0.0296 - val_loss: 0.0209\n",
      "Epoch 11/100\n",
      "900/900 [==============================] - 1s 820us/step - loss: 0.0284 - val_loss: 0.0201\n",
      "Epoch 12/100\n",
      "900/900 [==============================] - 1s 939us/step - loss: 0.0274 - val_loss: 0.0199\n",
      "Epoch 13/100\n",
      "900/900 [==============================] - 1s 1ms/step - loss: 0.0266 - val_loss: 0.0190\n",
      "Epoch 14/100\n",
      "900/900 [==============================] - 1s 1ms/step - loss: 0.0258 - val_loss: 0.0186\n",
      "Epoch 15/100\n",
      "900/900 [==============================] - 1s 1ms/step - loss: 0.0252 - val_loss: 0.0182\n",
      "Epoch 16/100\n",
      "900/900 [==============================] - 1s 1ms/step - loss: 0.0248 - val_loss: 0.0179\n",
      "Epoch 17/100\n",
      "900/900 [==============================] - 1s 1ms/step - loss: 0.0241 - val_loss: 0.0175\n",
      "Epoch 18/100\n",
      "900/900 [==============================] - 1s 1ms/step - loss: 0.0237 - val_loss: 0.0178\n",
      "Epoch 00018: early stopping\n"
     ]
    },
    {
     "name": "stderr",
     "output_type": "stream",
     "text": [
      "c:\\program files\\python37\\lib\\site-packages\\ipykernel_launcher.py:23: UserWarning: The `nb_epoch` argument in `fit` has been renamed `epochs`.\n"
     ]
    },
    {
     "name": "stdout",
     "output_type": "stream",
     "text": [
      "Train on 900 samples, validate on 100 samples\n",
      "Epoch 1/100\n",
      "900/900 [==============================] - 1s 874us/step - loss: 0.0524 - val_loss: 0.0306\n",
      "Epoch 2/100\n",
      "900/900 [==============================] - 1s 785us/step - loss: 0.0421 - val_loss: 0.0258\n",
      "Epoch 3/100\n",
      "900/900 [==============================] - 1s 783us/step - loss: 0.0356 - val_loss: 0.0221\n",
      "Epoch 4/100\n",
      "900/900 [==============================] - 1s 789us/step - loss: 0.0316 - val_loss: 0.0193\n",
      "Epoch 5/100\n",
      "900/900 [==============================] - 1s 844us/step - loss: 0.0286 - val_loss: 0.0208\n",
      "Epoch 00005: early stopping\n"
     ]
    },
    {
     "name": "stderr",
     "output_type": "stream",
     "text": [
      "c:\\program files\\python37\\lib\\site-packages\\ipykernel_launcher.py:23: UserWarning: The `nb_epoch` argument in `fit` has been renamed `epochs`.\n"
     ]
    },
    {
     "name": "stdout",
     "output_type": "stream",
     "text": [
      "Train on 900 samples, validate on 100 samples\n",
      "Epoch 1/100\n",
      "900/900 [==============================] - 1s 918us/step - loss: 0.0623 - val_loss: 0.0453\n",
      "Epoch 2/100\n",
      "900/900 [==============================] - 1s 858us/step - loss: 0.0466 - val_loss: 0.0349\n",
      "Epoch 3/100\n",
      "900/900 [==============================] - 1s 862us/step - loss: 0.0354 - val_loss: 0.0264\n",
      "Epoch 4/100\n",
      "900/900 [==============================] - 1s 863us/step - loss: 0.0288 - val_loss: 0.0230\n",
      "Epoch 5/100\n",
      "900/900 [==============================] - 1s 836us/step - loss: 0.0257 - val_loss: 0.0217\n",
      "Epoch 6/100\n",
      "900/900 [==============================] - 1s 797us/step - loss: 0.0243 - val_loss: 0.0205\n",
      "Epoch 7/100\n",
      "900/900 [==============================] - 1s 830us/step - loss: 0.0236 - val_loss: 0.0198\n",
      "Epoch 8/100\n",
      "900/900 [==============================] - 1s 820us/step - loss: 0.0228 - val_loss: 0.0193\n",
      "Epoch 9/100\n",
      "900/900 [==============================] - 1s 869us/step - loss: 0.0224 - val_loss: 0.0193\n",
      "Epoch 10/100\n",
      "900/900 [==============================] - 1s 873us/step - loss: 0.0219 - val_loss: 0.0185\n",
      "Epoch 11/100\n",
      "900/900 [==============================] - 1s 859us/step - loss: 0.0211 - val_loss: 0.0181\n",
      "Epoch 12/100\n",
      "900/900 [==============================] - 1s 865us/step - loss: 0.0211 - val_loss: 0.0185\n",
      "Epoch 00012: early stopping\n",
      "[0.017814210902142805, 0.02080942977569066, 0.018538984938059003] [0.027704965611998675, 0.039591964971101595, 0.024241351227682985] [0.023706871483041646, 0.028554681372867586, 0.02109600256953854] [16.281604766845703, 3.913270950317383, 9.575453996658325]\n"
     ]
    }
   ],
   "source": [
    "\n",
    "def num_neurons_validation_2lay (train_in_pure, train_out_pure, val_in_pure, val_out_pure, test_in_pure, test_out_pure,\n",
    "                            learning_rate, regu_strength, num_neurons_layer1_list):\n",
    "    val_MSE_list= []\n",
    "    test_mse_list =[]\n",
    "    train_MSE_list =[]\n",
    "    time_2lay =[]\n",
    "    \n",
    "    for i in range (0, len (num_neurons_layer1_list) ):\n",
    "        start_time = time.time()\n",
    "\n",
    "        model_pure, model_history = train_2_layer_NN(train_in_pure, train_out_pure, val_in_pure, val_out_pure, \n",
    "                                                     learning_rate, regu_strength, num_neurons_layer1_list[i])\n",
    "        end_time = time.time()\n",
    "        time_spent= end_time - start_time    \n",
    "        time_2lay.append(time_spent)\n",
    "        \n",
    "        val_MSE = model_history.history['val_loss'][-1]\n",
    "        val_MSE_list.append (val_MSE)\n",
    "        \n",
    "        train_MSE = model_history.history['loss'][-1]\n",
    "        train_MSE_list.append (train_MSE)  \n",
    "        \n",
    "        prediction = predict (model_pure, test_in_pure)\n",
    "        MSE= mse (test_out_pure, prediction) \n",
    "        test_mse_list.append (MSE)\n",
    "        \n",
    "    return val_MSE_list, test_mse_list , train_MSE_list, time_2lay\n",
    "\n",
    "\n",
    "learning_rate = 0.001\n",
    "num_neurons_layer1 =[1,2,3]\n",
    "regu_strength = 0.0001\n",
    "valMSE_of_NumNeurons_2lay, testMSE_of_NumNeurons_2lay, trainMSE_of_NumNeurons_2lay, time_2lay = num_neurons_validation_2lay (train_in_pure, train_out_pure, val_in_pure, val_out_pure, test_in_pure, test_out_pure,\n",
    "                                                                                                         learning_rate, regu_strength, num_neurons_layer1)\n",
    "print (valMSE_of_NumNeurons_2lay, testMSE_of_NumNeurons_2lay , trainMSE_of_NumNeurons_2lay, time_2lay)"
   ]
  },
  {
   "cell_type": "code",
   "execution_count": 50,
   "metadata": {},
   "outputs": [
    {
     "data": {
      "image/png": "[encoded data removed]",
      "text/plain": [
       "<Figure size 432x288 with 1 Axes>"
      ]
     },
     "metadata": {
      "needs_background": "light"
     },
     "output_type": "display_data"
    },
    {
     "name": "stdout",
     "output_type": "stream",
     "text": [
      "[0.017814210902142805, 0.02080942977569066, 0.018538984938059003]\n",
      "[0.027704965611998675, 0.039591964971101595, 0.024241351227682985]\n",
      "[0.023706871483041646, 0.028554681372867586, 0.02109600256953854]\n"
     ]
    }
   ],
   "source": [
    "draw_3_line ( 'loss vs number of neurons, for 2-layer model',\n",
    "             'number of neurons','mean squared error', 0, 0.04, num_neurons_layer1 ,\n",
    "                 valMSE_of_NumNeurons_2lay,   'm', 'validation', \n",
    "                 testMSE_of_NumNeurons_2lay,  'b', 'test', \n",
    "                 trainMSE_of_NumNeurons_2lay, 'g',  'train' )\n",
    "print (valMSE_of_NumNeurons_2lay)\n",
    "print (testMSE_of_NumNeurons_2lay)\n",
    "print (trainMSE_of_NumNeurons_2lay)"
   ]
  },
  {
   "cell_type": "markdown",
   "metadata": {},
   "source": [
    "## Three Layers\n"
   ]
  },
  {
   "cell_type": "code",
   "execution_count": 51,
   "metadata": {
    "scrolled": true
   },
   "outputs": [
    {
     "name": "stderr",
     "output_type": "stream",
     "text": [
      "c:\\program files\\python37\\lib\\site-packages\\ipykernel_launcher.py:24: UserWarning: The `nb_epoch` argument in `fit` has been renamed `epochs`.\n"
     ]
    },
    {
     "name": "stdout",
     "output_type": "stream",
     "text": [
      "Train on 900 samples, validate on 100 samples\n",
      "Epoch 1/100\n",
      "900/900 [==============================] - 1s 961us/step - loss: 0.2465 - val_loss: 0.0710\n",
      "Epoch 2/100\n",
      "900/900 [==============================] - 1s 853us/step - loss: 0.0799 - val_loss: 0.0628\n",
      "Epoch 3/100\n",
      "900/900 [==============================] - 1s 871us/step - loss: 0.0682 - val_loss: 0.0511\n",
      "Epoch 4/100\n",
      "900/900 [==============================] - 1s 851us/step - loss: 0.0536 - val_loss: 0.0359\n",
      "Epoch 5/100\n",
      "900/900 [==============================] - 1s 825us/step - loss: 0.0390 - val_loss: 0.0272\n",
      "Epoch 6/100\n",
      "900/900 [==============================] - 1s 817us/step - loss: 0.0340 - val_loss: 0.0256\n",
      "Epoch 7/100\n",
      "900/900 [==============================] - 1s 819us/step - loss: 0.0332 - val_loss: 0.0252\n",
      "Epoch 8/100\n",
      "900/900 [==============================] - 1s 831us/step - loss: 0.0326 - val_loss: 0.0247\n",
      "Epoch 9/100\n",
      "900/900 [==============================] - 1s 834us/step - loss: 0.0324 - val_loss: 0.0247\n",
      "Epoch 10/100\n",
      "900/900 [==============================] - 1s 835us/step - loss: 0.0323 - val_loss: 0.0247\n",
      "Epoch 00010: early stopping\n"
     ]
    },
    {
     "name": "stderr",
     "output_type": "stream",
     "text": [
      "c:\\program files\\python37\\lib\\site-packages\\ipykernel_launcher.py:24: UserWarning: The `nb_epoch` argument in `fit` has been renamed `epochs`.\n"
     ]
    },
    {
     "name": "stdout",
     "output_type": "stream",
     "text": [
      "Train on 900 samples, validate on 100 samples\n",
      "Epoch 1/100\n",
      "900/900 [==============================] - 1s 957us/step - loss: 0.5851 - val_loss: 0.0712\n",
      "Epoch 2/100\n",
      "900/900 [==============================] - 1s 880us/step - loss: 0.0827 - val_loss: 0.0736\n",
      "Epoch 00002: early stopping\n"
     ]
    },
    {
     "name": "stderr",
     "output_type": "stream",
     "text": [
      "c:\\program files\\python37\\lib\\site-packages\\ipykernel_launcher.py:24: UserWarning: The `nb_epoch` argument in `fit` has been renamed `epochs`.\n"
     ]
    },
    {
     "name": "stdout",
     "output_type": "stream",
     "text": [
      "Train on 900 samples, validate on 100 samples\n",
      "Epoch 1/100\n",
      "900/900 [==============================] - 1s 918us/step - loss: 0.0708 - val_loss: 0.0381\n",
      "Epoch 2/100\n",
      "900/900 [==============================] - 1s 807us/step - loss: 0.0485 - val_loss: 0.0300\n",
      "Epoch 3/100\n",
      "900/900 [==============================] - 1s 810us/step - loss: 0.0392 - val_loss: 0.0264\n",
      "Epoch 4/100\n",
      "900/900 [==============================] - 1s 812us/step - loss: 0.0351 - val_loss: 0.0253\n",
      "Epoch 5/100\n",
      "900/900 [==============================] - 1s 944us/step - loss: 0.0334 - val_loss: 0.0250\n",
      "Epoch 6/100\n",
      "900/900 [==============================] - 1s 946us/step - loss: 0.0326 - val_loss: 0.0250\n",
      "Epoch 7/100\n",
      "900/900 [==============================] - 1s 824us/step - loss: 0.0323 - val_loss: 0.0250\n",
      "Epoch 8/100\n",
      "900/900 [==============================] - 1s 814us/step - loss: 0.0319 - val_loss: 0.0246\n",
      "Epoch 9/100\n",
      "900/900 [==============================] - 1s 860us/step - loss: 0.0314 - val_loss: 0.0250\n",
      "Epoch 00009: early stopping\n"
     ]
    },
    {
     "name": "stderr",
     "output_type": "stream",
     "text": [
      "c:\\program files\\python37\\lib\\site-packages\\ipykernel_launcher.py:24: UserWarning: The `nb_epoch` argument in `fit` has been renamed `epochs`.\n"
     ]
    },
    {
     "name": "stdout",
     "output_type": "stream",
     "text": [
      "Train on 900 samples, validate on 100 samples\n",
      "Epoch 1/100\n",
      "900/900 [==============================] - 1s 931us/step - loss: 0.6382 - val_loss: 0.0659\n",
      "Epoch 2/100\n",
      "900/900 [==============================] - 1s 831us/step - loss: 0.0683 - val_loss: 0.0675\n",
      "Epoch 00002: early stopping\n"
     ]
    },
    {
     "name": "stderr",
     "output_type": "stream",
     "text": [
      "c:\\program files\\python37\\lib\\site-packages\\ipykernel_launcher.py:24: UserWarning: The `nb_epoch` argument in `fit` has been renamed `epochs`.\n"
     ]
    },
    {
     "name": "stdout",
     "output_type": "stream",
     "text": [
      "Train on 900 samples, validate on 100 samples\n",
      "Epoch 1/100\n",
      "900/900 [==============================] - 1s 903us/step - loss: 0.0962 - val_loss: 0.0704\n",
      "Epoch 2/100\n",
      "900/900 [==============================] - 1s 816us/step - loss: 0.0781 - val_loss: 0.0571\n",
      "Epoch 3/100\n",
      "900/900 [==============================] - 1s 960us/step - loss: 0.0635 - val_loss: 0.0483\n",
      "Epoch 4/100\n",
      "900/900 [==============================] - 1s 1ms/step - loss: 0.0512 - val_loss: 0.0421\n",
      "Epoch 5/100\n",
      "900/900 [==============================] - 1s 1ms/step - loss: 0.0420 - val_loss: 0.0293\n",
      "Epoch 6/100\n",
      "900/900 [==============================] - 1s 1ms/step - loss: 0.0367 - val_loss: 0.0286\n",
      "Epoch 7/100\n",
      "900/900 [==============================] - 1s 1ms/step - loss: 0.0350 - val_loss: 0.0263\n",
      "Epoch 8/100\n",
      "900/900 [==============================] - 1s 1ms/step - loss: 0.0341 - val_loss: 0.0260\n",
      "Epoch 9/100\n",
      "900/900 [==============================] - 1s 819us/step - loss: 0.0332 - val_loss: 0.0259\n",
      "Epoch 10/100\n",
      "900/900 [==============================] - 1s 822us/step - loss: 0.0332 - val_loss: 0.0254\n",
      "Epoch 11/100\n",
      "900/900 [==============================] - 1s 887us/step - loss: 0.0328 - val_loss: 0.0252\n",
      "Epoch 12/100\n",
      "900/900 [==============================] - 1s 849us/step - loss: 0.0326 - val_loss: 0.0248\n",
      "Epoch 13/100\n",
      "900/900 [==============================] - 1s 882us/step - loss: 0.0324 - val_loss: 0.0247\n",
      "Epoch 14/100\n",
      "900/900 [==============================] - 1s 849us/step - loss: 0.0321 - val_loss: 0.0247\n",
      "Epoch 15/100\n",
      "900/900 [==============================] - 1s 817us/step - loss: 0.0320 - val_loss: 0.0244\n",
      "Epoch 16/100\n",
      "900/900 [==============================] - 1s 884us/step - loss: 0.0318 - val_loss: 0.0243\n",
      "Epoch 17/100\n",
      "900/900 [==============================] - 1s 963us/step - loss: 0.0314 - val_loss: 0.0241\n",
      "Epoch 18/100\n",
      "900/900 [==============================] - 1s 1ms/step - loss: 0.0313 - val_loss: 0.0259\n",
      "Epoch 00018: early stopping\n"
     ]
    },
    {
     "name": "stderr",
     "output_type": "stream",
     "text": [
      "c:\\program files\\python37\\lib\\site-packages\\ipykernel_launcher.py:24: UserWarning: The `nb_epoch` argument in `fit` has been renamed `epochs`.\n"
     ]
    },
    {
     "name": "stdout",
     "output_type": "stream",
     "text": [
      "Train on 900 samples, validate on 100 samples\n",
      "Epoch 1/100\n",
      "900/900 [==============================] - 1s 1ms/step - loss: 0.1533 - val_loss: 0.0738\n",
      "Epoch 2/100\n",
      "900/900 [==============================] - 1s 833us/step - loss: 0.0717 - val_loss: 0.0518\n",
      "Epoch 3/100\n",
      "900/900 [==============================] - 1s 858us/step - loss: 0.0593 - val_loss: 0.0427\n",
      "Epoch 4/100\n",
      "900/900 [==============================] - 1s 849us/step - loss: 0.0499 - val_loss: 0.0394\n",
      "Epoch 5/100\n",
      "900/900 [==============================] - 1s 889us/step - loss: 0.0441 - val_loss: 0.0333\n",
      "Epoch 6/100\n",
      "900/900 [==============================] - 1s 893us/step - loss: 0.0406 - val_loss: 0.0300\n",
      "Epoch 7/100\n",
      "900/900 [==============================] - 1s 944us/step - loss: 0.0381 - val_loss: 0.0292\n",
      "Epoch 8/100\n",
      "900/900 [==============================] - 1s 903us/step - loss: 0.0360 - val_loss: 0.0277\n",
      "Epoch 9/100\n",
      "900/900 [==============================] - 1s 908us/step - loss: 0.0350 - val_loss: 0.0282\n",
      "Epoch 00009: early stopping\n"
     ]
    },
    {
     "name": "stderr",
     "output_type": "stream",
     "text": [
      "c:\\program files\\python37\\lib\\site-packages\\ipykernel_launcher.py:24: UserWarning: The `nb_epoch` argument in `fit` has been renamed `epochs`.\n"
     ]
    },
    {
     "name": "stdout",
     "output_type": "stream",
     "text": [
      "Train on 900 samples, validate on 100 samples\n",
      "Epoch 1/100\n",
      "900/900 [==============================] - 1s 942us/step - loss: 0.0806 - val_loss: 0.0566\n",
      "Epoch 2/100\n",
      "900/900 [==============================] - 1s 810us/step - loss: 0.0608 - val_loss: 0.0457\n",
      "Epoch 3/100\n",
      "900/900 [==============================] - 1s 870us/step - loss: 0.0521 - val_loss: 0.0354\n",
      "Epoch 4/100\n",
      "900/900 [==============================] - 1s 1ms/step - loss: 0.0449 - val_loss: 0.0327\n",
      "Epoch 5/100\n",
      "900/900 [==============================] - 1s 1ms/step - loss: 0.0402 - val_loss: 0.0287\n",
      "Epoch 6/100\n",
      "900/900 [==============================] - 1s 813us/step - loss: 0.0374 - val_loss: 0.0267\n",
      "Epoch 7/100\n",
      "900/900 [==============================] - 1s 962us/step - loss: 0.0361 - val_loss: 0.0263\n",
      "Epoch 8/100\n",
      "900/900 [==============================] - 1s 894us/step - loss: 0.0348 - val_loss: 0.0260\n",
      "Epoch 9/100\n",
      "900/900 [==============================] - 1s 1ms/step - loss: 0.0337 - val_loss: 0.0257\n",
      "Epoch 10/100\n",
      "900/900 [==============================] - 1s 896us/step - loss: 0.0335 - val_loss: 0.0260\n",
      "Epoch 00010: early stopping\n"
     ]
    },
    {
     "name": "stderr",
     "output_type": "stream",
     "text": [
      "c:\\program files\\python37\\lib\\site-packages\\ipykernel_launcher.py:24: UserWarning: The `nb_epoch` argument in `fit` has been renamed `epochs`.\n"
     ]
    },
    {
     "name": "stdout",
     "output_type": "stream",
     "text": [
      "Train on 900 samples, validate on 100 samples\n",
      "Epoch 1/100\n",
      "900/900 [==============================] - 1s 1ms/step - loss: 0.1015 - val_loss: 0.0703\n",
      "Epoch 2/100\n",
      "900/900 [==============================] - 1s 911us/step - loss: 0.0630 - val_loss: 0.0406\n",
      "Epoch 3/100\n",
      "900/900 [==============================] - 1s 1ms/step - loss: 0.0423 - val_loss: 0.0305\n",
      "Epoch 4/100\n",
      "900/900 [==============================] - 1s 816us/step - loss: 0.0375 - val_loss: 0.0289\n",
      "Epoch 5/100\n",
      "900/900 [==============================] - 1s 967us/step - loss: 0.0362 - val_loss: 0.0281\n",
      "Epoch 6/100\n",
      "900/900 [==============================] - 1s 933us/step - loss: 0.0355 - val_loss: 0.0274\n",
      "Epoch 7/100\n",
      "900/900 [==============================] - 1s 922us/step - loss: 0.0344 - val_loss: 0.0269\n",
      "Epoch 8/100\n",
      "900/900 [==============================] - 1s 833us/step - loss: 0.0343 - val_loss: 0.0269\n",
      "Epoch 00008: early stopping\n"
     ]
    },
    {
     "name": "stderr",
     "output_type": "stream",
     "text": [
      "c:\\program files\\python37\\lib\\site-packages\\ipykernel_launcher.py:24: UserWarning: The `nb_epoch` argument in `fit` has been renamed `epochs`.\n"
     ]
    },
    {
     "name": "stdout",
     "output_type": "stream",
     "text": [
      "Train on 900 samples, validate on 100 samples\n",
      "Epoch 1/100\n",
      "900/900 [==============================] - 1s 1ms/step - loss: 0.2525 - val_loss: 0.0810\n",
      "Epoch 2/100\n",
      "900/900 [==============================] - 1s 861us/step - loss: 0.0857 - val_loss: 0.0711\n",
      "Epoch 3/100\n",
      "900/900 [==============================] - 1s 967us/step - loss: 0.0735 - val_loss: 0.0593\n",
      "Epoch 4/100\n",
      "900/900 [==============================] - 1s 902us/step - loss: 0.0606 - val_loss: 0.0445\n",
      "Epoch 5/100\n",
      "900/900 [==============================] - 1s 1ms/step - loss: 0.0473 - val_loss: 0.0325\n",
      "Epoch 6/100\n",
      "900/900 [==============================] - 1s 867us/step - loss: 0.0378 - val_loss: 0.0293\n",
      "Epoch 7/100\n",
      "900/900 [==============================] - 1s 923us/step - loss: 0.0337 - val_loss: 0.0250\n",
      "Epoch 8/100\n",
      "900/900 [==============================] - 1s 875us/step - loss: 0.0328 - val_loss: 0.0244\n",
      "Epoch 9/100\n",
      "900/900 [==============================] - 1s 899us/step - loss: 0.0312 - val_loss: 0.0252\n",
      "Epoch 00009: early stopping\n"
     ]
    },
    {
     "name": "stderr",
     "output_type": "stream",
     "text": [
      "c:\\program files\\python37\\lib\\site-packages\\ipykernel_launcher.py:24: UserWarning: The `nb_epoch` argument in `fit` has been renamed `epochs`.\n"
     ]
    },
    {
     "name": "stdout",
     "output_type": "stream",
     "text": [
      "Train on 900 samples, validate on 100 samples\n",
      "Epoch 1/100\n",
      "900/900 [==============================] - 1s 1ms/step - loss: 0.4637 - val_loss: 0.0848\n",
      "Epoch 2/100\n",
      "900/900 [==============================] - 1s 854us/step - loss: 0.0920 - val_loss: 0.0753\n",
      "Epoch 3/100\n",
      "900/900 [==============================] - 1s 893us/step - loss: 0.0868 - val_loss: 0.0714\n",
      "Epoch 4/100\n",
      "900/900 [==============================] - 1s 940us/step - loss: 0.0817 - val_loss: 0.0681\n",
      "Epoch 5/100\n",
      "900/900 [==============================] - 1s 922us/step - loss: 0.0748 - val_loss: 0.0580\n",
      "Epoch 6/100\n",
      "900/900 [==============================] - 1s 915us/step - loss: 0.0653 - val_loss: 0.0491\n",
      "Epoch 7/100\n",
      "900/900 [==============================] - 1s 914us/step - loss: 0.0537 - val_loss: 0.0391\n",
      "Epoch 8/100\n",
      "900/900 [==============================] - 1s 1ms/step - loss: 0.0449 - val_loss: 0.0335\n",
      "Epoch 9/100\n",
      "900/900 [==============================] - 1s 1ms/step - loss: 0.0402 - val_loss: 0.0306\n",
      "Epoch 10/100\n",
      "900/900 [==============================] - 1s 1ms/step - loss: 0.0383 - val_loss: 0.0293\n",
      "Epoch 11/100\n",
      "900/900 [==============================] - 1s 997us/step - loss: 0.0374 - val_loss: 0.0290\n",
      "Epoch 12/100\n",
      "900/900 [==============================] - 1s 1ms/step - loss: 0.0364 - val_loss: 0.0283\n",
      "Epoch 13/100\n",
      "900/900 [==============================] - 1s 1ms/step - loss: 0.0356 - val_loss: 0.0277\n",
      "Epoch 14/100\n",
      "900/900 [==============================] - 1s 908us/step - loss: 0.0351 - val_loss: 0.0274\n",
      "Epoch 15/100\n",
      "900/900 [==============================] - 1s 939us/step - loss: 0.0343 - val_loss: 0.0292\n",
      "Epoch 00015: early stopping\n"
     ]
    }
   ],
   "source": [
    "\n",
    "def train_3_layer_NN (train_input, train_output, val_input, val_output, \n",
    "                      learning_rate, regu_strength, num_neurons_layer1, num_neurons_layer2): \n",
    "    dim_InputData =5\n",
    "    num_neurons_output=1\n",
    "    \n",
    "    model = Sequential()  \n",
    "    model.add(Dense( num_neurons_layer1, \n",
    "                     input_shape=(dim_InputData,),\n",
    "                     activation='sigmoid',\n",
    "                     kernel_regularizer=regularizers.l1(regu_strength),  # regularizer l2 norm  defalt 0.01\n",
    "                   ) )  \n",
    "    model.add(Dense(num_neurons_layer2))\n",
    "    model.add(Dense(num_neurons_output))\n",
    "\n",
    "    model.compile(loss='mean_squared_error', optimizer=Adam(lr=learning_rate)  )\n",
    "\n",
    "    es = EarlyStopping(monitor='val_loss', verbose=1)  # mode='min', \n",
    "    \n",
    "    history=model.fit(train_input, train_output, \n",
    "                      validation_data=(val_input, val_output), #validation_split=0.1, \n",
    "                      nb_epoch=100, \n",
    "                      batch_size=1, \n",
    "                      verbose=1,\n",
    "                      callbacks = [es]\n",
    "                     )\n",
    "\n",
    "    return model, history\n",
    "\n",
    "\n",
    "\n",
    " \n",
    "def num_neurons_validation_3layers (how_many_iterations, train_in_noise2, train_out_noise2, val_in_noise2, val_out_noise2, test_in_noise2, test_out_noise2,\n",
    "                            learning_rate, regu_strength, num_neurons_layer1, num_neurons_layer2_list):\n",
    "    val_MSE_list= []\n",
    "    test_MSE_list =[]\n",
    "    train_MSE_list =[]\n",
    "    time_3lay =[]\n",
    "    \n",
    "    for i in range (0, len (num_neurons_layer2_list) ):\n",
    "        val= []\n",
    "        test= []\n",
    "        train = []\n",
    "        tm= []\n",
    "        \n",
    "        for j in range (0, how_many_iterations): \n",
    "            start_time = time.time()\n",
    "            \n",
    "            model_lay3, model_history = train_3_layer_NN (train_in_noise2, train_out_noise2, val_in_noise2, val_out_noise2,  \n",
    "                                                          learning_rate, \n",
    "                                                          regu_strength, \n",
    "                                                          num_neurons_layer1, \n",
    "                                                          num_neurons_layer2_list[i])\n",
    "            end_time = time.time()\n",
    "            time_spent= end_time - start_time\n",
    "            tm.append (time_spent)\n",
    "            \n",
    "            val_MSE = model_history.history['val_loss'][-1]\n",
    "            val.append (val_MSE)\n",
    "            \n",
    "            train_MSE = model_history.history['loss'][-1]\n",
    "            train.append (train_MSE)  \n",
    "        \n",
    "            prediction = predict (model_lay3, test_in_noise2)\n",
    "            test_MSE = mse (test_out_noise2, prediction) \n",
    "            test.append (test_MSE)\n",
    "       \n",
    "        val_MSE_list.append (mean (val))\n",
    "        test_MSE_list.append (mean (test) )\n",
    "        train_MSE_list.append (mean(train))\n",
    "        time_3lay.append (mean (tm) )\n",
    "        \n",
    "    return val_MSE_list, test_MSE_list , train_MSE_list, time_3lay\n",
    "\n",
    "learning_rate = 0.001\n",
    "num_neurons_layer1 =3\n",
    "num_neurons_layer2_list = [2] #[1,2,3,4,5,6,7,8]\n",
    "regu_strength = 0.0001\n",
    "how_many_iterations=10\n",
    "valMSE_of_NumNeurons_3lay, testMSE_of_NumNeurons_3lay , trainMSE_of_NumNeurons_3lay, time_3lay =num_neurons_validation_3layers (how_many_iterations, train_in_noise2, train_out_noise2, val_in_noise2, val_out_noise2, test_in_noise2, test_out_noise2,\n",
    "                                                learning_rate, regu_strength, num_neurons_layer1, num_neurons_layer2_list)\n",
    "\n"
   ]
  },
  {
   "cell_type": "code",
   "execution_count": 52,
   "metadata": {},
   "outputs": [
    {
     "name": "stdout",
     "output_type": "stream",
     "text": [
      "[0.03523068297951249] [0.044616743832166995] [0.0414218210987294] [8.017285227775574]\n"
     ]
    }
   ],
   "source": [
    "print (valMSE_of_NumNeurons_3lay, testMSE_of_NumNeurons_3lay , trainMSE_of_NumNeurons_3lay, time_3lay)"
   ]
  },
  {
   "cell_type": "code",
   "execution_count": null,
   "metadata": {},
   "outputs": [],
   "source": []
  },
  {
   "cell_type": "code",
   "execution_count": 8,
   "metadata": {},
   "outputs": [
    {
     "name": "stdout",
     "output_type": "stream",
     "text": [
      "(1, 1000)\n",
      "(1, 1000)\n",
      "(1, 1, 1000)\n",
      "(1, 1, 1000)\n",
      "(1, 1, 200)\n",
      "(1, 1, 200)\n"
     ]
    },
    {
     "data": {
      "image/png": "[encoded data removed]",
      "text/plain": [
       "<Figure size 432x288 with 1 Axes>"
      ]
     },
     "metadata": {
      "needs_background": "light"
     },
     "output_type": "display_data"
    },
    {
     "data": {
      "image/png": "[encoded data removed]",
      "text/plain": [
       "<Figure size 432x288 with 1 Axes>"
      ]
     },
     "metadata": {
      "needs_background": "light"
     },
     "output_type": "display_data"
    }
   ],
   "source": []
  },
  {
   "cell_type": "code",
   "execution_count": null,
   "metadata": {},
   "outputs": [],
   "source": []
  }
 ],
 "metadata": {
  "kernelspec": {
   "display_name": "Python 3",
   "language": "python",
   "name": "python3"
  },
  "language_info": {
   "codemirror_mode": {
    "name": "ipython",
    "version": 3
   },
   "file_extension": ".py",
   "mimetype": "text/x-python",
   "name": "python",
   "nbconvert_exporter": "python",
   "pygments_lexer": "ipython3",
   "version": "3.7.0"
  }
 },
 "nbformat": 4,
 "nbformat_minor": 2
}
